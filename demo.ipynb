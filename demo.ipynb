{
  "cells": [
    {
      "cell_type": "markdown",
      "metadata": {
        "colab_type": "text",
        "id": "view-in-github"
      },
      "source": [
        "<a href=\"https://colab.research.google.com/github/UW-CTRL/stljax/blob/main/demo.ipynb\" target=\"_parent\"><img src=\"https://colab.research.google.com/assets/colab-badge.svg\" alt=\"Open In Colab\"/></a>"
      ]
    },
    {
      "cell_type": "markdown",
      "metadata": {
        "id": "Ym9wI1PDEH34"
      },
      "source": [
        "If running in colab, in a cell, run the following command:\n",
        "\n",
        "`!pip install --upgrade git+https://github.com/UW-CTRL/stljax.git`"
      ]
    },
    {
      "cell_type": "code",
      "execution_count": 1,
      "metadata": {
        "colab": {
          "base_uri": "https://localhost:8080/"
        },
        "id": "bP3ZmMocCRef",
        "outputId": "e8ce448d-f09a-4ac2-fb0b-75a9e927aafe"
      },
      "outputs": [],
      "source": [
        "import jax\n",
        "import jax.numpy as jnp\n",
        "import numpy as np\n",
        "import matplotlib.pyplot as plt\n",
        "from stljax.formula import *\n",
        "from stljax.viz import *\n",
        "\n",
        "import functools"
      ]
    },
    {
      "cell_type": "markdown",
      "metadata": {
        "id": "nSqJZK4OCReg"
      },
      "source": [
        "## NOTE\n",
        "If using Expressions to define formulas, `stljax` expects input signals to be of size `[time_dim]`.\n",
        "If using Predicates to define formulas, `stljax` expects input signals to be of size `[time_dim, state_dim]` where `state_dim` is the expected input size of your predicate function.\n",
        "\n",
        "Note: With the `mask` version, we do not need to worry about reversing the signal."
      ]
    },
    {
      "cell_type": "code",
      "execution_count": 4,
      "metadata": {
        "id": "8zoZeNnFCReg"
      },
      "outputs": [],
      "source": [
        "#  some helper functions\n",
        "\n",
        "@jax.jit\n",
        "def dynamics_discrete_step(state, control, dt=0.1):\n",
        "    '''Single integrator 2d dynamics'''\n",
        "    return state + control * dt\n",
        "\n",
        "@jax.jit\n",
        "def simulate_dynamics(controls, state0, dt):\n",
        "    T = controls.shape[0]\n",
        "    _states = [state0]\n",
        "    for t in range(T):\n",
        "        _states.append(dynamics_discrete_step(_states[-1], controls[t,:], dt))\n",
        "    return jnp.concatenate(_states, 0)\n",
        "\n",
        "@jax.jit\n",
        "def compute_distance_to_origin(states):\n",
        "    return jnp.linalg.norm(states[...,:2], axis=-1, keepdims=True)"
      ]
    },
    {
      "cell_type": "code",
      "execution_count": 5,
      "metadata": {
        "colab": {
          "base_uri": "https://localhost:8080/",
          "height": 499
        },
        "id": "enRG3dDrCReh",
        "outputId": "af9bcb65-ca49-48bb-b268-9bb5dc04d8f6"
      },
      "outputs": [
        {
          "data": {
            "text/plain": [
              "(np.float64(-2.8336225271224977),\n",
              " np.float64(0.658743929862976),\n",
              " np.float64(-2.5266865134239196),\n",
              " np.float64(0.6441279292106629))"
            ]
          },
          "execution_count": 5,
          "metadata": {},
          "output_type": "execute_result"
        },
        {
          "data": {
            "image/png": "[encoded data removed]",
            "text/plain": [
              "<Figure size 640x480 with 1 Axes>"
            ]
          },
          "metadata": {},
          "output_type": "display_data"
        }
      ],
      "source": [
        "# In this example, using a control sequence to generate a state trajectory\n",
        "T = 25  # time horizon\n",
        "dt = 0.1\n",
        "time_dim = 1 # axis corresponding to time dimension\n",
        "np.random.seed(123)\n",
        "controls = jnp.array(np.random.randn(T,2))   # generate control sequence\n",
        "state0 = jnp.array(np.random.randn(1,2)) - 1.0   # initial state\n",
        "states = simulate_dynamics(controls, state0, dt)   # simulate state trajectory\n",
        "\n",
        "# plotting the trajectory (should look noisy/random)\n",
        "fig, ax = plt.subplots()\n",
        "ax.plot(*states.T)\n",
        "ax.scatter(states[0,:1], states[0,1:], label=\"start\")\n",
        "ax.scatter(states[-1,:1], states[-1,1:], label=\"end\")\n",
        "circle1 = plt.Circle((0, 0), 0.5, color='C2', alpha=0.4)\n",
        "ax.add_patch(circle1)\n",
        "\n",
        "plt.xlim([-5,1])\n",
        "plt.ylim([-4,1])\n",
        "plt.legend()\n",
        "plt.grid()\n",
        "plt.axis(\"equal\")\n"
      ]
    },
    {
      "cell_type": "markdown",
      "metadata": {
        "id": "oYow-oBfCReh"
      },
      "source": [
        "## Using Expressions"
      ]
    },
    {
      "cell_type": "code",
      "execution_count": 6,
      "metadata": {
        "colab": {
          "base_uri": "https://localhost:8080/"
        },
        "id": "pgkKR6e4CReh",
        "outputId": "8d27aa1b-022e-4689-d001-3b0af39b8ae5"
      },
      "outputs": [
        {
          "name": "stdout",
          "output_type": "stream",
          "text": [
            "Robustness trace:  [-2.2557175 -2.2557175 -2.2557175 -2.2557175 -2.2557175 -2.2557175\n",
            " -2.2557175 -2.2557175 -2.2557175 -2.2557175 -2.2557175 -2.2557175\n",
            " -2.256407  -2.3951554 -2.4112952 -2.477519  -2.5186005 -2.5186005\n",
            " -2.5186005 -2.5186005 -2.5186005 -2.5186005 -2.5186005 -2.5186005\n",
            " -2.5186005 -2.5186005]\n",
            "Robustness value:  -2.2557175\n"
          ]
        }
      ],
      "source": [
        "# first define Expression (with None value)\n",
        "# NOTE: Expressions are used for setting up predicates.\n",
        "#       The values associated with an Expression is more for convenience.\n",
        "#       You can use a jnp.array directly when evaluating a formula, rather than using an Expression with values populated.\n",
        "distance_to_origin_exp = Expression(\"magnitude\", value=None)\n",
        "\n",
        "# formula Eventually distance to origin is less than 0.5\n",
        "formula_exp = Eventually(distance_to_origin_exp < 0.5)\n",
        "\n",
        "\n",
        "# this will throw error since the Expression value is None.\n",
        "# (commented out for convenience in running the notebook)\n",
        "# formula(distance_to_origin_exp)\n",
        "\n",
        "# setting value for\n",
        "states_norm = compute_distance_to_origin(states)   # compute distance to origin, size [1, 26, 1]\n",
        "\n",
        "distance_to_origin_exp.set_value(states_norm)   # set value for Expression\n",
        "\n",
        "\n",
        "# compute robustness trace and value\n",
        "# inputs are Expression objects\n",
        "# since reverse=False, stljax will automatically time reverse the input signal, and warn user about it.\n",
        "\n",
        "# robustness trace\n",
        "print(\"Robustness trace: \", formula_exp(distance_to_origin_exp).squeeze())\n",
        "\n",
        "# robustness value\n",
        "print(\"Robustness value: \", formula_exp.robustness(distance_to_origin_exp).squeeze())\n"
      ]
    },
    {
      "cell_type": "code",
      "execution_count": 7,
      "metadata": {
        "id": "S3xuqsYvCRei"
      },
      "outputs": [
        {
          "name": "stdout",
          "output_type": "stream",
          "text": [
            "5.6 μs ± 123 ns per loop (mean ± std. dev. of 7 runs, 100,000 loops each)\n",
            "8.6 μs ± 102 ns per loop (mean ± std. dev. of 7 runs, 100,000 loops each)\n"
          ]
        }
      ],
      "source": [
        "# we can jit the robustness function and its gradient.\n",
        "f = jax.jit(formula_exp.robustness)\n",
        "g = jax.jit(jax.grad(f))\n",
        "\n",
        "# measure the time it takes to compute a forward and backward pass\n",
        "# very fast!\n",
        "%timeit f(distance_to_origin_exp.value)\n",
        "%timeit g(distance_to_origin_exp.value)"
      ]
    },
    {
      "cell_type": "code",
      "execution_count": 8,
      "metadata": {},
      "outputs": [
        {
          "data": {
            "text/plain": [
              "(Array([0.4814521 , 0.49946868, 0.45444584, 0.44981503], dtype=float32),\n",
              " Array([[-0., -0., -0., -0., -0., -0., -0., -0., -0., -1., -0., -0., -0.,\n",
              "         -0., -0., -0., -0., -0., -0., -0., -0., -0., -0., -0., -0.],\n",
              "        [-0., -0., -0., -0., -0., -0., -0., -0., -0., -0., -0., -0., -0.,\n",
              "         -0., -0., -0., -0., -0., -0., -0., -0., -1., -0., -0., -0.],\n",
              "        [-0., -0., -0., -0., -0., -0., -0., -0., -0., -0., -0., -0., -0.,\n",
              "         -0., -0., -0., -0., -0., -0., -0., -0., -1., -0., -0., -0.],\n",
              "        [-0., -0., -0., -0., -0., -0., -0., -1., -0., -0., -0., -0., -0.,\n",
              "         -0., -0., -0., -0., -0., -0., -0., -0., -0., -0., -0., -0.]],      dtype=float32))"
            ]
          },
          "execution_count": 8,
          "metadata": {},
          "output_type": "execute_result"
        }
      ],
      "source": [
        "# we can batch the computation\n",
        "bs = 4\n",
        "key = jax.random.PRNGKey(123)  # Random seed is explicit in JAX\n",
        "signals = jax.random.uniform(key, shape=(bs, T)) \n",
        "\n",
        "jax.vmap(f)(signals), jax.vmap(g)(signals)"
      ]
    },
    {
      "cell_type": "code",
      "execution_count": 9,
      "metadata": {},
      "outputs": [
        {
          "data": {
            "text/plain": [
              "Array([[-0.02582416, -0.0514056 , -0.01276034, -0.04622918, -0.03386938,\n",
              "        -0.06998569, -0.05163663, -0.06342276, -0.03815436, -0.07147011,\n",
              "        -0.01940775, -0.05362437, -0.04669334, -0.03519493, -0.0166717 ,\n",
              "        -0.02356261, -0.02027061, -0.00810847, -0.04404066, -0.06902726,\n",
              "        -0.04640958, -0.04664499, -0.03303727, -0.03973469, -0.03281348],\n",
              "       [-0.06602133, -0.0323073 , -0.01701606, -0.02895677, -0.01675591,\n",
              "        -0.03107198, -0.02742128, -0.04578061, -0.01740972, -0.07078583,\n",
              "        -0.04380497, -0.06857068, -0.01038632, -0.00757802, -0.04489319,\n",
              "        -0.0553256 , -0.04845608, -0.0576579 , -0.01687001, -0.04463371,\n",
              "        -0.02515552, -0.07106859, -0.06927916, -0.00785302, -0.07494054],\n",
              "       [-0.0698043 , -0.01172489, -0.03137346, -0.07852152, -0.03564867,\n",
              "        -0.06827941, -0.01655721, -0.03844461, -0.01342334, -0.03133292,\n",
              "        -0.0134404 , -0.02768762, -0.03235616, -0.03376853, -0.02919685,\n",
              "        -0.06583954, -0.05004779, -0.02036106, -0.01206894, -0.01921945,\n",
              "        -0.07753026, -0.0851762 , -0.05762396, -0.03871985, -0.04185297],\n",
              "       [-0.03141921, -0.02370912, -0.01929593, -0.04155137, -0.01883044,\n",
              "        -0.05980545, -0.03337944, -0.09266003, -0.03492882, -0.03324058,\n",
              "        -0.05988078, -0.06018983, -0.02499974, -0.01668277, -0.02550981,\n",
              "        -0.0155309 , -0.07851798, -0.01412536, -0.06788316, -0.04530248,\n",
              "        -0.02928593, -0.02955182, -0.01892633, -0.03209555, -0.09269717]],      dtype=float32)"
            ]
          },
          "execution_count": 9,
          "metadata": {},
          "output_type": "execute_result"
        }
      ],
      "source": [
        "# We can apply different max/min approximations\n",
        "bs = 4\n",
        "key = jax.random.PRNGKey(123)  # Random seed is explicit in JAX\n",
        "signals = jax.random.uniform(key, shape=(bs, T)) # shape [bs, T]\n",
        "\n",
        "# Default: approx_method=\"true\" -- taking gradient using the true min/max function\n",
        "jax.vmap(jax.grad(formula_exp.robustness))(signals)\n",
        "\n",
        "# taking gradient using a min/max approximation method (specify method and temperature), and the gradients should be \"spread\" to other indices as well\n",
        "\n",
        "# logsumexp approximation\n",
        "foo = functools.partial(formula_exp.robustness, approx_method=\"logsumexp\", temperature=1.) \n",
        "jax.vmap(jax.grad(foo))(signals)\n",
        "\n",
        "# # softmax approximation\n",
        "foo = functools.partial(formula_exp.robustness, approx_method=\"softmax\", temperature=1.) \n",
        "jax.vmap(jax.grad(foo))(signals)\n"
      ]
    },
    {
      "cell_type": "markdown",
      "metadata": {
        "id": "bUfGQOrGCRei"
      },
      "source": [
        "## Using Predicates\n",
        "\n",
        "Alternatively, we can define the predicate function of an STL formula where predicate function is μ: Rⁿ → R and the input is an n-dimensional signal."
      ]
    },
    {
      "cell_type": "code",
      "execution_count": 7,
      "metadata": {
        "colab": {
          "base_uri": "https://localhost:8080/"
        },
        "id": "zdhRJXV1CRei",
        "outputId": "82fdef6f-4f62-4f20-d447-65ba69843e25"
      },
      "outputs": [
        {
          "name": "stdout",
          "output_type": "stream",
          "text": [
            "Robustness trace:  [-2.2557175 -2.2557175 -2.2557175 -2.2557175 -2.2557175 -2.2557175\n",
            " -2.2557175 -2.2557175 -2.2557175 -2.2557175 -2.2557175 -2.2557175\n",
            " -2.256407  -2.3951554 -2.4112952 -2.477519  -2.5186005 -2.5186005\n",
            " -2.5186005 -2.5186005 -2.5186005 -2.5186005 -2.5186005 -2.5186005\n",
            " -2.5186005 -2.5186005]\n",
            "Robustness value:  -2.2557175\n"
          ]
        }
      ],
      "source": [
        "distance_to_origin_pred = Predicate(\"magnitude\", predicate_function=compute_distance_to_origin)\n",
        "formula_pred = Eventually(distance_to_origin_pred < 0.5)\n",
        "\n",
        "formula_pred(states).squeeze()\n",
        "\n",
        "# compute robustness trace and value\n",
        "# inputs are jnp.arrays\n",
        "# robustness trace\n",
        "print(\"Robustness trace: \", formula_pred(states).squeeze() )\n",
        "\n",
        "# robustness value\n",
        "print(\"Robustness value: \", formula_pred.robustness(states).squeeze())"
      ]
    },
    {
      "cell_type": "code",
      "execution_count": 11,
      "metadata": {
        "id": "CHpFtaVnCRei"
      },
      "outputs": [
        {
          "name": "stdout",
          "output_type": "stream",
          "text": [
            "6.36 μs ± 387 ns per loop (mean ± std. dev. of 7 runs, 100,000 loops each)\n",
            "9.35 μs ± 189 ns per loop (mean ± std. dev. of 7 runs, 100,000 loops each)\n"
          ]
        }
      ],
      "source": [
        "# we can jit the robustness function and its gradient.\n",
        "f = jax.jit(formula_pred.robustness)\n",
        "g = jax.jit(jax.grad(f))\n",
        "\n",
        "# measure the time it takes to compute a forward and backward pass\n",
        "# very fast!\n",
        "%timeit f(states)\n",
        "%timeit g(states)"
      ]
    },
    {
      "cell_type": "code",
      "execution_count": 12,
      "metadata": {
        "colab": {
          "base_uri": "https://localhost:8080/"
        },
        "id": "M170nntGCRei",
        "outputId": "6e2a4aea-6f7f-47f8-c319-d05cadb5a2cb"
      },
      "outputs": [
        {
          "data": {
            "text/plain": [
              "(Array([0.4808055 , 0.16095048, 0.35008496, 0.2274302 ], dtype=float32),\n",
              " Array([[[-0.        , -0.        ],\n",
              "         [-0.        , -0.        ],\n",
              "         [-0.        , -0.        ],\n",
              "         [-0.        , -0.        ],\n",
              "         [-0.        , -0.        ],\n",
              "         [-0.        , -0.        ],\n",
              "         [-0.        , -0.        ],\n",
              "         [-0.        , -0.        ],\n",
              "         [-0.        , -0.        ],\n",
              "         [-0.        , -0.        ],\n",
              "         [-0.        , -0.        ],\n",
              "         [-0.        , -0.        ],\n",
              "         [-0.        , -0.        ],\n",
              "         [-0.        , -0.        ],\n",
              "         [-0.        , -0.        ],\n",
              "         [-0.        , -0.        ],\n",
              "         [-0.        , -0.        ],\n",
              "         [-0.        , -0.        ],\n",
              "         [-0.        , -0.        ],\n",
              "         [-0.        , -0.        ],\n",
              "         [-0.        , -0.        ],\n",
              "         [-0.        , -0.        ],\n",
              "         [-0.        , -0.        ],\n",
              "         [-0.5642942 , -0.82557374],\n",
              "         [-0.        , -0.        ]],\n",
              " \n",
              "        [[-0.        , -0.        ],\n",
              "         [-0.        , -0.        ],\n",
              "         [-0.        , -0.        ],\n",
              "         [-0.        , -0.        ],\n",
              "         [-0.        , -0.        ],\n",
              "         [-0.        , -0.        ],\n",
              "         [-0.        , -0.        ],\n",
              "         [-0.        , -0.        ],\n",
              "         [-0.        , -0.        ],\n",
              "         [-0.        , -0.        ],\n",
              "         [-0.        , -0.        ],\n",
              "         [-0.        , -0.        ],\n",
              "         [-0.        , -0.        ],\n",
              "         [-0.        , -0.        ],\n",
              "         [-0.        , -0.        ],\n",
              "         [-0.        , -0.        ],\n",
              "         [-0.        , -0.        ],\n",
              "         [-0.        , -0.        ],\n",
              "         [-0.        , -0.        ],\n",
              "         [-0.        , -0.        ],\n",
              "         [-0.        , -0.        ],\n",
              "         [-0.        , -0.        ],\n",
              "         [-0.46162838, -0.8870734 ],\n",
              "         [-0.        , -0.        ],\n",
              "         [-0.        , -0.        ]],\n",
              " \n",
              "        [[-0.        , -0.        ],\n",
              "         [-0.        , -0.        ],\n",
              "         [-0.        , -0.        ],\n",
              "         [-0.        , -0.        ],\n",
              "         [-0.        , -0.        ],\n",
              "         [-0.        , -0.        ],\n",
              "         [-0.        , -0.        ],\n",
              "         [-0.        , -0.        ],\n",
              "         [-0.        , -0.        ],\n",
              "         [-0.        , -0.        ],\n",
              "         [-0.        , -0.        ],\n",
              "         [-0.        , -0.        ],\n",
              "         [-0.        , -0.        ],\n",
              "         [-0.        , -0.        ],\n",
              "         [-0.        , -0.        ],\n",
              "         [-0.        , -0.        ],\n",
              "         [-0.        , -0.        ],\n",
              "         [-0.        , -0.        ],\n",
              "         [-0.        , -0.        ],\n",
              "         [-0.        , -0.        ],\n",
              "         [-0.        , -0.        ],\n",
              "         [-0.9965015 , -0.08357489],\n",
              "         [-0.        , -0.        ],\n",
              "         [-0.        , -0.        ],\n",
              "         [-0.        , -0.        ]],\n",
              " \n",
              "        [[-0.        , -0.        ],\n",
              "         [-0.        , -0.        ],\n",
              "         [-0.        , -0.        ],\n",
              "         [-0.        , -0.        ],\n",
              "         [-0.        , -0.        ],\n",
              "         [-0.        , -0.        ],\n",
              "         [-0.        , -0.        ],\n",
              "         [-0.        , -0.        ],\n",
              "         [-0.        , -0.        ],\n",
              "         [-0.        , -0.        ],\n",
              "         [-0.        , -0.        ],\n",
              "         [-0.        , -0.        ],\n",
              "         [-0.        , -0.        ],\n",
              "         [-0.        , -0.        ],\n",
              "         [-0.        , -0.        ],\n",
              "         [-0.        , -0.        ],\n",
              "         [-0.        , -0.        ],\n",
              "         [-0.        , -0.        ],\n",
              "         [-0.        , -0.        ],\n",
              "         [-0.        , -0.        ],\n",
              "         [-0.        , -0.        ],\n",
              "         [-0.        , -0.        ],\n",
              "         [-0.        , -0.        ],\n",
              "         [-0.5923696 , -0.8056663 ],\n",
              "         [-0.        , -0.        ]]], dtype=float32))"
            ]
          },
          "execution_count": 12,
          "metadata": {},
          "output_type": "execute_result"
        }
      ],
      "source": [
        "# we can batch the computation\n",
        "bs = 4\n",
        "key = jax.random.PRNGKey(123)  # Random seed is explicit in JAX\n",
        "signals = jax.random.uniform(key, shape=(bs, T, 2)) \n",
        "\n",
        "jax.vmap(f)(signals), jax.vmap(g)(signals)"
      ]
    },
    {
      "cell_type": "code",
      "execution_count": 13,
      "metadata": {},
      "outputs": [
        {
          "data": {
            "text/plain": [
              "Array([[[-0.02352086, -0.02653968],\n",
              "        [-0.01435679, -0.00693523],\n",
              "        [-0.03308038, -0.01781628],\n",
              "        [-0.01722912, -0.02483274],\n",
              "        [-0.04262575, -0.06899171],\n",
              "        [-0.0105945 , -0.01726518],\n",
              "        [-0.02208826, -0.01126937],\n",
              "        [-0.02735491, -0.02297586],\n",
              "        [-0.01796402, -0.00646728],\n",
              "        [-0.02368197, -0.00658443],\n",
              "        [-0.01846283, -0.01260185],\n",
              "        [-0.05555077, -0.02745588],\n",
              "        [-0.00655061, -0.0230543 ],\n",
              "        [-0.07459132, -0.04124878],\n",
              "        [-0.01915025, -0.02961909],\n",
              "        [-0.01502226, -0.00939996],\n",
              "        [-0.01998683, -0.01625802],\n",
              "        [-0.00708358, -0.00567479],\n",
              "        [-0.01812643, -0.01658712],\n",
              "        [-0.01440577, -0.00744342],\n",
              "        [-0.05441307, -0.07690613],\n",
              "        [-0.00256752, -0.01885604],\n",
              "        [-0.08005733, -0.02827522],\n",
              "        [-0.07011323, -0.10257705],\n",
              "        [-0.02251863, -0.02088918]],\n",
              "\n",
              "       [[-0.0288817 , -0.04554031],\n",
              "        [-0.02986922, -0.03051575],\n",
              "        [-0.06544525, -0.0120479 ],\n",
              "        [-0.05150944, -0.03064507],\n",
              "        [-0.01373286, -0.01273497],\n",
              "        [-0.01047864, -0.02845001],\n",
              "        [-0.0125201 , -0.03490231],\n",
              "        [-0.02127206, -0.01206193],\n",
              "        [-0.00927833, -0.02261019],\n",
              "        [-0.02714585, -0.05306787],\n",
              "        [-0.01446127, -0.00606696],\n",
              "        [-0.00537809, -0.02302884],\n",
              "        [-0.0235438 , -0.00923518],\n",
              "        [-0.0158476 , -0.00633811],\n",
              "        [-0.03734772, -0.01784552],\n",
              "        [-0.04300226, -0.04666027],\n",
              "        [-0.03669007, -0.02190299],\n",
              "        [-0.05762413, -0.00766001],\n",
              "        [-0.02510785, -0.01035139],\n",
              "        [-0.01190622, -0.00796054],\n",
              "        [-0.00665629, -0.01547243],\n",
              "        [-0.01100077, -0.01839606],\n",
              "        [-0.03262926, -0.06270097],\n",
              "        [-0.01855177, -0.05273074],\n",
              "        [-0.07838853, -0.04113434]],\n",
              "\n",
              "       [[-0.01167339, -0.02134102],\n",
              "        [-0.05936034, -0.03223828],\n",
              "        [-0.01480538, -0.02571858],\n",
              "        [-0.00940478, -0.02955442],\n",
              "        [-0.02773137, -0.00883445],\n",
              "        [-0.00646909, -0.05561024],\n",
              "        [-0.04886941, -0.02358606],\n",
              "        [-0.02293241, -0.01577896],\n",
              "        [-0.01866045, -0.02070966],\n",
              "        [-0.01848573, -0.02131906],\n",
              "        [-0.01669237, -0.01865314],\n",
              "        [-0.03718995, -0.01123359],\n",
              "        [-0.01240873, -0.00944648],\n",
              "        [-0.0190175 , -0.03663538],\n",
              "        [-0.02860874, -0.00258437],\n",
              "        [-0.01791863, -0.00819362],\n",
              "        [-0.01327199, -0.01249256],\n",
              "        [-0.05429133, -0.08259395],\n",
              "        [-0.0474679 , -0.00997441],\n",
              "        [-0.00964289, -0.01495654],\n",
              "        [-0.01428238, -0.0178033 ],\n",
              "        [-0.10850457, -0.00910009],\n",
              "        [-0.02777518, -0.05727986],\n",
              "        [-0.01082244, -0.01753074],\n",
              "        [-0.04805903, -0.02802218]],\n",
              "\n",
              "       [[-0.01940999, -0.03582613],\n",
              "        [-0.02017951, -0.01958448],\n",
              "        [-0.04156577, -0.02017255],\n",
              "        [-0.02964688, -0.00185195],\n",
              "        [-0.00766283, -0.07021606],\n",
              "        [-0.00951366, -0.01608   ],\n",
              "        [-0.00285715, -0.02878935],\n",
              "        [-0.02630167, -0.0143526 ],\n",
              "        [-0.01493212, -0.01433359],\n",
              "        [-0.00281592, -0.02805223],\n",
              "        [-0.01263587, -0.02154564],\n",
              "        [-0.00839119, -0.01035679],\n",
              "        [-0.00894236, -0.01246331],\n",
              "        [-0.00970442, -0.02231573],\n",
              "        [-0.03043569, -0.04590179],\n",
              "        [-0.0218413 , -0.0091681 ],\n",
              "        [-0.0386564 , -0.08243714],\n",
              "        [-0.0380757 , -0.00910007],\n",
              "        [-0.02410734, -0.04115387],\n",
              "        [-0.00632994, -0.06267686],\n",
              "        [-0.02284043, -0.02331491],\n",
              "        [-0.0064186 , -0.03530146],\n",
              "        [-0.02465762, -0.02741359],\n",
              "        [-0.06220399, -0.08460201],\n",
              "        [-0.04395318, -0.02402879]]], dtype=float32)"
            ]
          },
          "execution_count": 13,
          "metadata": {},
          "output_type": "execute_result"
        }
      ],
      "source": [
        "# We can apply different max/min approximations\n",
        "bs = 4\n",
        "key = jax.random.PRNGKey(123)  # Random seed is explicit in JAX\n",
        "signals = jax.random.uniform(key, shape=(bs, T, 2)) # shape [bs, T, state_dim]\n",
        "\n",
        "# Default: approx_method=\"true\" -- taking gradient using the true min/max function\n",
        "jax.vmap(jax.grad(formula_pred.robustness))(signals)\n",
        "\n",
        "# taking gradient using a min/max approximation method (specify method and temperature), and the gradients should be \"spread\" to other indices as well\n",
        "\n",
        "# logsumexp approximation\n",
        "foo = functools.partial(formula_pred.robustness, approx_method=\"logsumexp\", temperature=1.) \n",
        "jax.vmap(jax.grad(foo))(signals)\n",
        "\n",
        "# # softmax approximation\n",
        "foo = functools.partial(formula_pred.robustness, approx_method=\"softmax\", temperature=1.) \n",
        "jax.vmap(jax.grad(foo))(signals)\n"
      ]
    },
    {
      "cell_type": "markdown",
      "metadata": {
        "id": "pMmyk6x2CRej"
      },
      "source": [
        "## Gradient descent to optimize control inputs\n",
        "\n",
        "Now, we can perform gradient descent on the control inputs to make progress towards the formula being true."
      ]
    },
    {
      "cell_type": "markdown",
      "metadata": {
        "id": "pLreo31uCRej"
      },
      "source": [
        "### Using `Expression`"
      ]
    },
    {
      "cell_type": "code",
      "execution_count": 8,
      "metadata": {
        "id": "CGRcCX-kCRej"
      },
      "outputs": [],
      "source": [
        "# set random initial state and control\n",
        "np.random.seed(123)\n",
        "T = 51  # time horizon\n",
        "dt = 0.1 # time step size\n",
        "ts = jnp.array([t * dt for t in range(T)])\n",
        "time_dim = 1\n",
        "umax = 1.0  # max control limit\n",
        "\n",
        "controls = jnp.array(np.random.randn(1,T,2))\n",
        "state0 = jnp.ones(2).reshape([1,2]) * 3.\n",
        "obstacle_center = jnp.ones([1,2]) * 2.\n"
      ]
    },
    {
      "cell_type": "code",
      "execution_count": 9,
      "metadata": {
        "colab": {
          "base_uri": "https://localhost:8080/",
          "height": 340
        },
        "id": "kSKcXrjWCRej",
        "outputId": "99541049-5385-4a64-e9f3-3e71bf7e2007"
      },
      "outputs": [
        {
          "data": {
            "image/svg+xml": [
              "<?xml version=\"1.0\" encoding=\"UTF-8\" standalone=\"no\"?>\n",
              "<!DOCTYPE svg PUBLIC \"-//W3C//DTD SVG 1.1//EN\"\n",
              " \"http://www.w3.org/Graphics/SVG/1.1/DTD/svg11.dtd\">\n",
              "<!-- Generated by graphviz version 11.0.0 (20240428.1522)\n",
              " -->\n",
              "<!-- Pages: 1 -->\n",
              "<svg width=\"559pt\" height=\"248pt\"\n",
              " viewBox=\"0.00 0.00 558.50 247.75\" xmlns=\"http://www.w3.org/2000/svg\" xmlns:xlink=\"http://www.w3.org/1999/xlink\">\n",
              "<g id=\"graph0\" class=\"graph\" transform=\"scale(1 1) rotate(0) translate(4 243.75)\">\n",
              "<polygon fill=\"white\" stroke=\"none\" points=\"-4,4 -4,-243.75 554.5,-243.75 554.5,4 -4,4\"/>\n",
              "<!-- 11388213664 -->\n",
              "<g id=\"node1\" class=\"node\">\n",
              "<title>11388213664</title>\n",
              "<polygon fill=\"orange\" stroke=\"black\" points=\"548.5,-36.5 0,-36.5 0,0 548.5,0 548.5,-36.5\"/>\n",
              "<text text-anchor=\"middle\" x=\"274.25\" y=\"-21.1\" font-family=\"monospace\" font-size=\"12.00\">And</text>\n",
              "<text text-anchor=\"middle\" x=\"274.25\" y=\"-6.85\" font-family=\"monospace\" font-size=\"12.00\">(♢ [0, inf]( magnitude &lt; 0.5 )) ∧ (◻ [0, inf]( distance_to_obs &gt; 0.5 ))</text>\n",
              "</g>\n",
              "<!-- 11388444000 -->\n",
              "<g id=\"node2\" class=\"node\">\n",
              "<title>11388444000</title>\n",
              "<polygon fill=\"orange\" stroke=\"black\" points=\"254,-109 20.5,-109 20.5,-72.5 254,-72.5 254,-109\"/>\n",
              "<text text-anchor=\"middle\" x=\"137.25\" y=\"-93.6\" font-family=\"monospace\" font-size=\"12.00\">Eventually</text>\n",
              "<text text-anchor=\"middle\" x=\"137.25\" y=\"-79.35\" font-family=\"monospace\" font-size=\"12.00\">♢ [0, inf]( magnitude &lt; 0.5 )</text>\n",
              "</g>\n",
              "<!-- 11388444000&#45;&gt;11388213664 -->\n",
              "<g id=\"edge1\" class=\"edge\">\n",
              "<title>11388444000&#45;&gt;11388213664</title>\n",
              "<path fill=\"none\" stroke=\"black\" d=\"M171.47,-72.14C189.12,-63.06 210.87,-51.87 229.81,-42.12\"/>\n",
              "<polygon fill=\"black\" stroke=\"black\" points=\"231.36,-45.26 238.65,-37.57 228.15,-39.03 231.36,-45.26\"/>\n",
              "</g>\n",
              "<!-- 11388443712 -->\n",
              "<g id=\"node3\" class=\"node\">\n",
              "<title>11388443712</title>\n",
              "<polygon fill=\"orange\" stroke=\"black\" points=\"201.5,-181.5 73,-181.5 73,-145 201.5,-145 201.5,-181.5\"/>\n",
              "<text text-anchor=\"middle\" x=\"137.25\" y=\"-166.1\" font-family=\"monospace\" font-size=\"12.00\">LessThan</text>\n",
              "<text text-anchor=\"middle\" x=\"137.25\" y=\"-151.85\" font-family=\"monospace\" font-size=\"12.00\">magnitude &lt; 0.5</text>\n",
              "</g>\n",
              "<!-- 11388443712&#45;&gt;11388444000 -->\n",
              "<g id=\"edge2\" class=\"edge\">\n",
              "<title>11388443712&#45;&gt;11388444000</title>\n",
              "<path fill=\"none\" stroke=\"black\" d=\"M137.25,-144.82C137.25,-137.59 137.25,-129 137.25,-120.86\"/>\n",
              "<polygon fill=\"black\" stroke=\"black\" points=\"140.75,-120.98 137.25,-110.98 133.75,-120.98 140.75,-120.98\"/>\n",
              "</g>\n",
              "<!-- 11388340464 -->\n",
              "<g id=\"node4\" class=\"node\">\n",
              "<title>11388340464</title>\n",
              "<polygon fill=\"lightskyblue\" stroke=\"black\" points=\"136,-239.75 52.5,-239.75 52.5,-217.5 136,-217.5 136,-239.75\"/>\n",
              "<text text-anchor=\"middle\" x=\"94.25\" y=\"-224.35\" font-family=\"monospace\" font-size=\"12.00\">magnitude</text>\n",
              "</g>\n",
              "<!-- 11388340464&#45;&gt;11388443712 -->\n",
              "<g id=\"edge3\" class=\"edge\">\n",
              "<title>11388340464&#45;&gt;11388443712</title>\n",
              "<path fill=\"none\" stroke=\"black\" d=\"M101.35,-217.16C106.12,-210.14 112.63,-200.54 118.8,-191.45\"/>\n",
              "<polygon fill=\"black\" stroke=\"black\" points=\"121.69,-193.42 124.41,-183.18 115.9,-189.49 121.69,-193.42\"/>\n",
              "</g>\n",
              "<!-- 11109345072 -->\n",
              "<g id=\"node5\" class=\"node\">\n",
              "<title>11109345072</title>\n",
              "<polygon fill=\"palegreen\" stroke=\"black\" points=\"208.25,-239.75 154.25,-239.75 154.25,-217.5 208.25,-217.5 208.25,-239.75\"/>\n",
              "<text text-anchor=\"middle\" x=\"181.25\" y=\"-224.35\" font-family=\"monospace\" font-size=\"12.00\">0.5</text>\n",
              "</g>\n",
              "<!-- 11109345072&#45;&gt;11388443712 -->\n",
              "<g id=\"edge4\" class=\"edge\">\n",
              "<title>11109345072&#45;&gt;11388443712</title>\n",
              "<path fill=\"none\" stroke=\"black\" d=\"M173.98,-217.16C169.06,-210.06 162.3,-200.34 155.93,-191.16\"/>\n",
              "<polygon fill=\"black\" stroke=\"black\" points=\"158.96,-189.39 150.38,-183.17 153.21,-193.38 158.96,-189.39\"/>\n",
              "</g>\n",
              "<!-- 11388444192 -->\n",
              "<g id=\"node6\" class=\"node\">\n",
              "<title>11388444192</title>\n",
              "<polygon fill=\"orange\" stroke=\"black\" points=\"550.5,-109 272,-109 272,-72.5 550.5,-72.5 550.5,-109\"/>\n",
              "<text text-anchor=\"middle\" x=\"411.25\" y=\"-93.6\" font-family=\"monospace\" font-size=\"12.00\">Always</text>\n",
              "<text text-anchor=\"middle\" x=\"411.25\" y=\"-79.35\" font-family=\"monospace\" font-size=\"12.00\">◻ [0, inf]( distance_to_obs &gt; 0.5 )</text>\n",
              "</g>\n",
              "<!-- 11388444192&#45;&gt;11388213664 -->\n",
              "<g id=\"edge5\" class=\"edge\">\n",
              "<title>11388444192&#45;&gt;11388213664</title>\n",
              "<path fill=\"none\" stroke=\"black\" d=\"M377.03,-72.14C359.38,-63.06 337.63,-51.87 318.69,-42.12\"/>\n",
              "<polygon fill=\"black\" stroke=\"black\" points=\"320.35,-39.03 309.85,-37.57 317.14,-45.26 320.35,-39.03\"/>\n",
              "</g>\n",
              "<!-- 11388444144 -->\n",
              "<g id=\"node7\" class=\"node\">\n",
              "<title>11388444144</title>\n",
              "<polygon fill=\"orange\" stroke=\"black\" points=\"498,-181.5 324.5,-181.5 324.5,-145 498,-145 498,-181.5\"/>\n",
              "<text text-anchor=\"middle\" x=\"411.25\" y=\"-166.1\" font-family=\"monospace\" font-size=\"12.00\">GreaterThan</text>\n",
              "<text text-anchor=\"middle\" x=\"411.25\" y=\"-151.85\" font-family=\"monospace\" font-size=\"12.00\">distance_to_obs &gt; 0.5</text>\n",
              "</g>\n",
              "<!-- 11388444144&#45;&gt;11388444192 -->\n",
              "<g id=\"edge6\" class=\"edge\">\n",
              "<title>11388444144&#45;&gt;11388444192</title>\n",
              "<path fill=\"none\" stroke=\"black\" d=\"M411.25,-144.82C411.25,-137.59 411.25,-129 411.25,-120.86\"/>\n",
              "<polygon fill=\"black\" stroke=\"black\" points=\"414.75,-120.98 411.25,-110.98 407.75,-120.98 414.75,-120.98\"/>\n",
              "</g>\n",
              "<!-- 11388444096 -->\n",
              "<g id=\"node8\" class=\"node\">\n",
              "<title>11388444096</title>\n",
              "<polygon fill=\"lightskyblue\" stroke=\"black\" points=\"421.5,-239.75 293,-239.75 293,-217.5 421.5,-217.5 421.5,-239.75\"/>\n",
              "<text text-anchor=\"middle\" x=\"357.25\" y=\"-224.35\" font-family=\"monospace\" font-size=\"12.00\">distance_to_obs</text>\n",
              "</g>\n",
              "<!-- 11388444096&#45;&gt;11388444144 -->\n",
              "<g id=\"edge7\" class=\"edge\">\n",
              "<title>11388444096&#45;&gt;11388444144</title>\n",
              "<path fill=\"none\" stroke=\"black\" d=\"M366.17,-217.16C372.34,-209.91 380.85,-199.93 388.82,-190.58\"/>\n",
              "<polygon fill=\"black\" stroke=\"black\" points=\"391.39,-192.96 395.21,-183.08 386.06,-188.42 391.39,-192.96\"/>\n",
              "</g>\n",
              "<!-- 11109338256 -->\n",
              "<g id=\"node9\" class=\"node\">\n",
              "<title>11109338256</title>\n",
              "<polygon fill=\"palegreen\" stroke=\"black\" points=\"493.25,-239.75 439.25,-239.75 439.25,-217.5 493.25,-217.5 493.25,-239.75\"/>\n",
              "<text text-anchor=\"middle\" x=\"466.25\" y=\"-224.35\" font-family=\"monospace\" font-size=\"12.00\">0.5</text>\n",
              "</g>\n",
              "<!-- 11109338256&#45;&gt;11388444144 -->\n",
              "<g id=\"edge8\" class=\"edge\">\n",
              "<title>11109338256&#45;&gt;11388444144</title>\n",
              "<path fill=\"none\" stroke=\"black\" d=\"M457.17,-217.16C450.88,-209.91 442.21,-199.93 434.1,-190.58\"/>\n",
              "<polygon fill=\"black\" stroke=\"black\" points=\"436.78,-188.33 427.58,-183.07 431.49,-192.91 436.78,-188.33\"/>\n",
              "</g>\n",
              "</g>\n",
              "</svg>\n"
            ],
            "text/plain": [
              "<graphviz.graphs.Digraph at 0x2a6cddeb0>"
            ]
          },
          "execution_count": 9,
          "metadata": {},
          "output_type": "execute_result"
        }
      ],
      "source": [
        "# defining formula\n",
        "distance_to_origin = Expression(\"magnitude\", None)\n",
        "distance_to_obstacle = Expression(\"distance_to_obs\", None)\n",
        "reach = Eventually(distance_to_origin < 0.5)\n",
        "avoid = Always(distance_to_obstacle > 0.5)\n",
        "formula = reach & avoid\n",
        "\n",
        "make_stl_graph(formula)\n"
      ]
    },
    {
      "cell_type": "code",
      "execution_count": 10,
      "metadata": {
        "colab": {
          "base_uri": "https://localhost:8080/"
        },
        "id": "h9D-hcY8CRej",
        "outputId": "de267035-5188-41a2-de4a-fc5e29e78c00"
      },
      "outputs": [
        {
          "data": {
            "text/plain": [
              "(Array(6.845453, dtype=float32), Array(6.995544, dtype=float32))"
            ]
          },
          "execution_count": 10,
          "metadata": {},
          "output_type": "execute_result"
        }
      ],
      "source": [
        "@functools.partial(jax.jit, static_argnames=(\"approx_method\"))\n",
        "def loss(controls, state0, umax, dt, coeffs=[1., 0.1, 5.], approx_method=\"true\", temperature=None):\n",
        "    # generate trajectory from control sequence \n",
        "    traj = simulate_dynamics(controls, state0, dt)\n",
        "    # compute distance_to_origin and distance_to_obstacle\n",
        "    distance_to_origin_signal = jnp.linalg.norm(traj, axis=-1)\n",
        "    distance_to_obstacle_signal = jnp.linalg.norm(traj - obstacle_center, axis=-1)\n",
        "    # loss functions\n",
        "    input_signal = (distance_to_origin_signal, distance_to_obstacle_signal)\n",
        "    loss_robustness = jax.nn.relu(-formula.robustness(input_signal, approx_method=approx_method, temperature=temperature))\n",
        "    loss_control_smoothness = (jnp.diff(controls, axis=1)**2).sum(-1).mean()  # make controls smoother\n",
        "    loss_control_limits = jax.nn.relu(jnp.linalg.norm(controls, axis=-1) - umax).mean()   # penalize control limit violation\n",
        "    return coeffs[0] * loss_robustness + coeffs[1] * loss_control_smoothness + coeffs[2] * loss_control_limits\n",
        "\n",
        "# @jax.jit\n",
        "def true_robustness(controls, state0, dt):\n",
        "    # generate trajectory from control sequence and reverse along time dimension\n",
        "    # user has to manually reverse it since we are inputing jnp.array to compute robustness, instead of an Expression\n",
        "    traj = simulate_dynamics(controls, state0, dt)\n",
        "    # compute distance_to_origin and distance_to_obstacle\n",
        "    distance_to_origin_signal = jnp.linalg.norm(traj, axis=-1)\n",
        "    distance_to_obstacle_signal = jnp.linalg.norm(traj - obstacle_center, axis=-1)\n",
        "    # loss functions\n",
        "    input_signal = (distance_to_origin_signal, distance_to_obstacle_signal)\n",
        "    return formula.robustness(input_signal)\n",
        "\n",
        "def temperature_schedule(i, i_max, start_temp, end_temp, scale=5):\n",
        "    i_ = i\n",
        "    center = i_max / 2\n",
        "    return jax.nn.sigmoid((i_ - center) / scale) * (end_temp - start_temp) + start_temp\n",
        "\n",
        "# compare true value with max/min approximation\n",
        "loss(controls, state0, umax, dt), loss(controls, state0, umax, dt, approx_method=\"softmax\", temperature=5)"
      ]
    },
    {
      "cell_type": "code",
      "execution_count": 11,
      "metadata": {
        "id": "clBy6pVHCRej"
      },
      "outputs": [],
      "source": [
        "controls = jnp.array(np.random.randn(T,2))\n",
        "\n",
        "states_ = [simulate_dynamics(controls, state0, dt)]\n",
        "lr = 0.5 # learning rate\n",
        "approx_method = \"true\"\n",
        "n_steps = 1000   # number of gradient steps\n",
        "n_steps_extra = 10\n",
        "coeffs = [1., 0.1, 5.]\n",
        "\n",
        "# jit the gradient function to speed things up (by A LOT).\n",
        "grad_jit = jax.jit(jax.grad(loss, 0), static_argnames=\"approx_method\")\n",
        "# temperature schedule parameters\n",
        "start_temp = 50\n",
        "end_temp = 500\n",
        "scale = 5\n"
      ]
    },
    {
      "cell_type": "code",
      "execution_count": 12,
      "metadata": {
        "colab": {
          "base_uri": "https://localhost:8080/"
        },
        "id": "knWf1b-6CRej",
        "outputId": "ceff89d5-88ce-4951-c202-dcf375e2f00b"
      },
      "outputs": [
        {
          "name": "stdout",
          "output_type": "stream",
          "text": [
            "  0 -- true robustness: -3.68   smoothness: 1.81    control limits: 0.34\n",
            " 50 -- true robustness: -0.04   smoothness: 0.36    control limits: 0.03\n",
            "100 -- true robustness: 0.07   smoothness: 0.26    control limits: 0.00\n",
            "150 -- true robustness: 0.05   smoothness: 0.20    control limits: 0.00\n",
            "200 -- true robustness: 0.07   smoothness: 0.16    control limits: 0.00\n",
            "250 -- true robustness: 0.06   smoothness: 0.13    control limits: 0.00\n",
            "300 -- true robustness: 0.04   smoothness: 0.11    control limits: 0.00\n",
            "350 -- true robustness: 0.04   smoothness: 0.09    control limits: 0.00\n",
            "400 -- true robustness: 0.04   smoothness: 0.08    control limits: 0.00\n",
            "450 -- true robustness: 0.03   smoothness: 0.07    control limits: 0.00\n",
            "500 -- true robustness: 0.03   smoothness: 0.07    control limits: 0.00\n",
            "550 -- true robustness: 0.03   smoothness: 0.06    control limits: 0.00\n",
            "600 -- true robustness: 0.02   smoothness: 0.06    control limits: 0.00\n",
            "650 -- true robustness: 0.03   smoothness: 0.06    control limits: 0.00\n",
            "700 -- true robustness: 0.02   smoothness: 0.06    control limits: 0.00\n",
            "750 -- true robustness: 0.01   smoothness: 0.06    control limits: 0.00\n",
            "800 -- true robustness: 0.01   smoothness: 0.05    control limits: 0.00\n",
            "850 -- true robustness: 0.01   smoothness: 0.06    control limits: 0.00\n",
            "900 -- true robustness: 0.03   smoothness: 0.07    control limits: 0.00\n",
            "950 -- true robustness: 0.07   smoothness: 0.08    control limits: 0.00\n"
          ]
        }
      ],
      "source": [
        "temperatures = temperature_schedule(jnp.arange(n_steps), n_steps, start_temp, end_temp, scale)\n",
        "for i in range(n_steps):\n",
        "    temperature = temperature_schedule(i, n_steps, start_temp, end_temp, scale)\n",
        "    g = grad_jit(controls, state0, umax, dt, coeffs, approx_method, temperatures[i])   # take gradient\n",
        "    controls -= g * lr\n",
        "    states_.append(simulate_dynamics(controls, state0, dt))\n",
        "    if (i % 50) == 0:\n",
        "        print(\"%3i -- true robustness: %.2f   smoothness: %.2f    control limits: %.2f\"%(i, true_robustness(controls, state0, dt), loss(controls, state0, umax, dt, coeffs=[0., 1., 0.]), loss(controls, state0, umax, dt, coeffs=[0., 0., 1.])))\n"
      ]
    },
    {
      "cell_type": "code",
      "execution_count": 13,
      "metadata": {
        "colab": {
          "base_uri": "https://localhost:8080/",
          "height": 530
        },
        "id": "krMVpNDNCRej",
        "outputId": "123b59bc-a063-45d5-b576-d420ea714a8e"
      },
      "outputs": [
        {
          "data": {
            "text/plain": [
              "Text(0, 0.5, 'Controls')"
            ]
          },
          "execution_count": 13,
          "metadata": {},
          "output_type": "execute_result"
        },
        {
          "data": {
            "image/png": "[encoded data removed]",
            "text/plain": [
              "<Figure size 1500x400 with 3 Axes>"
            ]
          },
          "metadata": {},
          "output_type": "display_data"
        }
      ],
      "source": [
        "fig, axs = plt.subplots(1,3, figsize=(15,4)) # note we must use plt.subplots, not plt.subplot\n",
        "\n",
        "ax = axs[0]\n",
        "circle1 = plt.Circle((0, 0), 0.5, color='C2', alpha=0.4)\n",
        "circle2 = plt.Circle(obstacle_center[0], 0.5, color='C3', alpha=0.4)\n",
        "\n",
        "ax.add_patch(circle1)\n",
        "ax.add_patch(circle2)\n",
        "\n",
        "N = 100\n",
        "[ax.plot(*s.T, color=\"k\", alpha=0.2) for s in states_[::N]]\n",
        "[ax.plot(*s.T, color=\"blue\", label=\"Initial traj\") for s in states_[:1]]\n",
        "[ax.plot(*s.T, color=\"r\", label=\"Final traj\") for s in states_[-1:]]\n",
        "\n",
        "ax.scatter(states_[-1][0,:1], states_[-1][0,1:], zorder=10, label=\"start\", color=\"red\")\n",
        "ax.scatter(states_[-1][-1,:1], states_[-1][-1,1:], zorder=10, label=\"end\", color=\"green\")\n",
        "\n",
        "ax.set_xlabel(\"x position\")\n",
        "ax.set_ylabel(\"y position\")\n",
        "ax.grid()\n",
        "ax.legend()\n",
        "ax.axis(\"equal\")\n",
        "\n",
        "# plot x, y\n",
        "ax = axs[1]\n",
        "ax.plot(ts, states_[-1][:-1,:1], label=\"x\")\n",
        "ax.plot(ts, states_[-1][:-1,1:], label=\"y\")\n",
        "ax.grid()\n",
        "ax.axis(\"equal\")\n",
        "ax.legend()\n",
        "ax.set_xlabel(\"Time (s)\")\n",
        "ax.set_ylabel(\"Position\")\n",
        "\n",
        "\n",
        "# plot control signal\n",
        "ax = axs[2]\n",
        "ax.plot(ts, controls[:,:1], label=\"x control\")\n",
        "ax.plot(ts, controls[:,1:], label=\"y control\")\n",
        "ax.plot(ts, jnp.linalg.norm(controls, axis=-1).squeeze(), label=\"control norm\")\n",
        "ax.grid()\n",
        "ax.axis(\"equal\")\n",
        "ax.legend()\n",
        "ax.set_xlabel(\"Time (s)\")\n",
        "ax.set_ylabel(\"Controls\")\n"
      ]
    },
    {
      "cell_type": "markdown",
      "metadata": {
        "id": "Scv5PRbdCRej"
      },
      "source": [
        "### Using Predicates"
      ]
    },
    {
      "cell_type": "code",
      "execution_count": 14,
      "metadata": {
        "id": "7aMIbtVjCRej"
      },
      "outputs": [],
      "source": [
        "# set random initial state and control\n",
        "np.random.seed(123)\n",
        "T = 51  # time horizon\n",
        "dt = 0.1 # time step size\n",
        "ts = jnp.array([t * dt for t in range(T)])\n",
        "time_dim = 1\n",
        "umax = 1.0  # max control limit\n",
        "\n",
        "controls = jnp.array(np.random.randn(T,2))\n",
        "state0 = jnp.ones(2).reshape([1,2]) * 3.\n",
        "obstacle_center = jnp.ones([1,2]) * 2.\n"
      ]
    },
    {
      "cell_type": "code",
      "execution_count": 15,
      "metadata": {
        "colab": {
          "base_uri": "https://localhost:8080/",
          "height": 340
        },
        "id": "JVViQbSrCRej",
        "outputId": "146e982c-2fba-4ff7-d3a5-2f4a03a0eb54"
      },
      "outputs": [
        {
          "data": {
            "image/svg+xml": [
              "<?xml version=\"1.0\" encoding=\"UTF-8\" standalone=\"no\"?>\n",
              "<!DOCTYPE svg PUBLIC \"-//W3C//DTD SVG 1.1//EN\"\n",
              " \"http://www.w3.org/Graphics/SVG/1.1/DTD/svg11.dtd\">\n",
              "<!-- Generated by graphviz version 11.0.0 (20240428.1522)\n",
              " -->\n",
              "<!-- Pages: 1 -->\n",
              "<svg width=\"559pt\" height=\"248pt\"\n",
              " viewBox=\"0.00 0.00 558.50 247.75\" xmlns=\"http://www.w3.org/2000/svg\" xmlns:xlink=\"http://www.w3.org/1999/xlink\">\n",
              "<g id=\"graph0\" class=\"graph\" transform=\"scale(1 1) rotate(0) translate(4 243.75)\">\n",
              "<polygon fill=\"white\" stroke=\"none\" points=\"-4,4 -4,-243.75 554.5,-243.75 554.5,4 -4,4\"/>\n",
              "<!-- 11568302944 -->\n",
              "<g id=\"node1\" class=\"node\">\n",
              "<title>11568302944</title>\n",
              "<polygon fill=\"orange\" stroke=\"black\" points=\"548.5,-36.5 0,-36.5 0,0 548.5,0 548.5,-36.5\"/>\n",
              "<text text-anchor=\"middle\" x=\"274.25\" y=\"-21.1\" font-family=\"monospace\" font-size=\"12.00\">And</text>\n",
              "<text text-anchor=\"middle\" x=\"274.25\" y=\"-6.85\" font-family=\"monospace\" font-size=\"12.00\">(♢ [0, inf]( magnitude &lt; 0.5 )) ∧ (◻ [0, inf]( distance_to_obs &gt; 0.5 ))</text>\n",
              "</g>\n",
              "<!-- 11568492000 -->\n",
              "<g id=\"node2\" class=\"node\">\n",
              "<title>11568492000</title>\n",
              "<polygon fill=\"orange\" stroke=\"black\" points=\"254,-109 20.5,-109 20.5,-72.5 254,-72.5 254,-109\"/>\n",
              "<text text-anchor=\"middle\" x=\"137.25\" y=\"-93.6\" font-family=\"monospace\" font-size=\"12.00\">Eventually</text>\n",
              "<text text-anchor=\"middle\" x=\"137.25\" y=\"-79.35\" font-family=\"monospace\" font-size=\"12.00\">♢ [0, inf]( magnitude &lt; 0.5 )</text>\n",
              "</g>\n",
              "<!-- 11568492000&#45;&gt;11568302944 -->\n",
              "<g id=\"edge1\" class=\"edge\">\n",
              "<title>11568492000&#45;&gt;11568302944</title>\n",
              "<path fill=\"none\" stroke=\"black\" d=\"M171.47,-72.14C189.12,-63.06 210.87,-51.87 229.81,-42.12\"/>\n",
              "<polygon fill=\"black\" stroke=\"black\" points=\"231.36,-45.26 238.65,-37.57 228.15,-39.03 231.36,-45.26\"/>\n",
              "</g>\n",
              "<!-- 11568493584 -->\n",
              "<g id=\"node3\" class=\"node\">\n",
              "<title>11568493584</title>\n",
              "<polygon fill=\"orange\" stroke=\"black\" points=\"201.5,-181.5 73,-181.5 73,-145 201.5,-145 201.5,-181.5\"/>\n",
              "<text text-anchor=\"middle\" x=\"137.25\" y=\"-166.1\" font-family=\"monospace\" font-size=\"12.00\">LessThan</text>\n",
              "<text text-anchor=\"middle\" x=\"137.25\" y=\"-151.85\" font-family=\"monospace\" font-size=\"12.00\">magnitude &lt; 0.5</text>\n",
              "</g>\n",
              "<!-- 11568493584&#45;&gt;11568492000 -->\n",
              "<g id=\"edge2\" class=\"edge\">\n",
              "<title>11568493584&#45;&gt;11568492000</title>\n",
              "<path fill=\"none\" stroke=\"black\" d=\"M137.25,-144.82C137.25,-137.59 137.25,-129 137.25,-120.86\"/>\n",
              "<polygon fill=\"black\" stroke=\"black\" points=\"140.75,-120.98 137.25,-110.98 133.75,-120.98 140.75,-120.98\"/>\n",
              "</g>\n",
              "<!-- 11546665920 -->\n",
              "<g id=\"node4\" class=\"node\">\n",
              "<title>11546665920</title>\n",
              "<polygon fill=\"palegreen\" stroke=\"black\" points=\"136,-239.75 52.5,-239.75 52.5,-217.5 136,-217.5 136,-239.75\"/>\n",
              "<text text-anchor=\"middle\" x=\"94.25\" y=\"-224.35\" font-family=\"monospace\" font-size=\"12.00\">magnitude</text>\n",
              "</g>\n",
              "<!-- 11546665920&#45;&gt;11568493584 -->\n",
              "<g id=\"edge3\" class=\"edge\">\n",
              "<title>11546665920&#45;&gt;11568493584</title>\n",
              "<path fill=\"none\" stroke=\"black\" d=\"M101.35,-217.16C106.12,-210.14 112.63,-200.54 118.8,-191.45\"/>\n",
              "<polygon fill=\"black\" stroke=\"black\" points=\"121.69,-193.42 124.41,-183.18 115.9,-189.49 121.69,-193.42\"/>\n",
              "</g>\n",
              "<!-- 11109345680 -->\n",
              "<g id=\"node5\" class=\"node\">\n",
              "<title>11109345680</title>\n",
              "<polygon fill=\"palegreen\" stroke=\"black\" points=\"208.25,-239.75 154.25,-239.75 154.25,-217.5 208.25,-217.5 208.25,-239.75\"/>\n",
              "<text text-anchor=\"middle\" x=\"181.25\" y=\"-224.35\" font-family=\"monospace\" font-size=\"12.00\">0.5</text>\n",
              "</g>\n",
              "<!-- 11109345680&#45;&gt;11568493584 -->\n",
              "<g id=\"edge4\" class=\"edge\">\n",
              "<title>11109345680&#45;&gt;11568493584</title>\n",
              "<path fill=\"none\" stroke=\"black\" d=\"M173.98,-217.16C169.06,-210.06 162.3,-200.34 155.93,-191.16\"/>\n",
              "<polygon fill=\"black\" stroke=\"black\" points=\"158.96,-189.39 150.38,-183.17 153.21,-193.38 158.96,-189.39\"/>\n",
              "</g>\n",
              "<!-- 11576681792 -->\n",
              "<g id=\"node6\" class=\"node\">\n",
              "<title>11576681792</title>\n",
              "<polygon fill=\"orange\" stroke=\"black\" points=\"550.5,-109 272,-109 272,-72.5 550.5,-72.5 550.5,-109\"/>\n",
              "<text text-anchor=\"middle\" x=\"411.25\" y=\"-93.6\" font-family=\"monospace\" font-size=\"12.00\">Always</text>\n",
              "<text text-anchor=\"middle\" x=\"411.25\" y=\"-79.35\" font-family=\"monospace\" font-size=\"12.00\">◻ [0, inf]( distance_to_obs &gt; 0.5 )</text>\n",
              "</g>\n",
              "<!-- 11576681792&#45;&gt;11568302944 -->\n",
              "<g id=\"edge5\" class=\"edge\">\n",
              "<title>11576681792&#45;&gt;11568302944</title>\n",
              "<path fill=\"none\" stroke=\"black\" d=\"M377.03,-72.14C359.38,-63.06 337.63,-51.87 318.69,-42.12\"/>\n",
              "<polygon fill=\"black\" stroke=\"black\" points=\"320.35,-39.03 309.85,-37.57 317.14,-45.26 320.35,-39.03\"/>\n",
              "</g>\n",
              "<!-- 11547964048 -->\n",
              "<g id=\"node7\" class=\"node\">\n",
              "<title>11547964048</title>\n",
              "<polygon fill=\"orange\" stroke=\"black\" points=\"498,-181.5 324.5,-181.5 324.5,-145 498,-145 498,-181.5\"/>\n",
              "<text text-anchor=\"middle\" x=\"411.25\" y=\"-166.1\" font-family=\"monospace\" font-size=\"12.00\">GreaterThan</text>\n",
              "<text text-anchor=\"middle\" x=\"411.25\" y=\"-151.85\" font-family=\"monospace\" font-size=\"12.00\">distance_to_obs &gt; 0.5</text>\n",
              "</g>\n",
              "<!-- 11547964048&#45;&gt;11576681792 -->\n",
              "<g id=\"edge6\" class=\"edge\">\n",
              "<title>11547964048&#45;&gt;11576681792</title>\n",
              "<path fill=\"none\" stroke=\"black\" d=\"M411.25,-144.82C411.25,-137.59 411.25,-129 411.25,-120.86\"/>\n",
              "<polygon fill=\"black\" stroke=\"black\" points=\"414.75,-120.98 411.25,-110.98 407.75,-120.98 414.75,-120.98\"/>\n",
              "</g>\n",
              "<!-- 6278746848 -->\n",
              "<g id=\"node8\" class=\"node\">\n",
              "<title>6278746848</title>\n",
              "<polygon fill=\"palegreen\" stroke=\"black\" points=\"421.5,-239.75 293,-239.75 293,-217.5 421.5,-217.5 421.5,-239.75\"/>\n",
              "<text text-anchor=\"middle\" x=\"357.25\" y=\"-224.35\" font-family=\"monospace\" font-size=\"12.00\">distance_to_obs</text>\n",
              "</g>\n",
              "<!-- 6278746848&#45;&gt;11547964048 -->\n",
              "<g id=\"edge7\" class=\"edge\">\n",
              "<title>6278746848&#45;&gt;11547964048</title>\n",
              "<path fill=\"none\" stroke=\"black\" d=\"M366.17,-217.16C372.34,-209.91 380.85,-199.93 388.82,-190.58\"/>\n",
              "<polygon fill=\"black\" stroke=\"black\" points=\"391.39,-192.96 395.21,-183.08 386.06,-188.42 391.39,-192.96\"/>\n",
              "</g>\n",
              "<!-- 11576917264 -->\n",
              "<g id=\"node9\" class=\"node\">\n",
              "<title>11576917264</title>\n",
              "<polygon fill=\"palegreen\" stroke=\"black\" points=\"493.25,-239.75 439.25,-239.75 439.25,-217.5 493.25,-217.5 493.25,-239.75\"/>\n",
              "<text text-anchor=\"middle\" x=\"466.25\" y=\"-224.35\" font-family=\"monospace\" font-size=\"12.00\">0.5</text>\n",
              "</g>\n",
              "<!-- 11576917264&#45;&gt;11547964048 -->\n",
              "<g id=\"edge8\" class=\"edge\">\n",
              "<title>11576917264&#45;&gt;11547964048</title>\n",
              "<path fill=\"none\" stroke=\"black\" d=\"M457.17,-217.16C450.88,-209.91 442.21,-199.93 434.1,-190.58\"/>\n",
              "<polygon fill=\"black\" stroke=\"black\" points=\"436.78,-188.33 427.58,-183.07 431.49,-192.91 436.78,-188.33\"/>\n",
              "</g>\n",
              "</g>\n",
              "</svg>\n"
            ],
            "text/plain": [
              "<graphviz.graphs.Digraph at 0x2a6cdddc0>"
            ]
          },
          "execution_count": 15,
          "metadata": {},
          "output_type": "execute_result"
        }
      ],
      "source": [
        "# defining formula\n",
        "\n",
        "def compute_distance_to_point(states, point):\n",
        "    return jnp.linalg.norm(states[...,:2] - point, axis=-1, keepdims=True)\n",
        "\n",
        "def compute_distance_to_origin(states):\n",
        "    return compute_distance_to_point(states, jnp.zeros(2))\n",
        "\n",
        "\n",
        "\n",
        "distance_to_origin = Predicate(\"magnitude\", compute_distance_to_origin)\n",
        "distance_to_obstacle = Predicate(\"distance_to_obs\", lambda x: compute_distance_to_point(x, obstacle_center))\n",
        "reach = Eventually(distance_to_origin < 0.5)\n",
        "avoid = Always(distance_to_obstacle > 0.5)\n",
        "formula = reach & avoid\n",
        "\n",
        "make_stl_graph(formula)\n"
      ]
    },
    {
      "cell_type": "code",
      "execution_count": 16,
      "metadata": {
        "colab": {
          "base_uri": "https://localhost:8080/"
        },
        "id": "Mo_cXd9pCRej",
        "outputId": "c581c88a-8e59-44ae-fa60-7803eea32827"
      },
      "outputs": [
        {
          "data": {
            "text/plain": [
              "(Array(6.3558393, dtype=float32), Array(6.573565, dtype=float32))"
            ]
          },
          "execution_count": 16,
          "metadata": {},
          "output_type": "execute_result"
        }
      ],
      "source": [
        "@functools.partial(jax.jit, static_argnames=(\"approx_method\"))\n",
        "def loss(controls, state0, umax, dt, coeffs=[1., 0.1, 5.], approx_method=\"true\", temperature=None):\n",
        "    # generate trajectory from control sequence and reverse along time dimension\n",
        "    traj = simulate_dynamics(controls, state0, dt)\n",
        "    # loss functions\n",
        "    loss_robustness = jax.nn.relu(-formula.robustness(traj,approx_method=approx_method, temperature=temperature))\n",
        "    loss_control_smoothness = (jnp.diff(controls, axis=1)**2).sum(-1).mean()  # make controls smoother\n",
        "    loss_control_limits = jax.nn.relu(jnp.linalg.norm(controls, axis=-1) - umax).mean()   # penalize control limit violation\n",
        "    return coeffs[0] * loss_robustness + coeffs[1] * loss_control_smoothness + coeffs[2] * loss_control_limits\n",
        "\n",
        "@jax.jit\n",
        "def true_robustness(controls, state0, dt):\n",
        "    # generate trajectory from control sequence and reverse along time dimension\n",
        "    traj = simulate_dynamics(controls, state0, dt)\n",
        "    # loss functions\n",
        "    return formula.robustness(traj).mean()\n",
        "\n",
        "def temperature_schedule(i, i_max, start_temp, end_temp, scale=5):\n",
        "    i_ = i\n",
        "    center = i_max / 2\n",
        "    return jax.nn.sigmoid((i_ - center) / scale) * (end_temp - start_temp) + start_temp\n",
        "\n",
        "# compare true value with max/min approximation\n",
        "loss(controls, state0, umax, dt), loss(controls, state0, umax, dt, approx_method=\"softmax\", temperature=5)"
      ]
    },
    {
      "cell_type": "code",
      "execution_count": 17,
      "metadata": {
        "id": "MInn9AycCRek"
      },
      "outputs": [],
      "source": [
        "states_ = [simulate_dynamics(controls, state0, dt)]\n",
        "lr = 0.5 # learning rate\n",
        "approx_method = \"logsumexp\"\n",
        "n_steps = 1000   # number of gradient steps\n",
        "n_steps_extra = 10\n",
        "coeffs = [1., 0.1, 5.]\n",
        "\n",
        "# jit the gradient function to speed things up (by A LOT).\n",
        "grad_jit = jax.jit(jax.grad(loss, 0), static_argnames=\"approx_method\")\n",
        "# temperature schedule parameters\n",
        "start_temp = 50\n",
        "end_temp = 500\n",
        "scale = 5"
      ]
    },
    {
      "cell_type": "code",
      "execution_count": 18,
      "metadata": {
        "colab": {
          "base_uri": "https://localhost:8080/"
        },
        "id": "_W4TYjG2CRek",
        "outputId": "0e2b8e16-34ce-4512-adff-dfe6f98bd3f6"
      },
      "outputs": [
        {
          "name": "stdout",
          "output_type": "stream",
          "text": [
            "  0 -- true robustness: -3.23   smoothness: 2.11    control limits: 0.52\n",
            " 50 -- true robustness: -0.95   smoothness: 0.36    control limits: 0.11\n",
            "100 -- true robustness: -0.04   smoothness: 0.26    control limits: 0.04\n",
            "150 -- true robustness: 0.02   smoothness: 0.20    control limits: 0.00\n",
            "200 -- true robustness: 0.03   smoothness: 0.16    control limits: 0.00\n",
            "250 -- true robustness: 0.02   smoothness: 0.13    control limits: 0.00\n",
            "300 -- true robustness: 0.04   smoothness: 0.12    control limits: 0.00\n",
            "350 -- true robustness: 0.02   smoothness: 0.10    control limits: 0.00\n",
            "400 -- true robustness: 0.01   smoothness: 0.10    control limits: 0.00\n",
            "450 -- true robustness: 0.02   smoothness: 0.09    control limits: 0.00\n",
            "500 -- true robustness: 0.00   smoothness: 0.08    control limits: 0.00\n",
            "550 -- true robustness: 0.04   smoothness: 0.09    control limits: 0.00\n",
            "600 -- true robustness: 0.02   smoothness: 0.08    control limits: 0.00\n",
            "650 -- true robustness: 0.01   smoothness: 0.09    control limits: 0.00\n",
            "700 -- true robustness: 0.04   smoothness: 0.08    control limits: 0.00\n",
            "750 -- true robustness: 0.01   smoothness: 0.07    control limits: 0.00\n",
            "800 -- true robustness: 0.05   smoothness: 0.08    control limits: 0.00\n",
            "850 -- true robustness: 0.03   smoothness: 0.07    control limits: 0.00\n",
            "900 -- true robustness: 0.07   smoothness: 0.09    control limits: 0.00\n",
            "950 -- true robustness: 0.04   smoothness: 0.08    control limits: 0.00\n"
          ]
        }
      ],
      "source": [
        "temperatures = temperature_schedule(jnp.arange(n_steps), n_steps, start_temp, end_temp, scale)\n",
        "for i in range(n_steps):\n",
        "    g = grad_jit(controls, state0, umax, dt, coeffs, approx_method, temperatures[i])  # take gradient\n",
        "    # g =  jax.grad(loss, 0)(controls, state0, umax, approx_method, temperature)  # not jitting\n",
        "    controls -= g * lr\n",
        "    states_.append(simulate_dynamics(controls, state0, dt))\n",
        "    if (i % 50) == 0:\n",
        "        print(\"%3i -- true robustness: %.2f   smoothness: %.2f    control limits: %.2f\"%(i, true_robustness(controls, state0, dt), loss(controls, state0, umax, dt, coeffs=[0., 1., 0.]), loss(controls, state0, umax, dt, coeffs=[0., 0., 1.])))\n"
      ]
    },
    {
      "cell_type": "code",
      "execution_count": 19,
      "metadata": {
        "colab": {
          "base_uri": "https://localhost:8080/",
          "height": 408
        },
        "id": "mYWVasKKCRek",
        "outputId": "78a2194c-17e3-431b-9535-828058aba881"
      },
      "outputs": [
        {
          "data": {
            "text/plain": [
              "Text(0, 0.5, 'Controls')"
            ]
          },
          "execution_count": 19,
          "metadata": {},
          "output_type": "execute_result"
        },
        {
          "data": {
            "image/png": "[encoded data removed]",
            "text/plain": [
              "<Figure size 1500x400 with 3 Axes>"
            ]
          },
          "metadata": {},
          "output_type": "display_data"
        }
      ],
      "source": [
        "fig, axs = plt.subplots(1,3, figsize=(15,4)) # note we must use plt.subplots, not plt.subplot\n",
        "\n",
        "ax = axs[0]\n",
        "circle1 = plt.Circle((0, 0), 0.5, color='C2', alpha=0.4)\n",
        "circle2 = plt.Circle(obstacle_center[0], 0.5, color='C3', alpha=0.4)\n",
        "\n",
        "ax.add_patch(circle1)\n",
        "ax.add_patch(circle2)\n",
        "\n",
        "N = 100\n",
        "[ax.plot(*s.T, color=\"k\", alpha=0.2) for s in states_[::N]]\n",
        "[ax.plot(*s.T, color=\"blue\", label=\"Initial traj\") for s in states_[:1]]\n",
        "[ax.plot(*s.T, color=\"r\", label=\"Final traj\") for s in states_[-1:]]\n",
        "\n",
        "ax.scatter(states_[-1][0,:1], states_[-1][0,1:], zorder=10, label=\"start\", color=\"red\")\n",
        "ax.scatter(states_[-1][-1,:1], states_[-1][-1,1:], zorder=10, label=\"end\", color=\"green\")\n",
        "\n",
        "ax.set_xlabel(\"x position\")\n",
        "ax.set_ylabel(\"y position\")\n",
        "ax.grid()\n",
        "ax.legend()\n",
        "ax.axis(\"equal\")\n",
        "\n",
        "# plot x, y\n",
        "ax = axs[1]\n",
        "ax.plot(ts, states_[-1][:-1,:1], label=\"x\")\n",
        "ax.plot(ts, states_[-1][:-1,1:], label=\"y\")\n",
        "ax.grid()\n",
        "ax.axis(\"equal\")\n",
        "ax.legend()\n",
        "ax.set_xlabel(\"Time (s)\")\n",
        "ax.set_ylabel(\"Position\")\n",
        "\n",
        "\n",
        "# plot control signal\n",
        "ax = axs[2]\n",
        "ax.plot(ts, controls[:,:1], label=\"x control\")\n",
        "ax.plot(ts, controls[:,1:], label=\"y control\")\n",
        "ax.plot(ts, jnp.linalg.norm(controls, axis=-1).squeeze(), label=\"control norm\")\n",
        "ax.grid()\n",
        "ax.axis(\"equal\")\n",
        "ax.legend()\n",
        "ax.set_xlabel(\"Time (s)\")\n",
        "ax.set_ylabel(\"Controls\")\n"
      ]
    },
    {
      "cell_type": "markdown",
      "metadata": {
        "id": "OlK7HyGfCRek"
      },
      "source": [
        "## Parametric STL\n",
        "We can take gradients with respect to the RHS constant in the <, >, == STL formulas\n",
        "\n",
        "As a simple example, we using the final trajectory in the example above to find the value of `c` such that the formula `Always(distance_to_obstacle > c)` is as tight as possible."
      ]
    },
    {
      "cell_type": "code",
      "execution_count": 20,
      "metadata": {
        "colab": {
          "base_uri": "https://localhost:8080/"
        },
        "id": "vCF9DvcnCRek",
        "outputId": "0aa83f60-507b-4dfa-aeae-2f05b4fc38f3"
      },
      "outputs": [
        {
          "name": "stdout",
          "output_type": "stream",
          "text": [
            "  0 -- true robustness: 1.7771  \n",
            " 10 -- true robustness: 0.2160  \n",
            " 20 -- true robustness: 0.0263  \n",
            " 30 -- true robustness: 0.0032  \n",
            " 40 -- true robustness: 0.0004  \n",
            " 50 -- true robustness: 0.0000  \n",
            " 60 -- true robustness: 0.0000  \n",
            " 70 -- true robustness: 0.0000  \n",
            " 80 -- true robustness: 0.0000  \n",
            " 90 -- true robustness: 0.0000  \n"
          ]
        }
      ],
      "source": [
        "def parametric_stl_robustness(c, signal):\n",
        "    return Always(distance_to_obstacle > c).robustness(signal)**2\n",
        "\n",
        "traj = states_[-1]\n",
        "grad_jit = jax.jit(jax.grad(lambda c: parametric_stl_robustness(c, traj)))\n",
        "\n",
        "c = 2.\n",
        "cs = [c]\n",
        "lr = 0.05\n",
        "for i in range(100):\n",
        "    g = grad_jit(c)\n",
        "    c -= g * lr\n",
        "    cs.append(c)\n",
        "    if (i % 10) == 0:\n",
        "        print(\"%3i -- true robustness: %.4f  \"%(i, parametric_stl_robustness(c, traj)))\n"
      ]
    },
    {
      "cell_type": "code",
      "execution_count": 21,
      "metadata": {
        "colab": {
          "base_uri": "https://localhost:8080/",
          "height": 449
        },
        "id": "JEZh75FCCRek",
        "outputId": "32c64842-65dd-4726-9dae-5c8493b8ef5f"
      },
      "outputs": [
        {
          "data": {
            "image/png": "[encoded data removed]",
            "text/plain": [
              "<Figure size 640x480 with 1 Axes>"
            ]
          },
          "metadata": {},
          "output_type": "display_data"
        }
      ],
      "source": [
        "\n",
        "plt.plot(ts, jnp.linalg.norm(traj - obstacle_center, axis=-1, keepdims=True).squeeze()[:-1], linewidth=3, label=\"distance to obstacle of trajectory\", zorder=5)\n",
        "plt.hlines(cs[0], ts[0], ts[-1], linewidth=2, color=\"red\", label=\"initial c\", zorder=4)\n",
        "plt.hlines(cs[-1], ts[0], ts[-1], linewidth=2, color=\"green\", label=\"final c\", zorder=4)\n",
        "\n",
        "plt.hlines(cs, ts[0], ts[-1], alpha=0.2, color=\"black\")\n",
        "plt.xlabel(\"Time [s]\")\n",
        "plt.ylabel(\"Distance to obstacle\")\n",
        "plt.legend()\n",
        "\n",
        "plt.grid()"
      ]
    },
    {
      "cell_type": "markdown",
      "metadata": {
        "id": "7t97PeSZCRek"
      },
      "source": [
        "## Examples of other formulas\n",
        "\n",
        "Below are examples of how to apply different STL operations given the reach and avoid predicates.\n",
        "(Don't read too much into the meaning behind each formula with the read and avoid predicates. Just treat them as placeholders)\n"
      ]
    },
    {
      "cell_type": "code",
      "execution_count": 22,
      "metadata": {
        "id": "Tm2SVG3vCReq"
      },
      "outputs": [],
      "source": [
        "# using values from above\n",
        "traj = states_[-1]\n",
        "\n",
        "# compute distance_to_origin and distance_to_obstacle\n",
        "distance_to_origin_signal = jnp.linalg.norm(traj, axis=-1)\n",
        "distance_to_obstacle_signal = jnp.linalg.norm(traj - obstacle_center, axis=-1)\n",
        "\n",
        "distance_to_origin = Expression(\"magnitude\", distance_to_origin_signal)\n",
        "distance_to_obstacle = Expression(\"distance_to_obs\", distance_to_obstacle_signal)\n",
        "reach = Eventually(distance_to_origin < 0.5)\n",
        "avoid = Always(distance_to_obstacle > 0.5)\n"
      ]
    },
    {
      "cell_type": "markdown",
      "metadata": {
        "id": "KeoUSbAnCRer"
      },
      "source": [
        "### Eventually Always"
      ]
    },
    {
      "cell_type": "code",
      "execution_count": 23,
      "metadata": {
        "colab": {
          "base_uri": "https://localhost:8080/",
          "height": 340
        },
        "id": "D2UKqsfDCRer",
        "outputId": "43e320bf-7eb4-48bd-af55-ebaf2bf9fa57"
      },
      "outputs": [
        {
          "data": {
            "image/svg+xml": [
              "<?xml version=\"1.0\" encoding=\"UTF-8\" standalone=\"no\"?>\n",
              "<!DOCTYPE svg PUBLIC \"-//W3C//DTD SVG 1.1//EN\"\n",
              " \"http://www.w3.org/Graphics/SVG/1.1/DTD/svg11.dtd\">\n",
              "<!-- Generated by graphviz version 11.0.0 (20240428.1522)\n",
              " -->\n",
              "<!-- Pages: 1 -->\n",
              "<svg width=\"332pt\" height=\"248pt\"\n",
              " viewBox=\"0.00 0.00 331.50 247.75\" xmlns=\"http://www.w3.org/2000/svg\" xmlns:xlink=\"http://www.w3.org/1999/xlink\">\n",
              "<g id=\"graph0\" class=\"graph\" transform=\"scale(1 1) rotate(0) translate(4 243.75)\">\n",
              "<polygon fill=\"white\" stroke=\"none\" points=\"-4,4 -4,-243.75 327.5,-243.75 327.5,4 -4,4\"/>\n",
              "<!-- 11618792704 -->\n",
              "<g id=\"node1\" class=\"node\">\n",
              "<title>11618792704</title>\n",
              "<polygon fill=\"orange\" stroke=\"black\" points=\"323.5,-36.5 0,-36.5 0,0 323.5,0 323.5,-36.5\"/>\n",
              "<text text-anchor=\"middle\" x=\"161.75\" y=\"-21.1\" font-family=\"monospace\" font-size=\"12.00\">Eventually</text>\n",
              "<text text-anchor=\"middle\" x=\"161.75\" y=\"-6.85\" font-family=\"monospace\" font-size=\"12.00\">♢ [0, inf]( ◻ [0, 5]( magnitude &lt; 0.5 ) )</text>\n",
              "</g>\n",
              "<!-- 11577113248 -->\n",
              "<g id=\"node2\" class=\"node\">\n",
              "<title>11577113248</title>\n",
              "<polygon fill=\"orange\" stroke=\"black\" points=\"271,-109 52.5,-109 52.5,-72.5 271,-72.5 271,-109\"/>\n",
              "<text text-anchor=\"middle\" x=\"161.75\" y=\"-93.6\" font-family=\"monospace\" font-size=\"12.00\">Always</text>\n",
              "<text text-anchor=\"middle\" x=\"161.75\" y=\"-79.35\" font-family=\"monospace\" font-size=\"12.00\">◻ [0, 5]( magnitude &lt; 0.5 )</text>\n",
              "</g>\n",
              "<!-- 11577113248&#45;&gt;11618792704 -->\n",
              "<g id=\"edge1\" class=\"edge\">\n",
              "<title>11577113248&#45;&gt;11618792704</title>\n",
              "<path fill=\"none\" stroke=\"black\" d=\"M161.75,-72.32C161.75,-65.09 161.75,-56.5 161.75,-48.36\"/>\n",
              "<polygon fill=\"black\" stroke=\"black\" points=\"165.25,-48.48 161.75,-38.48 158.25,-48.48 165.25,-48.48\"/>\n",
              "</g>\n",
              "<!-- 11407575280 -->\n",
              "<g id=\"node3\" class=\"node\">\n",
              "<title>11407575280</title>\n",
              "<polygon fill=\"orange\" stroke=\"black\" points=\"226,-181.5 97.5,-181.5 97.5,-145 226,-145 226,-181.5\"/>\n",
              "<text text-anchor=\"middle\" x=\"161.75\" y=\"-166.1\" font-family=\"monospace\" font-size=\"12.00\">LessThan</text>\n",
              "<text text-anchor=\"middle\" x=\"161.75\" y=\"-151.85\" font-family=\"monospace\" font-size=\"12.00\">magnitude &lt; 0.5</text>\n",
              "</g>\n",
              "<!-- 11407575280&#45;&gt;11577113248 -->\n",
              "<g id=\"edge2\" class=\"edge\">\n",
              "<title>11407575280&#45;&gt;11577113248</title>\n",
              "<path fill=\"none\" stroke=\"black\" d=\"M161.75,-144.82C161.75,-137.59 161.75,-129 161.75,-120.86\"/>\n",
              "<polygon fill=\"black\" stroke=\"black\" points=\"165.25,-120.98 161.75,-110.98 158.25,-120.98 165.25,-120.98\"/>\n",
              "</g>\n",
              "<!-- 11618790160 -->\n",
              "<g id=\"node4\" class=\"node\">\n",
              "<title>11618790160</title>\n",
              "<polygon fill=\"lightskyblue\" stroke=\"black\" points=\"160.5,-239.75 77,-239.75 77,-217.5 160.5,-217.5 160.5,-239.75\"/>\n",
              "<text text-anchor=\"middle\" x=\"118.75\" y=\"-224.35\" font-family=\"monospace\" font-size=\"12.00\">magnitude</text>\n",
              "</g>\n",
              "<!-- 11618790160&#45;&gt;11407575280 -->\n",
              "<g id=\"edge3\" class=\"edge\">\n",
              "<title>11618790160&#45;&gt;11407575280</title>\n",
              "<path fill=\"none\" stroke=\"black\" d=\"M125.85,-217.16C130.62,-210.14 137.13,-200.54 143.3,-191.45\"/>\n",
              "<polygon fill=\"black\" stroke=\"black\" points=\"146.19,-193.42 148.91,-183.18 140.4,-189.49 146.19,-193.42\"/>\n",
              "</g>\n",
              "<!-- 11627403504 -->\n",
              "<g id=\"node5\" class=\"node\">\n",
              "<title>11627403504</title>\n",
              "<polygon fill=\"palegreen\" stroke=\"black\" points=\"232.75,-239.75 178.75,-239.75 178.75,-217.5 232.75,-217.5 232.75,-239.75\"/>\n",
              "<text text-anchor=\"middle\" x=\"205.75\" y=\"-224.35\" font-family=\"monospace\" font-size=\"12.00\">0.5</text>\n",
              "</g>\n",
              "<!-- 11627403504&#45;&gt;11407575280 -->\n",
              "<g id=\"edge4\" class=\"edge\">\n",
              "<title>11627403504&#45;&gt;11407575280</title>\n",
              "<path fill=\"none\" stroke=\"black\" d=\"M198.48,-217.16C193.56,-210.06 186.8,-200.34 180.43,-191.16\"/>\n",
              "<polygon fill=\"black\" stroke=\"black\" points=\"183.46,-189.39 174.88,-183.17 177.71,-193.38 183.46,-189.39\"/>\n",
              "</g>\n",
              "</g>\n",
              "</svg>\n"
            ],
            "text/plain": [
              "<graphviz.graphs.Digraph at 0x2b5121850>"
            ]
          },
          "execution_count": 23,
          "metadata": {},
          "output_type": "execute_result"
        }
      ],
      "source": [
        "# nested temporal operators\n",
        "# NOTE: temporal operatos pad signal with the value at the last time step\n",
        "ϕ = Eventually(Always(distance_to_origin < 0.5, interval=[0, 5]))\n",
        "\n",
        "\n",
        "ϕ(distance_to_origin);\n",
        "make_stl_graph(ϕ)\n"
      ]
    },
    {
      "cell_type": "markdown",
      "metadata": {
        "id": "V1bpm2LVCRer"
      },
      "source": [
        "### Until"
      ]
    },
    {
      "cell_type": "code",
      "execution_count": 30,
      "metadata": {
        "id": "AbQB7WW0CRer"
      },
      "outputs": [
        {
          "data": {
            "text/plain": [
              "Array([0.01881605, 0.01881605, 0.01881605, 0.01881605, 0.01881605,\n",
              "       0.01881605, 0.01881605, 0.01881605, 0.01881605, 0.01881605,\n",
              "       0.01881605, 0.01881605, 0.01881605, 0.01881605, 0.01881605,\n",
              "       0.01881605, 0.01889771, 0.02217305, 0.0412991 , 0.07640123,\n",
              "       0.08110067, 0.08110067, 0.08110067, 0.08110067, 0.08110067,\n",
              "       0.08110067, 0.08110067, 0.08110067, 0.08110067, 0.08110067,\n",
              "       0.08110067, 0.08110067, 0.08110067, 0.08110067, 0.08110067,\n",
              "       0.08110067, 0.08110067, 0.08110067, 0.08110067, 0.08110067,\n",
              "       0.08110067, 0.08110067, 0.08110067, 0.08110067, 0.08110067,\n",
              "       0.08110067, 0.08110067, 0.08110067, 0.08110067, 0.08110067,\n",
              "       0.08110067, 0.08110067], dtype=float32)"
            ]
          },
          "execution_count": 30,
          "metadata": {},
          "output_type": "execute_result"
        }
      ],
      "source": [
        "ϕ = Until(avoid, reach, interval=None)\n",
        "\n",
        "ϕ((distance_to_obstacle, distance_to_origin))"
      ]
    },
    {
      "cell_type": "markdown",
      "metadata": {
        "id": "l-bt2v27CRer"
      },
      "source": [
        "### Multiple And (Or)"
      ]
    },
    {
      "cell_type": "code",
      "execution_count": 31,
      "metadata": {
        "colab": {
          "base_uri": "https://localhost:8080/",
          "height": 340
        },
        "id": "DlNhLq9JCRer",
        "outputId": "193392e8-c698-43a3-9a94-8b48e866d620"
      },
      "outputs": [
        {
          "data": {
            "image/svg+xml": [
              "<?xml version=\"1.0\" encoding=\"UTF-8\" standalone=\"no\"?>\n",
              "<!DOCTYPE svg PUBLIC \"-//W3C//DTD SVG 1.1//EN\"\n",
              " \"http://www.w3.org/Graphics/SVG/1.1/DTD/svg11.dtd\">\n",
              "<!-- Generated by graphviz version 11.0.0 (20240428.1522)\n",
              " -->\n",
              "<!-- Pages: 1 -->\n",
              "<svg width=\"607pt\" height=\"248pt\"\n",
              " viewBox=\"0.00 0.00 606.50 247.75\" xmlns=\"http://www.w3.org/2000/svg\" xmlns:xlink=\"http://www.w3.org/1999/xlink\">\n",
              "<g id=\"graph0\" class=\"graph\" transform=\"scale(1 1) rotate(0) translate(4 243.75)\">\n",
              "<polygon fill=\"white\" stroke=\"none\" points=\"-4,4 -4,-243.75 602.5,-243.75 602.5,4 -4,4\"/>\n",
              "<!-- 11576850240 -->\n",
              "<g id=\"node1\" class=\"node\">\n",
              "<title>11576850240</title>\n",
              "<polygon fill=\"orange\" stroke=\"black\" points=\"593.5,-36.5 0,-36.5 0,0 593.5,0 593.5,-36.5\"/>\n",
              "<text text-anchor=\"middle\" x=\"296.75\" y=\"-21.1\" font-family=\"monospace\" font-size=\"12.00\">And</text>\n",
              "<text text-anchor=\"middle\" x=\"296.75\" y=\"-6.85\" font-family=\"monospace\" font-size=\"12.00\">((distance_to_obs &gt; 0.5) ∧ (distance_to_obs &gt; 0.5)) ∧ (distance_to_obs &gt; 0.5)</text>\n",
              "</g>\n",
              "<!-- 11627644304 -->\n",
              "<g id=\"node2\" class=\"node\">\n",
              "<title>11627644304</title>\n",
              "<polygon fill=\"orange\" stroke=\"black\" points=\"598.5,-109 215,-109 215,-72.5 598.5,-72.5 598.5,-109\"/>\n",
              "<text text-anchor=\"middle\" x=\"406.75\" y=\"-93.6\" font-family=\"monospace\" font-size=\"12.00\">And</text>\n",
              "<text text-anchor=\"middle\" x=\"406.75\" y=\"-79.35\" font-family=\"monospace\" font-size=\"12.00\">(distance_to_obs &gt; 0.5) ∧ (distance_to_obs &gt; 0.5)</text>\n",
              "</g>\n",
              "<!-- 11627644304&#45;&gt;11576850240 -->\n",
              "<g id=\"edge1\" class=\"edge\">\n",
              "<title>11627644304&#45;&gt;11576850240</title>\n",
              "<path fill=\"none\" stroke=\"black\" d=\"M379.28,-72.14C365.5,-63.31 348.61,-52.49 333.71,-42.94\"/>\n",
              "<polygon fill=\"black\" stroke=\"black\" points=\"335.84,-40.14 325.53,-37.69 332.06,-46.04 335.84,-40.14\"/>\n",
              "</g>\n",
              "<!-- 11673072032 -->\n",
              "<g id=\"node3\" class=\"node\">\n",
              "<title>11673072032</title>\n",
              "<polygon fill=\"orange\" stroke=\"black\" points=\"493.5,-181.5 320,-181.5 320,-145 493.5,-145 493.5,-181.5\"/>\n",
              "<text text-anchor=\"middle\" x=\"406.75\" y=\"-166.1\" font-family=\"monospace\" font-size=\"12.00\">GreaterThan</text>\n",
              "<text text-anchor=\"middle\" x=\"406.75\" y=\"-151.85\" font-family=\"monospace\" font-size=\"12.00\">distance_to_obs &gt; 0.5</text>\n",
              "</g>\n",
              "<!-- 11673072032&#45;&gt;11576850240 -->\n",
              "<g id=\"edge8\" class=\"edge\">\n",
              "<title>11673072032&#45;&gt;11576850240</title>\n",
              "<path fill=\"none\" stroke=\"black\" d=\"M319.55,-149.86C272.07,-141.14 220.12,-127.67 205.75,-109 195.86,-96.14 197.68,-86.57 205.75,-72.5 213.01,-59.85 224.56,-49.91 237.04,-42.23\"/>\n",
              "<polygon fill=\"black\" stroke=\"black\" points=\"238.39,-45.48 245.38,-37.53 234.95,-39.38 238.39,-45.48\"/>\n",
              "</g>\n",
              "<!-- 11673072032&#45;&gt;11627644304 -->\n",
              "<g id=\"edge2\" class=\"edge\">\n",
              "<title>11673072032&#45;&gt;11627644304</title>\n",
              "<path fill=\"none\" stroke=\"black\" d=\"M400.83,-144.82C400.09,-137.59 399.85,-129 400.09,-120.86\"/>\n",
              "<polygon fill=\"black\" stroke=\"black\" points=\"403.58,-121.18 400.71,-110.98 396.59,-120.74 403.58,-121.18\"/>\n",
              "</g>\n",
              "<!-- 11673072032&#45;&gt;11627644304 -->\n",
              "<g id=\"edge5\" class=\"edge\">\n",
              "<title>11673072032&#45;&gt;11627644304</title>\n",
              "<path fill=\"none\" stroke=\"black\" d=\"M412.67,-144.82C413.41,-137.59 413.65,-129 413.41,-120.86\"/>\n",
              "<polygon fill=\"black\" stroke=\"black\" points=\"416.91,-120.74 412.79,-110.98 409.92,-121.18 416.91,-120.74\"/>\n",
              "</g>\n",
              "<!-- 11618788720 -->\n",
              "<g id=\"node4\" class=\"node\">\n",
              "<title>11618788720</title>\n",
              "<polygon fill=\"lightskyblue\" stroke=\"black\" points=\"417,-239.75 288.5,-239.75 288.5,-217.5 417,-217.5 417,-239.75\"/>\n",
              "<text text-anchor=\"middle\" x=\"352.75\" y=\"-224.35\" font-family=\"monospace\" font-size=\"12.00\">distance_to_obs</text>\n",
              "</g>\n",
              "<!-- 11618788720&#45;&gt;11673072032 -->\n",
              "<g id=\"edge3\" class=\"edge\">\n",
              "<title>11618788720&#45;&gt;11673072032</title>\n",
              "<path fill=\"none\" stroke=\"black\" d=\"M351.33,-217.16C354.98,-209.76 362.73,-199.51 371.52,-190\"/>\n",
              "<polygon fill=\"black\" stroke=\"black\" points=\"373.88,-192.6 378.38,-183.01 368.88,-187.7 373.88,-192.6\"/>\n",
              "</g>\n",
              "<!-- 11618788720&#45;&gt;11673072032 -->\n",
              "<g id=\"edge6\" class=\"edge\">\n",
              "<title>11618788720&#45;&gt;11673072032</title>\n",
              "<path fill=\"none\" stroke=\"black\" d=\"M361.67,-217.16C367.84,-209.91 376.35,-199.93 384.32,-190.58\"/>\n",
              "<polygon fill=\"black\" stroke=\"black\" points=\"386.89,-192.96 390.71,-183.08 381.56,-188.42 386.89,-192.96\"/>\n",
              "</g>\n",
              "<!-- 11618788720&#45;&gt;11673072032 -->\n",
              "<g id=\"edge9\" class=\"edge\">\n",
              "<title>11618788720&#45;&gt;11673072032</title>\n",
              "<path fill=\"none\" stroke=\"black\" d=\"M372,-217.16C380.6,-210.06 389.9,-200.34 397.18,-191.16\"/>\n",
              "<polygon fill=\"black\" stroke=\"black\" points=\"399.97,-193.28 403.05,-183.15 394.32,-189.15 399.97,-193.28\"/>\n",
              "</g>\n",
              "<!-- 11627825680 -->\n",
              "<g id=\"node5\" class=\"node\">\n",
              "<title>11627825680</title>\n",
              "<polygon fill=\"palegreen\" stroke=\"black\" points=\"488.75,-239.75 434.75,-239.75 434.75,-217.5 488.75,-217.5 488.75,-239.75\"/>\n",
              "<text text-anchor=\"middle\" x=\"461.75\" y=\"-224.35\" font-family=\"monospace\" font-size=\"12.00\">0.5</text>\n",
              "</g>\n",
              "<!-- 11627825680&#45;&gt;11673072032 -->\n",
              "<g id=\"edge4\" class=\"edge\">\n",
              "<title>11627825680&#45;&gt;11673072032</title>\n",
              "<path fill=\"none\" stroke=\"black\" d=\"M442.34,-217.16C433.53,-209.99 423.97,-200.13 416.51,-190.87\"/>\n",
              "<polygon fill=\"black\" stroke=\"black\" points=\"419.53,-189.06 410.74,-183.14 413.91,-193.25 419.53,-189.06\"/>\n",
              "</g>\n",
              "<!-- 11627825680&#45;&gt;11673072032 -->\n",
              "<g id=\"edge7\" class=\"edge\">\n",
              "<title>11627825680&#45;&gt;11673072032</title>\n",
              "<path fill=\"none\" stroke=\"black\" d=\"M452.67,-217.16C446.38,-209.91 437.71,-199.93 429.6,-190.58\"/>\n",
              "<polygon fill=\"black\" stroke=\"black\" points=\"432.28,-188.33 423.08,-183.07 426.99,-192.91 432.28,-188.33\"/>\n",
              "</g>\n",
              "<!-- 11627825680&#45;&gt;11673072032 -->\n",
              "<g id=\"edge10\" class=\"edge\">\n",
              "<title>11627825680&#45;&gt;11673072032</title>\n",
              "<path fill=\"none\" stroke=\"black\" d=\"M463,-217.16C459.24,-209.76 451.33,-199.51 442.39,-190\"/>\n",
              "<polygon fill=\"black\" stroke=\"black\" points=\"444.94,-187.61 435.41,-183 439.99,-192.55 444.94,-187.61\"/>\n",
              "</g>\n",
              "</g>\n",
              "</svg>\n"
            ],
            "text/plain": [
              "<graphviz.graphs.Digraph at 0x2c288f020>"
            ]
          },
          "execution_count": 31,
          "metadata": {},
          "output_type": "execute_result"
        }
      ],
      "source": [
        "ψ = distance_to_obstacle > 0.5\n",
        "ϕ = ψ & ψ & ψ  # equivalent to (ψ & ψ) & ψ  this formula is redundant, but just demonstrating functionality\n",
        "ϕ(((distance_to_obstacle,distance_to_obstacle), distance_to_obstacle));\n",
        "make_stl_graph(ϕ)\n",
        "\n",
        "# similarly, you can do this with Or --> ψ | ψ | ψ\n"
      ]
    },
    {
      "cell_type": "markdown",
      "metadata": {
        "id": "laUYW_xQCRer"
      },
      "source": [
        "### Implies"
      ]
    },
    {
      "cell_type": "code",
      "execution_count": 32,
      "metadata": {
        "colab": {
          "base_uri": "https://localhost:8080/",
          "height": 340
        },
        "id": "n60vd2tmCRer",
        "outputId": "7262cfa1-5044-4d3e-a79a-297c4f194275"
      },
      "outputs": [
        {
          "data": {
            "image/svg+xml": [
              "<?xml version=\"1.0\" encoding=\"UTF-8\" standalone=\"no\"?>\n",
              "<!DOCTYPE svg PUBLIC \"-//W3C//DTD SVG 1.1//EN\"\n",
              " \"http://www.w3.org/Graphics/SVG/1.1/DTD/svg11.dtd\">\n",
              "<!-- Generated by graphviz version 11.0.0 (20240428.1522)\n",
              " -->\n",
              "<!-- Pages: 1 -->\n",
              "<svg width=\"559pt\" height=\"248pt\"\n",
              " viewBox=\"0.00 0.00 558.50 247.75\" xmlns=\"http://www.w3.org/2000/svg\" xmlns:xlink=\"http://www.w3.org/1999/xlink\">\n",
              "<g id=\"graph0\" class=\"graph\" transform=\"scale(1 1) rotate(0) translate(4 243.75)\">\n",
              "<polygon fill=\"white\" stroke=\"none\" points=\"-4,4 -4,-243.75 554.5,-243.75 554.5,4 -4,4\"/>\n",
              "<!-- 11720655072 -->\n",
              "<g id=\"node1\" class=\"node\">\n",
              "<title>11720655072</title>\n",
              "<polygon fill=\"orange\" stroke=\"black\" points=\"550.5,-36.5 2,-36.5 2,0 550.5,0 550.5,-36.5\"/>\n",
              "<text text-anchor=\"middle\" x=\"276.25\" y=\"-21.1\" font-family=\"monospace\" font-size=\"12.00\">Implies</text>\n",
              "<text text-anchor=\"middle\" x=\"276.25\" y=\"-6.85\" font-family=\"monospace\" font-size=\"12.00\">(◻ [0, inf]( distance_to_obs &gt; 0.5 )) ⇒ (♢ [0, inf]( magnitude &lt; 0.5 ))</text>\n",
              "</g>\n",
              "<!-- 11387946912 -->\n",
              "<g id=\"node2\" class=\"node\">\n",
              "<title>11387946912</title>\n",
              "<polygon fill=\"orange\" stroke=\"black\" points=\"278.5,-109 0,-109 0,-72.5 278.5,-72.5 278.5,-109\"/>\n",
              "<text text-anchor=\"middle\" x=\"139.25\" y=\"-93.6\" font-family=\"monospace\" font-size=\"12.00\">Always</text>\n",
              "<text text-anchor=\"middle\" x=\"139.25\" y=\"-79.35\" font-family=\"monospace\" font-size=\"12.00\">◻ [0, inf]( distance_to_obs &gt; 0.5 )</text>\n",
              "</g>\n",
              "<!-- 11387946912&#45;&gt;11720655072 -->\n",
              "<g id=\"edge1\" class=\"edge\">\n",
              "<title>11387946912&#45;&gt;11720655072</title>\n",
              "<path fill=\"none\" stroke=\"black\" d=\"M173.47,-72.14C191.12,-63.06 212.87,-51.87 231.81,-42.12\"/>\n",
              "<polygon fill=\"black\" stroke=\"black\" points=\"233.36,-45.26 240.65,-37.57 230.15,-39.03 233.36,-45.26\"/>\n",
              "</g>\n",
              "<!-- 11581470480 -->\n",
              "<g id=\"node3\" class=\"node\">\n",
              "<title>11581470480</title>\n",
              "<polygon fill=\"orange\" stroke=\"black\" points=\"226,-181.5 52.5,-181.5 52.5,-145 226,-145 226,-181.5\"/>\n",
              "<text text-anchor=\"middle\" x=\"139.25\" y=\"-166.1\" font-family=\"monospace\" font-size=\"12.00\">GreaterThan</text>\n",
              "<text text-anchor=\"middle\" x=\"139.25\" y=\"-151.85\" font-family=\"monospace\" font-size=\"12.00\">distance_to_obs &gt; 0.5</text>\n",
              "</g>\n",
              "<!-- 11581470480&#45;&gt;11387946912 -->\n",
              "<g id=\"edge2\" class=\"edge\">\n",
              "<title>11581470480&#45;&gt;11387946912</title>\n",
              "<path fill=\"none\" stroke=\"black\" d=\"M139.25,-144.82C139.25,-137.59 139.25,-129 139.25,-120.86\"/>\n",
              "<polygon fill=\"black\" stroke=\"black\" points=\"142.75,-120.98 139.25,-110.98 135.75,-120.98 142.75,-120.98\"/>\n",
              "</g>\n",
              "<!-- 11618788720 -->\n",
              "<g id=\"node4\" class=\"node\">\n",
              "<title>11618788720</title>\n",
              "<polygon fill=\"lightskyblue\" stroke=\"black\" points=\"149.5,-239.75 21,-239.75 21,-217.5 149.5,-217.5 149.5,-239.75\"/>\n",
              "<text text-anchor=\"middle\" x=\"85.25\" y=\"-224.35\" font-family=\"monospace\" font-size=\"12.00\">distance_to_obs</text>\n",
              "</g>\n",
              "<!-- 11618788720&#45;&gt;11581470480 -->\n",
              "<g id=\"edge3\" class=\"edge\">\n",
              "<title>11618788720&#45;&gt;11581470480</title>\n",
              "<path fill=\"none\" stroke=\"black\" d=\"M94.17,-217.16C100.34,-209.91 108.85,-199.93 116.82,-190.58\"/>\n",
              "<polygon fill=\"black\" stroke=\"black\" points=\"119.39,-192.96 123.21,-183.08 114.06,-188.42 119.39,-192.96\"/>\n",
              "</g>\n",
              "<!-- 11627404272 -->\n",
              "<g id=\"node5\" class=\"node\">\n",
              "<title>11627404272</title>\n",
              "<polygon fill=\"palegreen\" stroke=\"black\" points=\"221.25,-239.75 167.25,-239.75 167.25,-217.5 221.25,-217.5 221.25,-239.75\"/>\n",
              "<text text-anchor=\"middle\" x=\"194.25\" y=\"-224.35\" font-family=\"monospace\" font-size=\"12.00\">0.5</text>\n",
              "</g>\n",
              "<!-- 11627404272&#45;&gt;11581470480 -->\n",
              "<g id=\"edge4\" class=\"edge\">\n",
              "<title>11627404272&#45;&gt;11581470480</title>\n",
              "<path fill=\"none\" stroke=\"black\" d=\"M185.17,-217.16C178.88,-209.91 170.21,-199.93 162.1,-190.58\"/>\n",
              "<polygon fill=\"black\" stroke=\"black\" points=\"164.78,-188.33 155.58,-183.07 159.49,-192.91 164.78,-188.33\"/>\n",
              "</g>\n",
              "<!-- 11626998304 -->\n",
              "<g id=\"node6\" class=\"node\">\n",
              "<title>11626998304</title>\n",
              "<polygon fill=\"orange\" stroke=\"black\" points=\"530,-109 296.5,-109 296.5,-72.5 530,-72.5 530,-109\"/>\n",
              "<text text-anchor=\"middle\" x=\"413.25\" y=\"-93.6\" font-family=\"monospace\" font-size=\"12.00\">Eventually</text>\n",
              "<text text-anchor=\"middle\" x=\"413.25\" y=\"-79.35\" font-family=\"monospace\" font-size=\"12.00\">♢ [0, inf]( magnitude &lt; 0.5 )</text>\n",
              "</g>\n",
              "<!-- 11626998304&#45;&gt;11720655072 -->\n",
              "<g id=\"edge5\" class=\"edge\">\n",
              "<title>11626998304&#45;&gt;11720655072</title>\n",
              "<path fill=\"none\" stroke=\"black\" d=\"M379.03,-72.14C361.38,-63.06 339.63,-51.87 320.69,-42.12\"/>\n",
              "<polygon fill=\"black\" stroke=\"black\" points=\"322.35,-39.03 311.85,-37.57 319.14,-45.26 322.35,-39.03\"/>\n",
              "</g>\n",
              "<!-- 6278764864 -->\n",
              "<g id=\"node7\" class=\"node\">\n",
              "<title>6278764864</title>\n",
              "<polygon fill=\"orange\" stroke=\"black\" points=\"477.5,-181.5 349,-181.5 349,-145 477.5,-145 477.5,-181.5\"/>\n",
              "<text text-anchor=\"middle\" x=\"413.25\" y=\"-166.1\" font-family=\"monospace\" font-size=\"12.00\">LessThan</text>\n",
              "<text text-anchor=\"middle\" x=\"413.25\" y=\"-151.85\" font-family=\"monospace\" font-size=\"12.00\">magnitude &lt; 0.5</text>\n",
              "</g>\n",
              "<!-- 6278764864&#45;&gt;11626998304 -->\n",
              "<g id=\"edge6\" class=\"edge\">\n",
              "<title>6278764864&#45;&gt;11626998304</title>\n",
              "<path fill=\"none\" stroke=\"black\" d=\"M413.25,-144.82C413.25,-137.59 413.25,-129 413.25,-120.86\"/>\n",
              "<polygon fill=\"black\" stroke=\"black\" points=\"416.75,-120.98 413.25,-110.98 409.75,-120.98 416.75,-120.98\"/>\n",
              "</g>\n",
              "<!-- 11618790160 -->\n",
              "<g id=\"node8\" class=\"node\">\n",
              "<title>11618790160</title>\n",
              "<polygon fill=\"lightskyblue\" stroke=\"black\" points=\"412,-239.75 328.5,-239.75 328.5,-217.5 412,-217.5 412,-239.75\"/>\n",
              "<text text-anchor=\"middle\" x=\"370.25\" y=\"-224.35\" font-family=\"monospace\" font-size=\"12.00\">magnitude</text>\n",
              "</g>\n",
              "<!-- 11618790160&#45;&gt;6278764864 -->\n",
              "<g id=\"edge7\" class=\"edge\">\n",
              "<title>11618790160&#45;&gt;6278764864</title>\n",
              "<path fill=\"none\" stroke=\"black\" d=\"M377.35,-217.16C382.12,-210.14 388.63,-200.54 394.8,-191.45\"/>\n",
              "<polygon fill=\"black\" stroke=\"black\" points=\"397.69,-193.42 400.41,-183.18 391.9,-189.49 397.69,-193.42\"/>\n",
              "</g>\n",
              "<!-- 11627404208 -->\n",
              "<g id=\"node9\" class=\"node\">\n",
              "<title>11627404208</title>\n",
              "<polygon fill=\"palegreen\" stroke=\"black\" points=\"484.25,-239.75 430.25,-239.75 430.25,-217.5 484.25,-217.5 484.25,-239.75\"/>\n",
              "<text text-anchor=\"middle\" x=\"457.25\" y=\"-224.35\" font-family=\"monospace\" font-size=\"12.00\">0.5</text>\n",
              "</g>\n",
              "<!-- 11627404208&#45;&gt;6278764864 -->\n",
              "<g id=\"edge8\" class=\"edge\">\n",
              "<title>11627404208&#45;&gt;6278764864</title>\n",
              "<path fill=\"none\" stroke=\"black\" d=\"M449.98,-217.16C445.06,-210.06 438.3,-200.34 431.93,-191.16\"/>\n",
              "<polygon fill=\"black\" stroke=\"black\" points=\"434.96,-189.39 426.38,-183.17 429.21,-193.38 434.96,-189.39\"/>\n",
              "</g>\n",
              "</g>\n",
              "</svg>\n"
            ],
            "text/plain": [
              "<graphviz.graphs.Digraph at 0x2c288f650>"
            ]
          },
          "execution_count": 32,
          "metadata": {},
          "output_type": "execute_result"
        }
      ],
      "source": [
        "ϕ = Implies(avoid, reach)\n",
        "ϕ((distance_to_obstacle,distance_to_obstacle));\n",
        "make_stl_graph(ϕ)\n"
      ]
    }
  ],
  "metadata": {
    "colab": {
      "include_colab_link": true,
      "provenance": []
    },
    "kernelspec": {
      "display_name": "stljax",
      "language": "python",
      "name": "python3"
    },
    "language_info": {
      "codemirror_mode": {
        "name": "ipython",
        "version": 3
      },
      "file_extension": ".py",
      "mimetype": "text/x-python",
      "name": "python",
      "nbconvert_exporter": "python",
      "pygments_lexer": "ipython3",
      "version": "3.12.4"
    }
  },
  "nbformat": 4,
  "nbformat_minor": 0
}
