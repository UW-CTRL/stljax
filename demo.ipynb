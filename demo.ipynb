{
  "cells": [
    {
      "cell_type": "markdown",
      "metadata": {
        "colab_type": "text",
        "id": "view-in-github"
      },
      "source": [
        "<a href=\"https://colab.research.google.com/github/UW-CTRL/stljax/blob/main/demo.ipynb\" target=\"_parent\"><img src=\"https://colab.research.google.com/assets/colab-badge.svg\" alt=\"Open In Colab\"/></a>"
      ]
    },
    {
      "cell_type": "markdown",
      "metadata": {
        "id": "Ym9wI1PDEH34"
      },
      "source": [
        "If running in colab, in a cell, run the following command:\n",
        "\n",
        "`!pip install --upgrade git+https://github.com/UW-CTRL/stljax.git`"
      ]
    },
    {
      "cell_type": "code",
      "execution_count": 1,
      "metadata": {
        "colab": {
          "base_uri": "https://localhost:8080/"
        },
        "id": "bP3ZmMocCRef",
        "outputId": "e8ce448d-f09a-4ac2-fb0b-75a9e927aafe"
      },
      "outputs": [],
      "source": [
        "import jax\n",
        "import jax.numpy as jnp\n",
        "import numpy as np\n",
        "import matplotlib.pyplot as plt\n",
        "from stljax.formula import *\n",
        "from stljax.viz import *\n",
        "\n",
        "import functools"
      ]
    },
    {
      "cell_type": "markdown",
      "metadata": {
        "id": "nSqJZK4OCReg"
      },
      "source": [
        "## NOTE\n",
        "`stljax` expects input signals to be of size `[batch_size, time_dim, state_dim]`.\n",
        "We are working on generalizing this, but right now, it assumes that particular structure.\n",
        "\n",
        "Additionally, stljax processes the signals _backwards_ in time. The Expression and Predicate classes help keep track of whether a signal is fed in backwards or not.\n",
        "Below we describe this is more details."
      ]
    },
    {
      "cell_type": "code",
      "execution_count": 2,
      "metadata": {
        "id": "8zoZeNnFCReg"
      },
      "outputs": [],
      "source": [
        "#  some helper functions\n",
        "\n",
        "@jax.jit\n",
        "def dynamics_discrete_step(state, control, dt=0.1):\n",
        "    '''Single integrator 2d dynamics'''\n",
        "    return state + control * dt\n",
        "\n",
        "@jax.jit\n",
        "def simulate_dynamics(controls, state0, dt):\n",
        "    T = controls.shape[1]\n",
        "    _states = [state0]\n",
        "    for t in range(T):\n",
        "        _states.append(dynamics_discrete_step(_states[-1], controls[:,t,:], dt))\n",
        "    return jnp.concatenate(_states, 1)\n",
        "\n",
        "def compute_distance_to_origin(states):\n",
        "    return jnp.linalg.norm(states[...,:2], axis=-1, keepdims=True)"
      ]
    },
    {
      "cell_type": "code",
      "execution_count": 3,
      "metadata": {
        "colab": {
          "base_uri": "https://localhost:8080/",
          "height": 499
        },
        "id": "enRG3dDrCReh",
        "outputId": "af9bcb65-ca49-48bb-b268-9bb5dc04d8f6"
      },
      "outputs": [
        {
          "data": {
            "text/plain": [
              "(np.float64(-2.8336225271224977),\n",
              " np.float64(0.658743929862976),\n",
              " np.float64(-2.5266865134239196),\n",
              " np.float64(0.6441279292106629))"
            ]
          },
          "execution_count": 3,
          "metadata": {},
          "output_type": "execute_result"
        },
        {
          "data": {
            "image/png": "[encoded data removed]",
            "text/plain": [
              "<Figure size 640x480 with 1 Axes>"
            ]
          },
          "metadata": {},
          "output_type": "display_data"
        }
      ],
      "source": [
        "# In this example, using a control sequence to generate a state trajectory\n",
        "T = 25  # time horizon\n",
        "dt = 0.1\n",
        "time_dim = 1 # axis corresponding to time dimension\n",
        "np.random.seed(123)\n",
        "controls = jnp.array(np.random.randn(1,T,2))   # generate control sequence\n",
        "state0 = jnp.array(np.random.randn(1,1,2)) - 1.0   # initial state\n",
        "states = simulate_dynamics(controls, state0, dt)   # simulate state trajectory\n",
        "\n",
        "# plotting the trajectory (should look noisy/random)\n",
        "fig, ax = plt.subplots()\n",
        "ax.plot(*states[0].T)\n",
        "ax.scatter(states[0,0,:1], states[0,0,1:], label=\"start\")\n",
        "ax.scatter(states[0,-1,:1], states[0,-1,1:], label=\"end\")\n",
        "circle1 = plt.Circle((0, 0), 0.5, color='C2', alpha=0.4)\n",
        "ax.add_patch(circle1)\n",
        "\n",
        "plt.xlim([-5,1])\n",
        "plt.ylim([-4,1])\n",
        "plt.legend()\n",
        "plt.grid()\n",
        "plt.axis(\"equal\")\n"
      ]
    },
    {
      "cell_type": "markdown",
      "metadata": {
        "id": "oYow-oBfCReh"
      },
      "source": [
        "## Using Expressions"
      ]
    },
    {
      "cell_type": "code",
      "execution_count": 4,
      "metadata": {
        "colab": {
          "base_uri": "https://localhost:8080/"
        },
        "id": "pgkKR6e4CReh",
        "outputId": "8d27aa1b-022e-4689-d001-3b0af39b8ae5"
      },
      "outputs": [
        {
          "name": "stdout",
          "output_type": "stream",
          "text": [
            "Robustness trace:  [-2.5186005 -2.5186005 -2.5186005 -2.5186005 -2.5186005 -2.5186005\n",
            " -2.5186005 -2.5186005 -2.5186005 -2.5186005 -2.477519  -2.4112952\n",
            " -2.3951554 -2.256407  -2.2557175 -2.2557175 -2.2557175 -2.2557175\n",
            " -2.2557175 -2.2557175 -2.2557175 -2.2557175 -2.2557175 -2.2557175\n",
            " -2.2557175 -2.2557175]\n",
            "Robustness value:  -2.2557175\n"
          ]
        },
        {
          "name": "stderr",
          "output_type": "stream",
          "text": [
            "/Users/karen/repos/stljax/stljax/formula.py:1137: UserWarning: Input Expression \"magnitude\" is not time reversed! stljax will time-reverse the inputs for you...\n",
            "  warnings.warn(\"Input Expression \\\"{input_name}\\\" is not time reversed! stljax will time-reverse the inputs for you...\".format(input_name=inputs.name))\n"
          ]
        }
      ],
      "source": [
        "# first define Expression (with None value)\n",
        "# NOTE: Expressions are used for setting up predicates.\n",
        "#       The values associated with an Expression is more for convenience.\n",
        "#       You can use a jnp.array directly when evaluating a formula, rather than using an Expression with values populated.\n",
        "distance_to_origin_exp = Expression(\"magnitude\", value=None, reverse=False, time_dim=time_dim)\n",
        "\n",
        "# formula Eventually distance to origin is less than 0.5\n",
        "formula_exp = Eventually(distance_to_origin_exp < 0.5)\n",
        "\n",
        "\n",
        "# this will throw error since the Expression value is None.\n",
        "# (commented out for convenience in running the notebook)\n",
        "# formula(distance_to_origin_exp)\n",
        "\n",
        "# setting value for\n",
        "states_norm = compute_distance_to_origin(states)   # compute distance to origin, size [1, 26, 1]\n",
        "\n",
        "distance_to_origin_exp.set_value(states_norm)   # set value for Expression\n",
        "\n",
        "\n",
        "# compute robustness trace and value\n",
        "# inputs are Expression objects\n",
        "# since reverse=False, stljax will automatically time reverse the input signal, and warn user about it.\n",
        "\n",
        "# robustness trace\n",
        "print(\"Robustness trace: \", formula_exp(distance_to_origin_exp).squeeze())\n",
        "\n",
        "# robustness value\n",
        "print(\"Robustness value: \", formula_exp.robustness(distance_to_origin_exp, time_dim=time_dim).squeeze())\n"
      ]
    },
    {
      "cell_type": "code",
      "execution_count": 5,
      "metadata": {
        "colab": {
          "base_uri": "https://localhost:8080/"
        },
        "id": "lF7hWaOCCReh",
        "outputId": "7842eca0-3c24-41f2-bf63-d96661fdef0d"
      },
      "outputs": [
        {
          "data": {
            "text/plain": [
              "Array([-2.5186005, -2.5186005, -2.5186005, -2.5186005, -2.5186005,\n",
              "       -2.5186005, -2.5186005, -2.5186005, -2.5186005, -2.5186005,\n",
              "       -2.477519 , -2.4112952, -2.3951554, -2.256407 , -2.2557175,\n",
              "       -2.2557175, -2.2557175, -2.2557175, -2.2557175, -2.2557175,\n",
              "       -2.2557175, -2.2557175, -2.2557175, -2.2557175, -2.2557175,\n",
              "       -2.2557175], dtype=float32)"
            ]
          },
          "execution_count": 5,
          "metadata": {},
          "output_type": "execute_result"
        }
      ],
      "source": [
        "# if you time reverse the Expression, you will and should get the same answer. When reverse=True, stljax will not automatically reverse the signal for you.\n",
        "if not distance_to_origin_exp.reverse:\n",
        "    distance_to_origin_exp.flip_time()   # reverse the time signal. Expressions help keep track of it for you.\n",
        "formula_exp(distance_to_origin_exp).squeeze()"
      ]
    },
    {
      "cell_type": "code",
      "execution_count": 6,
      "metadata": {
        "id": "S3xuqsYvCRei"
      },
      "outputs": [],
      "source": [
        "# make functions that output a scalar value for robustness, and compute the gradient.\n",
        "# note: inputs are jnp.arrays, not Expression objects.\n",
        "f = jax.jit(lambda states: formula_exp(states).mean())\n",
        "g = jax.jit(jax.grad(f))"
      ]
    },
    {
      "cell_type": "code",
      "execution_count": 7,
      "metadata": {
        "colab": {
          "base_uri": "https://localhost:8080/"
        },
        "id": "8Y0NzlT5CRei",
        "outputId": "862bc198-be5d-4638-e1e7-9d1223b05b3d"
      },
      "outputs": [
        {
          "name": "stdout",
          "output_type": "stream",
          "text": [
            "2.7 μs ± 62.5 ns per loop (mean ± std. dev. of 7 runs, 100,000 loops each)\n",
            "18.5 μs ± 6.4 μs per loop (mean ± std. dev. of 7 runs, 1 loop each)\n"
          ]
        }
      ],
      "source": [
        "# very fast!\n",
        "%timeit f(distance_to_origin_exp.value)\n",
        "%timeit g(distance_to_origin_exp.value)"
      ]
    },
    {
      "cell_type": "markdown",
      "metadata": {
        "id": "bUfGQOrGCRei"
      },
      "source": [
        "## Using Predicates"
      ]
    },
    {
      "cell_type": "code",
      "execution_count": 8,
      "metadata": {
        "colab": {
          "base_uri": "https://localhost:8080/"
        },
        "id": "zdhRJXV1CRei",
        "outputId": "82fdef6f-4f62-4f20-d447-65ba69843e25"
      },
      "outputs": [
        {
          "name": "stdout",
          "output_type": "stream",
          "text": [
            "Robustness trace:  [-2.5186005 -2.5186005 -2.5186005 -2.5186005 -2.5186005 -2.5186005\n",
            " -2.5186005 -2.5186005 -2.5186005 -2.5186005 -2.477519  -2.4112952\n",
            " -2.3951554 -2.256407  -2.2557175 -2.2557175 -2.2557175 -2.2557175\n",
            " -2.2557175 -2.2557175 -2.2557175 -2.2557175 -2.2557175 -2.2557175\n",
            " -2.2557175 -2.2557175]\n",
            "Robustness value:  -2.2557175\n"
          ]
        },
        {
          "name": "stderr",
          "output_type": "stream",
          "text": [
            "/Users/karen/repos/stljax/stljax/formula.py:329: UserWarning: Input Predicate \"magnitude\" is not time reversed. Reversing the signal now...\n",
            "  warnings.warn(\"Input Predicate \\\"{input_name}\\\" is not time reversed. Reversing the signal now...\".format(input_name=self.lhs.name))\n"
          ]
        }
      ],
      "source": [
        "# reverse is set to False since we are not assuming the trajectory is already time-reversed\n",
        "# Within the Predicate definition, the signal will be automatically time-reversed durogn robustness computation. User does not need to handle it.\n",
        "distance_to_origin_pred = Predicate(\"magnitude\", predicate_function=compute_distance_to_origin, reverse=False, time_dim=time_dim)\n",
        "formula_pred = Eventually(distance_to_origin_pred < 0.5)\n",
        "\n",
        "formula_pred(states).squeeze()\n",
        "\n",
        "# compute robustness trace and value\n",
        "# inputs are jnp.arrays\n",
        "# robustness trace\n",
        "print(\"Robustness trace: \", formula_pred(states).squeeze() )\n",
        "\n",
        "# robustness value\n",
        "print(\"Robustness value: \", formula_pred.robustness(states, time_dim=time_dim).squeeze())"
      ]
    },
    {
      "cell_type": "code",
      "execution_count": 9,
      "metadata": {
        "id": "CHpFtaVnCRei"
      },
      "outputs": [],
      "source": [
        "# make functions that output a scalar value for robustness, and compute the gradient.\n",
        "f = jax.jit(lambda states: formula_pred(states).mean())\n",
        "g = jax.jit(jax.grad(f))"
      ]
    },
    {
      "cell_type": "code",
      "execution_count": 10,
      "metadata": {
        "colab": {
          "base_uri": "https://localhost:8080/"
        },
        "id": "M170nntGCRei",
        "outputId": "6e2a4aea-6f7f-47f8-c319-d05cadb5a2cb"
      },
      "outputs": [
        {
          "name": "stdout",
          "output_type": "stream",
          "text": [
            "3 μs ± 69.9 ns per loop (mean ± std. dev. of 7 runs, 100,000 loops each)\n",
            "17.1 μs ± 4.76 μs per loop (mean ± std. dev. of 7 runs, 1 loop each)\n"
          ]
        }
      ],
      "source": [
        "%timeit f(states)\n",
        "%timeit g(states)"
      ]
    },
    {
      "cell_type": "markdown",
      "metadata": {
        "id": "sAF3ReqRCRei"
      },
      "source": [
        "# Taking gradients and max/min approximations\n",
        "\n",
        "Computing gradients is straight-forward by using Jax's grad functionality.\n",
        "\n",
        "We show how to use different max/min approximations"
      ]
    },
    {
      "cell_type": "markdown",
      "metadata": {
        "id": "BsTlwSunCRei"
      },
      "source": [
        "## Using `Expression`"
      ]
    },
    {
      "cell_type": "code",
      "execution_count": 11,
      "metadata": {
        "id": "uLa1RYDjCRei"
      },
      "outputs": [],
      "source": [
        "def robustness_mean_exp(signal, time_dim, **kwargs):\n",
        "    # needs to output a scalar\n",
        "    signal_norm = compute_distance_to_origin(signal)\n",
        "    return formula_exp.robustness(signal_norm, time_dim, **kwargs).mean()"
      ]
    },
    {
      "cell_type": "code",
      "execution_count": 12,
      "metadata": {
        "colab": {
          "base_uri": "https://localhost:8080/"
        },
        "id": "dZjcBLMICRei",
        "outputId": "41118668-94b6-434d-fe37-e8e34ed49520"
      },
      "outputs": [
        {
          "data": {
            "text/plain": [
              "Array([[[-0.00000000e+00, -0.00000000e+00],\n",
              "        [-0.00000000e+00, -0.00000000e+00],\n",
              "        [-0.00000000e+00, -0.00000000e+00],\n",
              "        [-0.00000000e+00, -0.00000000e+00],\n",
              "        [-0.00000000e+00, -0.00000000e+00],\n",
              "        [-0.00000000e+00, -0.00000000e+00],\n",
              "        [-0.00000000e+00, -0.00000000e+00],\n",
              "        [-0.00000000e+00, -0.00000000e+00],\n",
              "        [-0.00000000e+00, -0.00000000e+00],\n",
              "        [-0.00000000e+00, -0.00000000e+00],\n",
              "        [-0.00000000e+00, -0.00000000e+00],\n",
              "        [-0.00000000e+00, -0.00000000e+00],\n",
              "        [-0.00000000e+00, -0.00000000e+00],\n",
              "        [-0.00000000e+00, -0.00000000e+00],\n",
              "        [-0.00000000e+00, -0.00000000e+00],\n",
              "        [-0.00000000e+00, -0.00000000e+00],\n",
              "        [-2.53600680e-04, -2.17406094e-04],\n",
              "        [-0.00000000e+00, -0.00000000e+00],\n",
              "        [-0.00000000e+00, -0.00000000e+00],\n",
              "        [-0.00000000e+00, -0.00000000e+00],\n",
              "        [-6.37109857e-03, -1.65476762e-02],\n",
              "        [-0.00000000e+00, -0.00000000e+00],\n",
              "        [-0.00000000e+00, -0.00000000e+00],\n",
              "        [-8.58368501e-02, -9.95073188e-03],\n",
              "        [-0.00000000e+00, -0.00000000e+00]],\n",
              "\n",
              "       [[-0.00000000e+00, -0.00000000e+00],\n",
              "        [-0.00000000e+00, -0.00000000e+00],\n",
              "        [-0.00000000e+00, -0.00000000e+00],\n",
              "        [-5.97348048e-07, -3.39276407e-09],\n",
              "        [-3.01266354e-08, -2.03782974e-07],\n",
              "        [-5.91590776e-09, -8.61139701e-11],\n",
              "        [-0.00000000e+00, -0.00000000e+00],\n",
              "        [-0.00000000e+00, -0.00000000e+00],\n",
              "        [-0.00000000e+00, -0.00000000e+00],\n",
              "        [-0.00000000e+00, -0.00000000e+00],\n",
              "        [-0.00000000e+00, -0.00000000e+00],\n",
              "        [-0.00000000e+00, -0.00000000e+00],\n",
              "        [-0.00000000e+00, -0.00000000e+00],\n",
              "        [-0.00000000e+00, -0.00000000e+00],\n",
              "        [-1.39416335e-03, -3.66991409e-03],\n",
              "        [-0.00000000e+00, -0.00000000e+00],\n",
              "        [-0.00000000e+00, -0.00000000e+00],\n",
              "        [-0.00000000e+00, -0.00000000e+00],\n",
              "        [-0.00000000e+00, -0.00000000e+00],\n",
              "        [-0.00000000e+00, -0.00000000e+00],\n",
              "        [-0.00000000e+00, -0.00000000e+00],\n",
              "        [-0.00000000e+00, -0.00000000e+00],\n",
              "        [-0.00000000e+00, -0.00000000e+00],\n",
              "        [-0.00000000e+00, -0.00000000e+00],\n",
              "        [-0.00000000e+00, -0.00000000e+00]],\n",
              "\n",
              "       [[-0.00000000e+00, -0.00000000e+00],\n",
              "        [-0.00000000e+00, -0.00000000e+00],\n",
              "        [-0.00000000e+00, -0.00000000e+00],\n",
              "        [-0.00000000e+00, -0.00000000e+00],\n",
              "        [-0.00000000e+00, -0.00000000e+00],\n",
              "        [-0.00000000e+00, -0.00000000e+00],\n",
              "        [-0.00000000e+00, -0.00000000e+00],\n",
              "        [-0.00000000e+00, -0.00000000e+00],\n",
              "        [-0.00000000e+00, -0.00000000e+00],\n",
              "        [-0.00000000e+00, -0.00000000e+00],\n",
              "        [-0.00000000e+00, -0.00000000e+00],\n",
              "        [-0.00000000e+00, -0.00000000e+00],\n",
              "        [-0.00000000e+00, -0.00000000e+00],\n",
              "        [-0.00000000e+00, -0.00000000e+00],\n",
              "        [-0.00000000e+00, -0.00000000e+00],\n",
              "        [-0.00000000e+00, -0.00000000e+00],\n",
              "        [-0.00000000e+00, -0.00000000e+00],\n",
              "        [-4.43577825e-04, -2.33319835e-04],\n",
              "        [-3.47712496e-03, -7.56781606e-04],\n",
              "        [-9.61855613e-03, -3.94191546e-03],\n",
              "        [-2.85215937e-02, -1.29397297e-02],\n",
              "        [-0.00000000e+00, -0.00000000e+00],\n",
              "        [-0.00000000e+00, -0.00000000e+00],\n",
              "        [-0.00000000e+00, -0.00000000e+00],\n",
              "        [-0.00000000e+00, -0.00000000e+00]],\n",
              "\n",
              "       [[-0.00000000e+00, -0.00000000e+00],\n",
              "        [-0.00000000e+00, -0.00000000e+00],\n",
              "        [-0.00000000e+00, -0.00000000e+00],\n",
              "        [-1.27503966e-07, -3.13489920e-07],\n",
              "        [-0.00000000e+00, -0.00000000e+00],\n",
              "        [-0.00000000e+00, -0.00000000e+00],\n",
              "        [-0.00000000e+00, -0.00000000e+00],\n",
              "        [-0.00000000e+00, -0.00000000e+00],\n",
              "        [-4.10431785e-05, -5.17721055e-05],\n",
              "        [-0.00000000e+00, -0.00000000e+00],\n",
              "        [-0.00000000e+00, -0.00000000e+00],\n",
              "        [-9.76930751e-05, -2.65887618e-04],\n",
              "        [-0.00000000e+00, -0.00000000e+00],\n",
              "        [-0.00000000e+00, -0.00000000e+00],\n",
              "        [-6.13846700e-04, -4.17286064e-03],\n",
              "        [-0.00000000e+00, -0.00000000e+00],\n",
              "        [-0.00000000e+00, -0.00000000e+00],\n",
              "        [-0.00000000e+00, -0.00000000e+00],\n",
              "        [-0.00000000e+00, -0.00000000e+00],\n",
              "        [-0.00000000e+00, -0.00000000e+00],\n",
              "        [-0.00000000e+00, -0.00000000e+00],\n",
              "        [-0.00000000e+00, -0.00000000e+00],\n",
              "        [-0.00000000e+00, -0.00000000e+00],\n",
              "        [-0.00000000e+00, -0.00000000e+00],\n",
              "        [-0.00000000e+00, -0.00000000e+00]],\n",
              "\n",
              "       [[-3.53571430e-08, -1.07425706e-07],\n",
              "        [-0.00000000e+00, -0.00000000e+00],\n",
              "        [-0.00000000e+00, -0.00000000e+00],\n",
              "        [-1.12905019e-08, -2.42203100e-07],\n",
              "        [-0.00000000e+00, -0.00000000e+00],\n",
              "        [-3.99914256e-07, -9.31403520e-07],\n",
              "        [-0.00000000e+00, -0.00000000e+00],\n",
              "        [-0.00000000e+00, -0.00000000e+00],\n",
              "        [-2.19786807e-06, -7.79565289e-06],\n",
              "        [-0.00000000e+00, -0.00000000e+00],\n",
              "        [-0.00000000e+00, -0.00000000e+00],\n",
              "        [-0.00000000e+00, -0.00000000e+00],\n",
              "        [-0.00000000e+00, -0.00000000e+00],\n",
              "        [-0.00000000e+00, -0.00000000e+00],\n",
              "        [-0.00000000e+00, -0.00000000e+00],\n",
              "        [-0.00000000e+00, -0.00000000e+00],\n",
              "        [-0.00000000e+00, -0.00000000e+00],\n",
              "        [-0.00000000e+00, -0.00000000e+00],\n",
              "        [-4.26123943e-03, -1.70225892e-02],\n",
              "        [-0.00000000e+00, -0.00000000e+00],\n",
              "        [-0.00000000e+00, -0.00000000e+00],\n",
              "        [-0.00000000e+00, -0.00000000e+00],\n",
              "        [-0.00000000e+00, -0.00000000e+00],\n",
              "        [-0.00000000e+00, -0.00000000e+00],\n",
              "        [-0.00000000e+00, -0.00000000e+00]]], dtype=float32)"
            ]
          },
          "execution_count": 12,
          "metadata": {},
          "output_type": "execute_result"
        }
      ],
      "source": [
        "key = jax.random.PRNGKey(123)  # Random seed is explicit in JAX\n",
        "\n",
        "# NOTE: Since we are not using Expressions to handle the signals, the user must manually keep track of whether or not the signal is time_reversed or not.\n",
        "# make a random signal\n",
        "signal = jax.random.uniform(key, shape=(5, T, 2))  # assuming it's already reversed.\n",
        "\n",
        "# Default: approx_method=\"true\" -- taking gradient using the true min/max function\n",
        "jax.grad(robustness_mean_exp)(signal, time_dim).squeeze()\n",
        "\n",
        "# taking gradient using a min/max approximation method (specify method and temperature), and the gradients should be \"spread\" to other indices as well\n",
        "\n",
        "# logsumexp approximation\n",
        "jax.grad(robustness_mean_exp)(signal, time_dim, approx_method=\"logsumexp\", temperature=10).squeeze()\n",
        "\n",
        "# softmax approximation\n",
        "jax.grad(robustness_mean_exp)(signal, time_dim, approx_method=\"softmax\", temperature=10).squeeze()\n",
        "\n",
        "# # gmsr approximation (https://arxiv.org/abs/2405.10996)\n",
        "jax.grad(robustness_mean_exp)(signal, time_dim, approx_method=\"gmsr\", temperature=(1E-6, 1.)).squeeze()\n"
      ]
    },
    {
      "cell_type": "markdown",
      "metadata": {
        "id": "Voq_R34BCRei"
      },
      "source": [
        "## Using `Predicate`"
      ]
    },
    {
      "cell_type": "code",
      "execution_count": 13,
      "metadata": {
        "colab": {
          "base_uri": "https://localhost:8080/"
        },
        "id": "s-HIfG1uCRei",
        "outputId": "a8775f09-e23a-4478-d2bc-0bedd902d436"
      },
      "outputs": [
        {
          "data": {
            "text/plain": [
              "Array([[[-0.00000000e+00, -0.00000000e+00],\n",
              "        [-0.00000000e+00, -0.00000000e+00],\n",
              "        [-0.00000000e+00, -0.00000000e+00],\n",
              "        [-0.00000000e+00, -0.00000000e+00],\n",
              "        [-0.00000000e+00, -0.00000000e+00],\n",
              "        [-0.00000000e+00, -0.00000000e+00],\n",
              "        [-0.00000000e+00, -0.00000000e+00],\n",
              "        [-0.00000000e+00, -0.00000000e+00],\n",
              "        [-0.00000000e+00, -0.00000000e+00],\n",
              "        [-0.00000000e+00, -0.00000000e+00],\n",
              "        [-0.00000000e+00, -0.00000000e+00],\n",
              "        [-0.00000000e+00, -0.00000000e+00],\n",
              "        [-0.00000000e+00, -0.00000000e+00],\n",
              "        [-0.00000000e+00, -0.00000000e+00],\n",
              "        [-0.00000000e+00, -0.00000000e+00],\n",
              "        [-0.00000000e+00, -0.00000000e+00],\n",
              "        [-2.53600680e-04, -2.17406094e-04],\n",
              "        [-0.00000000e+00, -0.00000000e+00],\n",
              "        [-0.00000000e+00, -0.00000000e+00],\n",
              "        [-0.00000000e+00, -0.00000000e+00],\n",
              "        [-6.37109857e-03, -1.65476762e-02],\n",
              "        [-0.00000000e+00, -0.00000000e+00],\n",
              "        [-0.00000000e+00, -0.00000000e+00],\n",
              "        [-8.58368501e-02, -9.95073188e-03],\n",
              "        [-0.00000000e+00, -0.00000000e+00]],\n",
              "\n",
              "       [[-0.00000000e+00, -0.00000000e+00],\n",
              "        [-0.00000000e+00, -0.00000000e+00],\n",
              "        [-0.00000000e+00, -0.00000000e+00],\n",
              "        [-5.97348048e-07, -3.39276407e-09],\n",
              "        [-3.01266354e-08, -2.03782974e-07],\n",
              "        [-5.91590776e-09, -8.61139701e-11],\n",
              "        [-0.00000000e+00, -0.00000000e+00],\n",
              "        [-0.00000000e+00, -0.00000000e+00],\n",
              "        [-0.00000000e+00, -0.00000000e+00],\n",
              "        [-0.00000000e+00, -0.00000000e+00],\n",
              "        [-0.00000000e+00, -0.00000000e+00],\n",
              "        [-0.00000000e+00, -0.00000000e+00],\n",
              "        [-0.00000000e+00, -0.00000000e+00],\n",
              "        [-0.00000000e+00, -0.00000000e+00],\n",
              "        [-1.39416335e-03, -3.66991409e-03],\n",
              "        [-0.00000000e+00, -0.00000000e+00],\n",
              "        [-0.00000000e+00, -0.00000000e+00],\n",
              "        [-0.00000000e+00, -0.00000000e+00],\n",
              "        [-0.00000000e+00, -0.00000000e+00],\n",
              "        [-0.00000000e+00, -0.00000000e+00],\n",
              "        [-0.00000000e+00, -0.00000000e+00],\n",
              "        [-0.00000000e+00, -0.00000000e+00],\n",
              "        [-0.00000000e+00, -0.00000000e+00],\n",
              "        [-0.00000000e+00, -0.00000000e+00],\n",
              "        [-0.00000000e+00, -0.00000000e+00]],\n",
              "\n",
              "       [[-0.00000000e+00, -0.00000000e+00],\n",
              "        [-0.00000000e+00, -0.00000000e+00],\n",
              "        [-0.00000000e+00, -0.00000000e+00],\n",
              "        [-0.00000000e+00, -0.00000000e+00],\n",
              "        [-0.00000000e+00, -0.00000000e+00],\n",
              "        [-0.00000000e+00, -0.00000000e+00],\n",
              "        [-0.00000000e+00, -0.00000000e+00],\n",
              "        [-0.00000000e+00, -0.00000000e+00],\n",
              "        [-0.00000000e+00, -0.00000000e+00],\n",
              "        [-0.00000000e+00, -0.00000000e+00],\n",
              "        [-0.00000000e+00, -0.00000000e+00],\n",
              "        [-0.00000000e+00, -0.00000000e+00],\n",
              "        [-0.00000000e+00, -0.00000000e+00],\n",
              "        [-0.00000000e+00, -0.00000000e+00],\n",
              "        [-0.00000000e+00, -0.00000000e+00],\n",
              "        [-0.00000000e+00, -0.00000000e+00],\n",
              "        [-0.00000000e+00, -0.00000000e+00],\n",
              "        [-4.43577825e-04, -2.33319835e-04],\n",
              "        [-3.47712496e-03, -7.56781606e-04],\n",
              "        [-9.61855613e-03, -3.94191546e-03],\n",
              "        [-2.85215937e-02, -1.29397297e-02],\n",
              "        [-0.00000000e+00, -0.00000000e+00],\n",
              "        [-0.00000000e+00, -0.00000000e+00],\n",
              "        [-0.00000000e+00, -0.00000000e+00],\n",
              "        [-0.00000000e+00, -0.00000000e+00]],\n",
              "\n",
              "       [[-0.00000000e+00, -0.00000000e+00],\n",
              "        [-0.00000000e+00, -0.00000000e+00],\n",
              "        [-0.00000000e+00, -0.00000000e+00],\n",
              "        [-1.27503966e-07, -3.13489920e-07],\n",
              "        [-0.00000000e+00, -0.00000000e+00],\n",
              "        [-0.00000000e+00, -0.00000000e+00],\n",
              "        [-0.00000000e+00, -0.00000000e+00],\n",
              "        [-0.00000000e+00, -0.00000000e+00],\n",
              "        [-4.10431785e-05, -5.17721055e-05],\n",
              "        [-0.00000000e+00, -0.00000000e+00],\n",
              "        [-0.00000000e+00, -0.00000000e+00],\n",
              "        [-9.76930751e-05, -2.65887618e-04],\n",
              "        [-0.00000000e+00, -0.00000000e+00],\n",
              "        [-0.00000000e+00, -0.00000000e+00],\n",
              "        [-6.13846700e-04, -4.17286064e-03],\n",
              "        [-0.00000000e+00, -0.00000000e+00],\n",
              "        [-0.00000000e+00, -0.00000000e+00],\n",
              "        [-0.00000000e+00, -0.00000000e+00],\n",
              "        [-0.00000000e+00, -0.00000000e+00],\n",
              "        [-0.00000000e+00, -0.00000000e+00],\n",
              "        [-0.00000000e+00, -0.00000000e+00],\n",
              "        [-0.00000000e+00, -0.00000000e+00],\n",
              "        [-0.00000000e+00, -0.00000000e+00],\n",
              "        [-0.00000000e+00, -0.00000000e+00],\n",
              "        [-0.00000000e+00, -0.00000000e+00]],\n",
              "\n",
              "       [[-3.53571430e-08, -1.07425706e-07],\n",
              "        [-0.00000000e+00, -0.00000000e+00],\n",
              "        [-0.00000000e+00, -0.00000000e+00],\n",
              "        [-1.12905019e-08, -2.42203100e-07],\n",
              "        [-0.00000000e+00, -0.00000000e+00],\n",
              "        [-3.99914256e-07, -9.31403520e-07],\n",
              "        [-0.00000000e+00, -0.00000000e+00],\n",
              "        [-0.00000000e+00, -0.00000000e+00],\n",
              "        [-2.19786807e-06, -7.79565289e-06],\n",
              "        [-0.00000000e+00, -0.00000000e+00],\n",
              "        [-0.00000000e+00, -0.00000000e+00],\n",
              "        [-0.00000000e+00, -0.00000000e+00],\n",
              "        [-0.00000000e+00, -0.00000000e+00],\n",
              "        [-0.00000000e+00, -0.00000000e+00],\n",
              "        [-0.00000000e+00, -0.00000000e+00],\n",
              "        [-0.00000000e+00, -0.00000000e+00],\n",
              "        [-0.00000000e+00, -0.00000000e+00],\n",
              "        [-0.00000000e+00, -0.00000000e+00],\n",
              "        [-4.26123943e-03, -1.70225892e-02],\n",
              "        [-0.00000000e+00, -0.00000000e+00],\n",
              "        [-0.00000000e+00, -0.00000000e+00],\n",
              "        [-0.00000000e+00, -0.00000000e+00],\n",
              "        [-0.00000000e+00, -0.00000000e+00],\n",
              "        [-0.00000000e+00, -0.00000000e+00],\n",
              "        [-0.00000000e+00, -0.00000000e+00]]], dtype=float32)"
            ]
          },
          "execution_count": 13,
          "metadata": {},
          "output_type": "execute_result"
        }
      ],
      "source": [
        "\n",
        "# NOTE: You still need to create an Expression to define a predicate\n",
        "key = jax.random.PRNGKey(123)  # Random seed is explicit in JAX\n",
        "\n",
        "# make a random signal\n",
        "signal = jax.random.uniform(key, shape=(5, T, 2))  # assuming it's already reversed (to compare with the above outputs from Expression)\n",
        "distance_to_origin_pred = Predicate(\"magnitude\", compute_distance_to_origin, reverse=True, time_dim=time_dim)\n",
        "formula_pred = Eventually(distance_to_origin_pred < 0.5)\n",
        "\n",
        "# and we can take gradients with respect to the signal\n",
        "def robustness_mean_pred(signal, time_dim, **kwargs):\n",
        "    # needs to output a scalar\n",
        "    return formula_pred.robustness(signal, time_dim, **kwargs).mean()\n",
        "\n",
        "# taking gradient using the true min/max function\n",
        "jax.grad(robustness_mean_pred)(signal, time_dim, approx_method=\"true\") # all zeros expect its -1 at the index where the point (0.5 - signal[index]) is the largest\n",
        "\n",
        "# taking gradient using a min/max approximation method (specify method and temperature), and the gradients should be \"spread\" to other indices as well\n",
        "# logsumexp approximation\n",
        "jax.grad(robustness_mean_pred)(signal, time_dim, approx_method=\"logsumexp\", temperature=10)\n",
        "\n",
        "# softmax approximation\n",
        "jax.grad(robustness_mean_pred)(signal, time_dim, approx_method=\"softmax\", temperature=10)\n",
        "\n",
        "# # gmsr approximation (https://arxiv.org/abs/2405.10996)\n",
        "jax.grad(robustness_mean_pred)(signal, time_dim, approx_method=\"gmsr\", temperature=(1E-6, 1.))\n"
      ]
    },
    {
      "cell_type": "code",
      "execution_count": 14,
      "metadata": {
        "colab": {
          "base_uri": "https://localhost:8080/"
        },
        "id": "_YSm-LiNCRej",
        "outputId": "0793e822-9465-4000-af9a-f411210b4a21"
      },
      "outputs": [
        {
          "data": {
            "text/plain": [
              "(Array(0, dtype=int32),\n",
              " Array(0, dtype=int32),\n",
              " Array(0, dtype=int32),\n",
              " Array(0, dtype=int32))"
            ]
          },
          "execution_count": 14,
          "metadata": {},
          "output_type": "execute_result"
        }
      ],
      "source": [
        "# check if we get the same answer with both approaches.\n",
        "(~jnp.isclose(jax.grad(robustness_mean_pred)(signal, time_dim, approx_method=\"true\"), jax.grad(robustness_mean_pred)(signal, time_dim, approx_method=\"true\"))).sum(),\\\n",
        "(~jnp.isclose(jax.grad(robustness_mean_pred)(signal, time_dim, approx_method=\"logsumexp\", temperature=3), jax.grad(robustness_mean_pred)(signal, time_dim, approx_method=\"logsumexp\", temperature=3))).sum(),\\\n",
        "(~jnp.isclose(jax.grad(robustness_mean_pred)(signal, time_dim, approx_method=\"softmax\", temperature=3), jax.grad(robustness_mean_pred)(signal, time_dim, approx_method=\"softmax\", temperature=3))).sum(),\\\n",
        "(~jnp.isclose(jax.grad(robustness_mean_pred)(signal, time_dim, approx_method=\"gmsr\", temperature=(1E-6, 1.)), jax.grad(robustness_mean_pred)(signal, time_dim, approx_method=\"gmsr\", temperature=(1E-6, 1.)))).sum()"
      ]
    },
    {
      "cell_type": "markdown",
      "metadata": {
        "id": "pMmyk6x2CRej"
      },
      "source": [
        "## Gradient descent to optimize control inputs\n",
        "\n",
        "Now, we can perform gradient descent on the control inputs to make progress towards the formula being true."
      ]
    },
    {
      "cell_type": "markdown",
      "metadata": {
        "id": "pLreo31uCRej"
      },
      "source": [
        "### Using `Expression`"
      ]
    },
    {
      "cell_type": "code",
      "execution_count": 15,
      "metadata": {
        "id": "CGRcCX-kCRej"
      },
      "outputs": [],
      "source": [
        "# set random initial state and control\n",
        "np.random.seed(123)\n",
        "T = 51  # time horizon\n",
        "dt = 0.1 # time step size\n",
        "ts = jnp.array([t * dt for t in range(T)])\n",
        "time_dim = 1\n",
        "umax = 1.0  # max control limit\n",
        "\n",
        "controls = jnp.array(np.random.randn(1,T,2))\n",
        "state0 = jnp.ones(2).reshape([1,1,2]) * 3.\n",
        "obstacle_center = jnp.ones([1,1,2]) * 2.\n"
      ]
    },
    {
      "cell_type": "code",
      "execution_count": 16,
      "metadata": {
        "colab": {
          "base_uri": "https://localhost:8080/",
          "height": 340
        },
        "id": "kSKcXrjWCRej",
        "outputId": "99541049-5385-4a64-e9f3-3e71bf7e2007"
      },
      "outputs": [
        {
          "data": {
            "image/svg+xml": [
              "<?xml version=\"1.0\" encoding=\"UTF-8\" standalone=\"no\"?>\n",
              "<!DOCTYPE svg PUBLIC \"-//W3C//DTD SVG 1.1//EN\"\n",
              " \"http://www.w3.org/Graphics/SVG/1.1/DTD/svg11.dtd\">\n",
              "<!-- Generated by graphviz version 11.0.0 (20240428.1522)\n",
              " -->\n",
              "<!-- Pages: 1 -->\n",
              "<svg width=\"559pt\" height=\"248pt\"\n",
              " viewBox=\"0.00 0.00 558.50 247.75\" xmlns=\"http://www.w3.org/2000/svg\" xmlns:xlink=\"http://www.w3.org/1999/xlink\">\n",
              "<g id=\"graph0\" class=\"graph\" transform=\"scale(1 1) rotate(0) translate(4 243.75)\">\n",
              "<polygon fill=\"white\" stroke=\"none\" points=\"-4,4 -4,-243.75 554.5,-243.75 554.5,4 -4,4\"/>\n",
              "<!-- 11564450352 -->\n",
              "<g id=\"node1\" class=\"node\">\n",
              "<title>11564450352</title>\n",
              "<polygon fill=\"orange\" stroke=\"black\" points=\"548.5,-36.5 0,-36.5 0,0 548.5,0 548.5,-36.5\"/>\n",
              "<text text-anchor=\"middle\" x=\"274.25\" y=\"-21.1\" font-family=\"monospace\" font-size=\"12.00\">And</text>\n",
              "<text text-anchor=\"middle\" x=\"274.25\" y=\"-6.85\" font-family=\"monospace\" font-size=\"12.00\">(♢ [0, inf]( magnitude &lt; 0.5 )) ∧ (◻ [0, inf]( distance_to_obs &gt; 0.5 ))</text>\n",
              "</g>\n",
              "<!-- 11566404512 -->\n",
              "<g id=\"node2\" class=\"node\">\n",
              "<title>11566404512</title>\n",
              "<polygon fill=\"orange\" stroke=\"black\" points=\"254,-109 20.5,-109 20.5,-72.5 254,-72.5 254,-109\"/>\n",
              "<text text-anchor=\"middle\" x=\"137.25\" y=\"-93.6\" font-family=\"monospace\" font-size=\"12.00\">Eventually</text>\n",
              "<text text-anchor=\"middle\" x=\"137.25\" y=\"-79.35\" font-family=\"monospace\" font-size=\"12.00\">♢ [0, inf]( magnitude &lt; 0.5 )</text>\n",
              "</g>\n",
              "<!-- 11566404512&#45;&gt;11564450352 -->\n",
              "<g id=\"edge1\" class=\"edge\">\n",
              "<title>11566404512&#45;&gt;11564450352</title>\n",
              "<path fill=\"none\" stroke=\"black\" d=\"M171.47,-72.14C189.12,-63.06 210.87,-51.87 229.81,-42.12\"/>\n",
              "<polygon fill=\"black\" stroke=\"black\" points=\"231.36,-45.26 238.65,-37.57 228.15,-39.03 231.36,-45.26\"/>\n",
              "</g>\n",
              "<!-- 11566405808 -->\n",
              "<g id=\"node3\" class=\"node\">\n",
              "<title>11566405808</title>\n",
              "<polygon fill=\"orange\" stroke=\"black\" points=\"201.5,-181.5 73,-181.5 73,-145 201.5,-145 201.5,-181.5\"/>\n",
              "<text text-anchor=\"middle\" x=\"137.25\" y=\"-166.1\" font-family=\"monospace\" font-size=\"12.00\">LessThan</text>\n",
              "<text text-anchor=\"middle\" x=\"137.25\" y=\"-151.85\" font-family=\"monospace\" font-size=\"12.00\">magnitude &lt; 0.5</text>\n",
              "</g>\n",
              "<!-- 11566405808&#45;&gt;11566404512 -->\n",
              "<g id=\"edge2\" class=\"edge\">\n",
              "<title>11566405808&#45;&gt;11566404512</title>\n",
              "<path fill=\"none\" stroke=\"black\" d=\"M137.25,-144.82C137.25,-137.59 137.25,-129 137.25,-120.86\"/>\n",
              "<polygon fill=\"black\" stroke=\"black\" points=\"140.75,-120.98 137.25,-110.98 133.75,-120.98 140.75,-120.98\"/>\n",
              "</g>\n",
              "<!-- 10887235680 -->\n",
              "<g id=\"node4\" class=\"node\">\n",
              "<title>10887235680</title>\n",
              "<polygon fill=\"lightskyblue\" stroke=\"black\" points=\"136,-239.75 52.5,-239.75 52.5,-217.5 136,-217.5 136,-239.75\"/>\n",
              "<text text-anchor=\"middle\" x=\"94.25\" y=\"-224.35\" font-family=\"monospace\" font-size=\"12.00\">magnitude</text>\n",
              "</g>\n",
              "<!-- 10887235680&#45;&gt;11566405808 -->\n",
              "<g id=\"edge3\" class=\"edge\">\n",
              "<title>10887235680&#45;&gt;11566405808</title>\n",
              "<path fill=\"none\" stroke=\"black\" d=\"M101.35,-217.16C106.12,-210.14 112.63,-200.54 118.8,-191.45\"/>\n",
              "<polygon fill=\"black\" stroke=\"black\" points=\"121.69,-193.42 124.41,-183.18 115.9,-189.49 121.69,-193.42\"/>\n",
              "</g>\n",
              "<!-- 11566834320 -->\n",
              "<g id=\"node5\" class=\"node\">\n",
              "<title>11566834320</title>\n",
              "<polygon fill=\"palegreen\" stroke=\"black\" points=\"208.25,-239.75 154.25,-239.75 154.25,-217.5 208.25,-217.5 208.25,-239.75\"/>\n",
              "<text text-anchor=\"middle\" x=\"181.25\" y=\"-224.35\" font-family=\"monospace\" font-size=\"12.00\">0.5</text>\n",
              "</g>\n",
              "<!-- 11566834320&#45;&gt;11566405808 -->\n",
              "<g id=\"edge4\" class=\"edge\">\n",
              "<title>11566834320&#45;&gt;11566405808</title>\n",
              "<path fill=\"none\" stroke=\"black\" d=\"M173.98,-217.16C169.06,-210.06 162.3,-200.34 155.93,-191.16\"/>\n",
              "<polygon fill=\"black\" stroke=\"black\" points=\"158.96,-189.39 150.38,-183.17 153.21,-193.38 158.96,-189.39\"/>\n",
              "</g>\n",
              "<!-- 5627053552 -->\n",
              "<g id=\"node6\" class=\"node\">\n",
              "<title>5627053552</title>\n",
              "<polygon fill=\"orange\" stroke=\"black\" points=\"550.5,-109 272,-109 272,-72.5 550.5,-72.5 550.5,-109\"/>\n",
              "<text text-anchor=\"middle\" x=\"411.25\" y=\"-93.6\" font-family=\"monospace\" font-size=\"12.00\">Always</text>\n",
              "<text text-anchor=\"middle\" x=\"411.25\" y=\"-79.35\" font-family=\"monospace\" font-size=\"12.00\">◻ [0, inf]( distance_to_obs &gt; 0.5 )</text>\n",
              "</g>\n",
              "<!-- 5627053552&#45;&gt;11564450352 -->\n",
              "<g id=\"edge5\" class=\"edge\">\n",
              "<title>5627053552&#45;&gt;11564450352</title>\n",
              "<path fill=\"none\" stroke=\"black\" d=\"M377.03,-72.14C359.38,-63.06 337.63,-51.87 318.69,-42.12\"/>\n",
              "<polygon fill=\"black\" stroke=\"black\" points=\"320.35,-39.03 309.85,-37.57 317.14,-45.26 320.35,-39.03\"/>\n",
              "</g>\n",
              "<!-- 5623657440 -->\n",
              "<g id=\"node7\" class=\"node\">\n",
              "<title>5623657440</title>\n",
              "<polygon fill=\"orange\" stroke=\"black\" points=\"498,-181.5 324.5,-181.5 324.5,-145 498,-145 498,-181.5\"/>\n",
              "<text text-anchor=\"middle\" x=\"411.25\" y=\"-166.1\" font-family=\"monospace\" font-size=\"12.00\">GreaterThan</text>\n",
              "<text text-anchor=\"middle\" x=\"411.25\" y=\"-151.85\" font-family=\"monospace\" font-size=\"12.00\">distance_to_obs &gt; 0.5</text>\n",
              "</g>\n",
              "<!-- 5623657440&#45;&gt;5627053552 -->\n",
              "<g id=\"edge6\" class=\"edge\">\n",
              "<title>5623657440&#45;&gt;5627053552</title>\n",
              "<path fill=\"none\" stroke=\"black\" d=\"M411.25,-144.82C411.25,-137.59 411.25,-129 411.25,-120.86\"/>\n",
              "<polygon fill=\"black\" stroke=\"black\" points=\"414.75,-120.98 411.25,-110.98 407.75,-120.98 414.75,-120.98\"/>\n",
              "</g>\n",
              "<!-- 5627061712 -->\n",
              "<g id=\"node8\" class=\"node\">\n",
              "<title>5627061712</title>\n",
              "<polygon fill=\"lightskyblue\" stroke=\"black\" points=\"421.5,-239.75 293,-239.75 293,-217.5 421.5,-217.5 421.5,-239.75\"/>\n",
              "<text text-anchor=\"middle\" x=\"357.25\" y=\"-224.35\" font-family=\"monospace\" font-size=\"12.00\">distance_to_obs</text>\n",
              "</g>\n",
              "<!-- 5627061712&#45;&gt;5623657440 -->\n",
              "<g id=\"edge7\" class=\"edge\">\n",
              "<title>5627061712&#45;&gt;5623657440</title>\n",
              "<path fill=\"none\" stroke=\"black\" d=\"M366.17,-217.16C372.34,-209.91 380.85,-199.93 388.82,-190.58\"/>\n",
              "<polygon fill=\"black\" stroke=\"black\" points=\"391.39,-192.96 395.21,-183.08 386.06,-188.42 391.39,-192.96\"/>\n",
              "</g>\n",
              "<!-- 11565985104 -->\n",
              "<g id=\"node9\" class=\"node\">\n",
              "<title>11565985104</title>\n",
              "<polygon fill=\"palegreen\" stroke=\"black\" points=\"493.25,-239.75 439.25,-239.75 439.25,-217.5 493.25,-217.5 493.25,-239.75\"/>\n",
              "<text text-anchor=\"middle\" x=\"466.25\" y=\"-224.35\" font-family=\"monospace\" font-size=\"12.00\">0.5</text>\n",
              "</g>\n",
              "<!-- 11565985104&#45;&gt;5623657440 -->\n",
              "<g id=\"edge8\" class=\"edge\">\n",
              "<title>11565985104&#45;&gt;5623657440</title>\n",
              "<path fill=\"none\" stroke=\"black\" d=\"M457.17,-217.16C450.88,-209.91 442.21,-199.93 434.1,-190.58\"/>\n",
              "<polygon fill=\"black\" stroke=\"black\" points=\"436.78,-188.33 427.58,-183.07 431.49,-192.91 436.78,-188.33\"/>\n",
              "</g>\n",
              "</g>\n",
              "</svg>\n"
            ],
            "text/plain": [
              "<graphviz.graphs.Digraph at 0x2b1695250>"
            ]
          },
          "execution_count": 16,
          "metadata": {},
          "output_type": "execute_result"
        }
      ],
      "source": [
        "# defining formula\n",
        "distance_to_origin = Expression(\"magnitude\", None, False)\n",
        "distance_to_obstacle = Expression(\"distance_to_obs\", None, False)\n",
        "reach = Eventually(distance_to_origin < 0.5)\n",
        "avoid = Always(distance_to_obstacle > 0.5)\n",
        "formula = reach & avoid\n",
        "\n",
        "make_stl_graph(formula)\n"
      ]
    },
    {
      "cell_type": "code",
      "execution_count": 17,
      "metadata": {
        "colab": {
          "base_uri": "https://localhost:8080/"
        },
        "id": "h9D-hcY8CRej",
        "outputId": "de267035-5188-41a2-de4a-fc5e29e78c00"
      },
      "outputs": [
        {
          "data": {
            "text/plain": [
              "(Array(6.64312, dtype=float32), Array(7.0071645, dtype=float32))"
            ]
          },
          "execution_count": 17,
          "metadata": {},
          "output_type": "execute_result"
        }
      ],
      "source": [
        "@functools.partial(jax.jit, static_argnames=(\"approx_method\"))\n",
        "def loss(controls, state0, umax, dt, coeffs=[1., 0.1, 5.], approx_method=\"true\", temperature=None):\n",
        "    # generate trajectory from control sequence and reverse along time dimension\n",
        "    # user has to manually reverse it since we are inputing jnp.array to compute robustness, instead of an Expression\n",
        "    traj_reversed = jnp.flip(simulate_dynamics(controls, state0, dt), axis=1)\n",
        "    # compute distance_to_origin and distance_to_obstacle\n",
        "    distance_to_origin_signal = jnp.linalg.norm(traj_reversed, axis=-1, keepdims=True)\n",
        "    distance_to_obstacle_signal = jnp.linalg.norm(traj_reversed - obstacle_center, axis=-1, keepdims=True)\n",
        "    # loss functions\n",
        "    input_signal = (distance_to_origin_signal, distance_to_obstacle_signal)\n",
        "    loss_robustness = jax.nn.relu(-formula.robustness(input_signal, time_dim=1, approx_method=approx_method, temperature=temperature)).mean()\n",
        "    loss_control_smoothness = (jnp.diff(controls, axis=1)**2).sum(-1).mean()  # make controls smoother\n",
        "    loss_control_limits = jax.nn.relu(jnp.linalg.norm(controls, axis=-1) - umax).mean()   # penalize control limit violation\n",
        "    return coeffs[0] * loss_robustness + coeffs[1] * loss_control_smoothness + coeffs[2] * loss_control_limits\n",
        "\n",
        "@jax.jit\n",
        "def true_robustness(controls, state0, dt):\n",
        "    # generate trajectory from control sequence and reverse along time dimension\n",
        "    # user has to manually reverse it since we are inputing jnp.array to compute robustness, instead of an Expression\n",
        "    traj_reversed = jnp.flip(simulate_dynamics(controls, state0, dt), axis=1)\n",
        "    # compute distance_to_origin and distance_to_obstacle\n",
        "    distance_to_origin_signal = jnp.linalg.norm(traj_reversed, axis=-1, keepdims=True)\n",
        "    distance_to_obstacle_signal = jnp.linalg.norm(traj_reversed - obstacle_center, axis=-1, keepdims=True)\n",
        "    # loss functions\n",
        "    input_signal = (distance_to_origin_signal, distance_to_obstacle_signal)\n",
        "    return formula.robustness(input_signal, time_dim=1).mean()\n",
        "\n",
        "def temperature_schedule(i, i_max, start_temp, end_temp, scale=5):\n",
        "    i_ = i\n",
        "    center = i_max / 2\n",
        "    return jax.nn.sigmoid((i_ - center) / scale) * (end_temp - start_temp) + start_temp\n",
        "\n",
        "# compare true value with max/min approximation\n",
        "loss(controls, state0, umax, dt), loss(controls, state0, umax, dt, approx_method=\"softmax\", temperature=5)"
      ]
    },
    {
      "cell_type": "code",
      "execution_count": 18,
      "metadata": {
        "id": "clBy6pVHCRej"
      },
      "outputs": [],
      "source": [
        "controls = jnp.array(np.random.randn(1,T,2))\n",
        "\n",
        "states_ = [simulate_dynamics(controls, state0, dt)]\n",
        "lr = 0.5 # learning rate\n",
        "approx_method = \"true\"\n",
        "n_steps = 1000   # number of gradient steps\n",
        "n_steps_extra = 10\n",
        "coeffs = [1., 0.1, 5.]\n",
        "\n",
        "# jit the gradient function to speed things up (by A LOT).\n",
        "grad_jit = jax.jit(jax.grad(loss, 0), static_argnames=\"approx_method\")\n",
        "# temperature schedule parameters\n",
        "start_temp = 50\n",
        "end_temp = 500\n",
        "scale = 5\n"
      ]
    },
    {
      "cell_type": "code",
      "execution_count": 19,
      "metadata": {
        "colab": {
          "base_uri": "https://localhost:8080/"
        },
        "id": "knWf1b-6CRej",
        "outputId": "ceff89d5-88ce-4951-c202-dcf375e2f00b"
      },
      "outputs": [
        {
          "name": "stdout",
          "output_type": "stream",
          "text": [
            "  0 -- true robustness: -3.68   smoothness: 3.30    control limits: 0.34\n",
            " 50 -- true robustness: -0.01   smoothness: 0.38    control limits: 0.02\n",
            "100 -- true robustness: 0.01   smoothness: 0.22    control limits: 0.00\n",
            "150 -- true robustness: 0.08   smoothness: 0.14    control limits: 0.00\n",
            "200 -- true robustness: 0.08   smoothness: 0.10    control limits: 0.00\n",
            "250 -- true robustness: 0.08   smoothness: 0.07    control limits: 0.00\n",
            "300 -- true robustness: 0.08   smoothness: 0.05    control limits: 0.00\n",
            "350 -- true robustness: 0.08   smoothness: 0.04    control limits: 0.00\n",
            "400 -- true robustness: 0.08   smoothness: 0.03    control limits: 0.00\n",
            "450 -- true robustness: 0.08   smoothness: 0.03    control limits: 0.00\n",
            "500 -- true robustness: 0.08   smoothness: 0.02    control limits: 0.00\n",
            "550 -- true robustness: 0.08   smoothness: 0.02    control limits: 0.00\n",
            "600 -- true robustness: 0.08   smoothness: 0.02    control limits: 0.00\n",
            "650 -- true robustness: 0.08   smoothness: 0.01    control limits: 0.00\n",
            "700 -- true robustness: 0.08   smoothness: 0.01    control limits: 0.00\n",
            "750 -- true robustness: 0.08   smoothness: 0.01    control limits: 0.00\n",
            "800 -- true robustness: 0.08   smoothness: 0.01    control limits: 0.00\n",
            "850 -- true robustness: 0.08   smoothness: 0.01    control limits: 0.00\n",
            "900 -- true robustness: 0.08   smoothness: 0.01    control limits: 0.00\n",
            "950 -- true robustness: 0.08   smoothness: 0.01    control limits: 0.00\n"
          ]
        }
      ],
      "source": [
        "temperatures = temperature_schedule(jnp.arange(n_steps), n_steps, start_temp, end_temp, scale)\n",
        "for i in range(n_steps):\n",
        "    temperature = temperature_schedule(i, n_steps, start_temp, end_temp, scale)\n",
        "    g = grad_jit(controls, state0, umax, dt, coeffs, approx_method, temperatures[i])   # take gradient\n",
        "    controls -= g * lr\n",
        "    states_.append(simulate_dynamics(controls, state0, dt))\n",
        "    if (i % 50) == 0:\n",
        "        print(\"%3i -- true robustness: %.2f   smoothness: %.2f    control limits: %.2f\"%(i, true_robustness(controls, state0, dt), loss(controls, state0, umax, dt, coeffs=[0., 1., 0.]), loss(controls, state0, umax, dt, coeffs=[0., 0., 1.])))\n"
      ]
    },
    {
      "cell_type": "code",
      "execution_count": 20,
      "metadata": {
        "colab": {
          "base_uri": "https://localhost:8080/",
          "height": 530
        },
        "id": "krMVpNDNCRej",
        "outputId": "123b59bc-a063-45d5-b576-d420ea714a8e"
      },
      "outputs": [
        {
          "data": {
            "text/plain": [
              "Text(0, 0.5, 'Controls')"
            ]
          },
          "execution_count": 20,
          "metadata": {},
          "output_type": "execute_result"
        },
        {
          "data": {
            "image/png": "[encoded data removed]",
            "text/plain": [
              "<Figure size 1500x400 with 3 Axes>"
            ]
          },
          "metadata": {},
          "output_type": "display_data"
        }
      ],
      "source": [
        "fig, axs = plt.subplots(1,3, figsize=(15,4)) # note we must use plt.subplots, not plt.subplot\n",
        "\n",
        "ax = axs[0]\n",
        "circle1 = plt.Circle((0, 0), 0.5, color='C2', alpha=0.4)\n",
        "circle2 = plt.Circle(obstacle_center[0,0], 0.5, color='C3', alpha=0.4)\n",
        "\n",
        "ax.add_patch(circle1)\n",
        "ax.add_patch(circle2)\n",
        "\n",
        "[ax.plot(*s[0].T, color=\"k\", alpha=0.2) for s in states_[::10]]\n",
        "[ax.plot(*s[0].T, color=\"r\", label=\"Final traj\") for s in states_[-1:]]\n",
        "\n",
        "ax.scatter(states_[-1][0,0,:1], states_[-1][0,0,1:], zorder=10, label=\"start\", color=\"red\")\n",
        "ax.scatter(states_[-1][0,-1,:1], states_[-1][0,-1,1:], zorder=10, label=\"end\", color=\"green\")\n",
        "\n",
        "ax.set_xlabel(\"x position\")\n",
        "ax.set_ylabel(\"y position\")\n",
        "ax.grid()\n",
        "ax.legend()\n",
        "ax.axis(\"equal\")\n",
        "\n",
        "# plot x, y\n",
        "ax = axs[1]\n",
        "ax.plot(ts, states_[-1][0,:-1,:1], label=\"x\")\n",
        "ax.plot(ts, states_[-1][0,:-1,1:], label=\"y\")\n",
        "ax.grid()\n",
        "ax.axis(\"equal\")\n",
        "ax.legend()\n",
        "ax.set_xlabel(\"Time (s)\")\n",
        "ax.set_ylabel(\"Position\")\n",
        "\n",
        "\n",
        "# plot control signal\n",
        "ax = axs[2]\n",
        "ax.plot(ts, controls[0,:,:1], label=\"x control\")\n",
        "ax.plot(ts, controls[0,:,1:], label=\"y control\")\n",
        "ax.plot(ts, jnp.linalg.norm(controls, axis=-1).squeeze(), label=\"control norm\")\n",
        "ax.grid()\n",
        "ax.axis(\"equal\")\n",
        "ax.legend()\n",
        "ax.set_xlabel(\"Time (s)\")\n",
        "ax.set_ylabel(\"Controls\")\n"
      ]
    },
    {
      "cell_type": "markdown",
      "metadata": {
        "id": "Scv5PRbdCRej"
      },
      "source": [
        "### Using Predicates"
      ]
    },
    {
      "cell_type": "code",
      "execution_count": 21,
      "metadata": {
        "id": "7aMIbtVjCRej"
      },
      "outputs": [],
      "source": [
        "# set random initial state and control\n",
        "np.random.seed(123)\n",
        "T = 51  # time horizon\n",
        "dt = 0.1 # time step size\n",
        "ts = jnp.array([t * dt for t in range(T)])\n",
        "time_dim = 1\n",
        "umax = 1.0  # max control limit\n",
        "\n",
        "controls = jnp.array(np.random.randn(1,T,2))\n",
        "state0 = jnp.ones(2).reshape([1,1,2]) * 3.\n",
        "obstacle_center = jnp.ones([1,1,2]) * 2.\n"
      ]
    },
    {
      "cell_type": "code",
      "execution_count": 22,
      "metadata": {
        "colab": {
          "base_uri": "https://localhost:8080/",
          "height": 340
        },
        "id": "JVViQbSrCRej",
        "outputId": "146e982c-2fba-4ff7-d3a5-2f4a03a0eb54"
      },
      "outputs": [
        {
          "data": {
            "image/svg+xml": [
              "<?xml version=\"1.0\" encoding=\"UTF-8\" standalone=\"no\"?>\n",
              "<!DOCTYPE svg PUBLIC \"-//W3C//DTD SVG 1.1//EN\"\n",
              " \"http://www.w3.org/Graphics/SVG/1.1/DTD/svg11.dtd\">\n",
              "<!-- Generated by graphviz version 11.0.0 (20240428.1522)\n",
              " -->\n",
              "<!-- Pages: 1 -->\n",
              "<svg width=\"559pt\" height=\"248pt\"\n",
              " viewBox=\"0.00 0.00 558.50 247.75\" xmlns=\"http://www.w3.org/2000/svg\" xmlns:xlink=\"http://www.w3.org/1999/xlink\">\n",
              "<g id=\"graph0\" class=\"graph\" transform=\"scale(1 1) rotate(0) translate(4 243.75)\">\n",
              "<polygon fill=\"white\" stroke=\"none\" points=\"-4,4 -4,-243.75 554.5,-243.75 554.5,4 -4,4\"/>\n",
              "<!-- 5287552272 -->\n",
              "<g id=\"node1\" class=\"node\">\n",
              "<title>5287552272</title>\n",
              "<polygon fill=\"orange\" stroke=\"black\" points=\"548.5,-36.5 0,-36.5 0,0 548.5,0 548.5,-36.5\"/>\n",
              "<text text-anchor=\"middle\" x=\"274.25\" y=\"-21.1\" font-family=\"monospace\" font-size=\"12.00\">And</text>\n",
              "<text text-anchor=\"middle\" x=\"274.25\" y=\"-6.85\" font-family=\"monospace\" font-size=\"12.00\">(♢ [0, inf]( magnitude &lt; 0.5 )) ∧ (◻ [0, inf]( distance_to_obs &gt; 0.5 ))</text>\n",
              "</g>\n",
              "<!-- 11596730576 -->\n",
              "<g id=\"node2\" class=\"node\">\n",
              "<title>11596730576</title>\n",
              "<polygon fill=\"orange\" stroke=\"black\" points=\"254,-109 20.5,-109 20.5,-72.5 254,-72.5 254,-109\"/>\n",
              "<text text-anchor=\"middle\" x=\"137.25\" y=\"-93.6\" font-family=\"monospace\" font-size=\"12.00\">Eventually</text>\n",
              "<text text-anchor=\"middle\" x=\"137.25\" y=\"-79.35\" font-family=\"monospace\" font-size=\"12.00\">♢ [0, inf]( magnitude &lt; 0.5 )</text>\n",
              "</g>\n",
              "<!-- 11596730576&#45;&gt;5287552272 -->\n",
              "<g id=\"edge1\" class=\"edge\">\n",
              "<title>11596730576&#45;&gt;5287552272</title>\n",
              "<path fill=\"none\" stroke=\"black\" d=\"M171.47,-72.14C189.12,-63.06 210.87,-51.87 229.81,-42.12\"/>\n",
              "<polygon fill=\"black\" stroke=\"black\" points=\"231.36,-45.26 238.65,-37.57 228.15,-39.03 231.36,-45.26\"/>\n",
              "</g>\n",
              "<!-- 11596728560 -->\n",
              "<g id=\"node3\" class=\"node\">\n",
              "<title>11596728560</title>\n",
              "<polygon fill=\"orange\" stroke=\"black\" points=\"201.5,-181.5 73,-181.5 73,-145 201.5,-145 201.5,-181.5\"/>\n",
              "<text text-anchor=\"middle\" x=\"137.25\" y=\"-166.1\" font-family=\"monospace\" font-size=\"12.00\">LessThan</text>\n",
              "<text text-anchor=\"middle\" x=\"137.25\" y=\"-151.85\" font-family=\"monospace\" font-size=\"12.00\">magnitude &lt; 0.5</text>\n",
              "</g>\n",
              "<!-- 11596728560&#45;&gt;11596730576 -->\n",
              "<g id=\"edge2\" class=\"edge\">\n",
              "<title>11596728560&#45;&gt;11596730576</title>\n",
              "<path fill=\"none\" stroke=\"black\" d=\"M137.25,-144.82C137.25,-137.59 137.25,-129 137.25,-120.86\"/>\n",
              "<polygon fill=\"black\" stroke=\"black\" points=\"140.75,-120.98 137.25,-110.98 133.75,-120.98 140.75,-120.98\"/>\n",
              "</g>\n",
              "<!-- 11596726496 -->\n",
              "<g id=\"node4\" class=\"node\">\n",
              "<title>11596726496</title>\n",
              "<polygon fill=\"palegreen\" stroke=\"black\" points=\"136,-239.75 52.5,-239.75 52.5,-217.5 136,-217.5 136,-239.75\"/>\n",
              "<text text-anchor=\"middle\" x=\"94.25\" y=\"-224.35\" font-family=\"monospace\" font-size=\"12.00\">magnitude</text>\n",
              "</g>\n",
              "<!-- 11596726496&#45;&gt;11596728560 -->\n",
              "<g id=\"edge3\" class=\"edge\">\n",
              "<title>11596726496&#45;&gt;11596728560</title>\n",
              "<path fill=\"none\" stroke=\"black\" d=\"M101.35,-217.16C106.12,-210.14 112.63,-200.54 118.8,-191.45\"/>\n",
              "<polygon fill=\"black\" stroke=\"black\" points=\"121.69,-193.42 124.41,-183.18 115.9,-189.49 121.69,-193.42\"/>\n",
              "</g>\n",
              "<!-- 11597198576 -->\n",
              "<g id=\"node5\" class=\"node\">\n",
              "<title>11597198576</title>\n",
              "<polygon fill=\"palegreen\" stroke=\"black\" points=\"208.25,-239.75 154.25,-239.75 154.25,-217.5 208.25,-217.5 208.25,-239.75\"/>\n",
              "<text text-anchor=\"middle\" x=\"181.25\" y=\"-224.35\" font-family=\"monospace\" font-size=\"12.00\">0.5</text>\n",
              "</g>\n",
              "<!-- 11597198576&#45;&gt;11596728560 -->\n",
              "<g id=\"edge4\" class=\"edge\">\n",
              "<title>11597198576&#45;&gt;11596728560</title>\n",
              "<path fill=\"none\" stroke=\"black\" d=\"M173.98,-217.16C169.06,-210.06 162.3,-200.34 155.93,-191.16\"/>\n",
              "<polygon fill=\"black\" stroke=\"black\" points=\"158.96,-189.39 150.38,-183.17 153.21,-193.38 158.96,-189.39\"/>\n",
              "</g>\n",
              "<!-- 11584745552 -->\n",
              "<g id=\"node6\" class=\"node\">\n",
              "<title>11584745552</title>\n",
              "<polygon fill=\"orange\" stroke=\"black\" points=\"550.5,-109 272,-109 272,-72.5 550.5,-72.5 550.5,-109\"/>\n",
              "<text text-anchor=\"middle\" x=\"411.25\" y=\"-93.6\" font-family=\"monospace\" font-size=\"12.00\">Always</text>\n",
              "<text text-anchor=\"middle\" x=\"411.25\" y=\"-79.35\" font-family=\"monospace\" font-size=\"12.00\">◻ [0, inf]( distance_to_obs &gt; 0.5 )</text>\n",
              "</g>\n",
              "<!-- 11584745552&#45;&gt;5287552272 -->\n",
              "<g id=\"edge5\" class=\"edge\">\n",
              "<title>11584745552&#45;&gt;5287552272</title>\n",
              "<path fill=\"none\" stroke=\"black\" d=\"M377.03,-72.14C359.38,-63.06 337.63,-51.87 318.69,-42.12\"/>\n",
              "<polygon fill=\"black\" stroke=\"black\" points=\"320.35,-39.03 309.85,-37.57 317.14,-45.26 320.35,-39.03\"/>\n",
              "</g>\n",
              "<!-- 11568265600 -->\n",
              "<g id=\"node7\" class=\"node\">\n",
              "<title>11568265600</title>\n",
              "<polygon fill=\"orange\" stroke=\"black\" points=\"498,-181.5 324.5,-181.5 324.5,-145 498,-145 498,-181.5\"/>\n",
              "<text text-anchor=\"middle\" x=\"411.25\" y=\"-166.1\" font-family=\"monospace\" font-size=\"12.00\">GreaterThan</text>\n",
              "<text text-anchor=\"middle\" x=\"411.25\" y=\"-151.85\" font-family=\"monospace\" font-size=\"12.00\">distance_to_obs &gt; 0.5</text>\n",
              "</g>\n",
              "<!-- 11568265600&#45;&gt;11584745552 -->\n",
              "<g id=\"edge6\" class=\"edge\">\n",
              "<title>11568265600&#45;&gt;11584745552</title>\n",
              "<path fill=\"none\" stroke=\"black\" d=\"M411.25,-144.82C411.25,-137.59 411.25,-129 411.25,-120.86\"/>\n",
              "<polygon fill=\"black\" stroke=\"black\" points=\"414.75,-120.98 411.25,-110.98 407.75,-120.98 414.75,-120.98\"/>\n",
              "</g>\n",
              "<!-- 11596741280 -->\n",
              "<g id=\"node8\" class=\"node\">\n",
              "<title>11596741280</title>\n",
              "<polygon fill=\"palegreen\" stroke=\"black\" points=\"421.5,-239.75 293,-239.75 293,-217.5 421.5,-217.5 421.5,-239.75\"/>\n",
              "<text text-anchor=\"middle\" x=\"357.25\" y=\"-224.35\" font-family=\"monospace\" font-size=\"12.00\">distance_to_obs</text>\n",
              "</g>\n",
              "<!-- 11596741280&#45;&gt;11568265600 -->\n",
              "<g id=\"edge7\" class=\"edge\">\n",
              "<title>11596741280&#45;&gt;11568265600</title>\n",
              "<path fill=\"none\" stroke=\"black\" d=\"M366.17,-217.16C372.34,-209.91 380.85,-199.93 388.82,-190.58\"/>\n",
              "<polygon fill=\"black\" stroke=\"black\" points=\"391.39,-192.96 395.21,-183.08 386.06,-188.42 391.39,-192.96\"/>\n",
              "</g>\n",
              "<!-- 11597191120 -->\n",
              "<g id=\"node9\" class=\"node\">\n",
              "<title>11597191120</title>\n",
              "<polygon fill=\"palegreen\" stroke=\"black\" points=\"493.25,-239.75 439.25,-239.75 439.25,-217.5 493.25,-217.5 493.25,-239.75\"/>\n",
              "<text text-anchor=\"middle\" x=\"466.25\" y=\"-224.35\" font-family=\"monospace\" font-size=\"12.00\">0.5</text>\n",
              "</g>\n",
              "<!-- 11597191120&#45;&gt;11568265600 -->\n",
              "<g id=\"edge8\" class=\"edge\">\n",
              "<title>11597191120&#45;&gt;11568265600</title>\n",
              "<path fill=\"none\" stroke=\"black\" d=\"M457.17,-217.16C450.88,-209.91 442.21,-199.93 434.1,-190.58\"/>\n",
              "<polygon fill=\"black\" stroke=\"black\" points=\"436.78,-188.33 427.58,-183.07 431.49,-192.91 436.78,-188.33\"/>\n",
              "</g>\n",
              "</g>\n",
              "</svg>\n"
            ],
            "text/plain": [
              "<graphviz.graphs.Digraph at 0x14f6605f0>"
            ]
          },
          "execution_count": 22,
          "metadata": {},
          "output_type": "execute_result"
        }
      ],
      "source": [
        "# defining formula\n",
        "\n",
        "def compute_distance_to_point(states, point):\n",
        "    return jnp.linalg.norm(states[...,:2] - point, axis=-1, keepdims=True)\n",
        "\n",
        "def compute_distance_to_origin(states):\n",
        "    return compute_distance_to_point(states, jnp.zeros(2))\n",
        "\n",
        "\n",
        "\n",
        "distance_to_origin = Predicate(\"magnitude\", compute_distance_to_origin, time_dim=1, reverse=False)\n",
        "distance_to_obstacle = Predicate(\"distance_to_obs\", lambda x: compute_distance_to_point(x, obstacle_center), time_dim=1, reverse=False)\n",
        "reach = Eventually(distance_to_origin < 0.5)\n",
        "avoid = Always(distance_to_obstacle > 0.5)\n",
        "formula = reach & avoid\n",
        "\n",
        "make_stl_graph(formula)\n"
      ]
    },
    {
      "cell_type": "code",
      "execution_count": 23,
      "metadata": {
        "colab": {
          "base_uri": "https://localhost:8080/"
        },
        "id": "Mo_cXd9pCRej",
        "outputId": "c581c88a-8e59-44ae-fa60-7803eea32827"
      },
      "outputs": [
        {
          "name": "stderr",
          "output_type": "stream",
          "text": [
            "/Users/karen/repos/stljax/stljax/formula.py:329: UserWarning: Input Predicate \"magnitude\" is not time reversed. Reversing the signal now...\n",
            "  warnings.warn(\"Input Predicate \\\"{input_name}\\\" is not time reversed. Reversing the signal now...\".format(input_name=self.lhs.name))\n",
            "/Users/karen/repos/stljax/stljax/formula.py:388: UserWarning: Input Predicate \"distance_to_obs\" is not time reversed. Reversing the signal now...\n",
            "  warnings.warn(\"Input Predicate \\\"{input_name}\\\" is not time reversed. Reversing the signal now...\".format(input_name=self.lhs.name))\n",
            "/Users/karen/repos/stljax/stljax/formula.py:329: UserWarning: Input Predicate \"magnitude\" is not time reversed. Reversing the signal now...\n",
            "  warnings.warn(\"Input Predicate \\\"{input_name}\\\" is not time reversed. Reversing the signal now...\".format(input_name=self.lhs.name))\n",
            "/Users/karen/repos/stljax/stljax/formula.py:388: UserWarning: Input Predicate \"distance_to_obs\" is not time reversed. Reversing the signal now...\n",
            "  warnings.warn(\"Input Predicate \\\"{input_name}\\\" is not time reversed. Reversing the signal now...\".format(input_name=self.lhs.name))\n"
          ]
        },
        {
          "data": {
            "text/plain": [
              "(Array(6.64312, dtype=float32), Array(7.0071645, dtype=float32))"
            ]
          },
          "execution_count": 23,
          "metadata": {},
          "output_type": "execute_result"
        }
      ],
      "source": [
        "@functools.partial(jax.jit, static_argnames=(\"approx_method\"))\n",
        "def loss(controls, state0, umax, dt, coeffs=[1., 0.1, 5.], approx_method=\"true\", temperature=None):\n",
        "    # generate trajectory from control sequence and reverse along time dimension\n",
        "    traj = simulate_dynamics(controls, state0, dt)\n",
        "    # loss functions\n",
        "    loss_robustness = jax.nn.relu(-formula.robustness(traj, time_dim=1, approx_method=approx_method, temperature=temperature)).mean()\n",
        "    loss_control_smoothness = (jnp.diff(controls, axis=1)**2).sum(-1).mean()  # make controls smoother\n",
        "    loss_control_limits = jax.nn.relu(jnp.linalg.norm(controls, axis=-1) - umax).mean()   # penalize control limit violation\n",
        "    return coeffs[0] * loss_robustness + coeffs[1] * loss_control_smoothness + coeffs[2] * loss_control_limits\n",
        "\n",
        "@jax.jit\n",
        "def true_robustness(controls, state0, dt):\n",
        "    # generate trajectory from control sequence and reverse along time dimension\n",
        "    traj = simulate_dynamics(controls, state0, dt)\n",
        "    # loss functions\n",
        "    return formula.robustness(traj, time_dim=1).mean()\n",
        "\n",
        "def temperature_schedule(i, i_max, start_temp, end_temp, scale=5):\n",
        "    i_ = i\n",
        "    center = i_max / 2\n",
        "    return jax.nn.sigmoid((i_ - center) / scale) * (end_temp - start_temp) + start_temp\n",
        "\n",
        "# compare true value with max/min approximation\n",
        "loss(controls, state0, umax, dt), loss(controls, state0, umax, dt, approx_method=\"softmax\", temperature=5)"
      ]
    },
    {
      "cell_type": "code",
      "execution_count": 24,
      "metadata": {
        "id": "MInn9AycCRek"
      },
      "outputs": [],
      "source": [
        "states_ = [simulate_dynamics(controls, state0, dt)]\n",
        "lr = 0.5 # learning rate\n",
        "approx_method = \"logsumexp\"\n",
        "n_steps = 1000   # number of gradient steps\n",
        "n_steps_extra = 10\n",
        "coeffs = [1., 0.1, 5.]\n",
        "\n",
        "# jit the gradient function to speed things up (by A LOT).\n",
        "grad_jit = jax.jit(jax.grad(loss, 0), static_argnames=\"approx_method\")\n",
        "# temperature schedule parameters\n",
        "start_temp = 50\n",
        "end_temp = 500\n",
        "scale = 5"
      ]
    },
    {
      "cell_type": "code",
      "execution_count": 25,
      "metadata": {
        "colab": {
          "base_uri": "https://localhost:8080/"
        },
        "id": "_W4TYjG2CRek",
        "outputId": "0e2b8e16-34ce-4512-adff-dfe6f98bd3f6"
      },
      "outputs": [
        {
          "name": "stderr",
          "output_type": "stream",
          "text": [
            "/Users/karen/repos/stljax/stljax/formula.py:329: UserWarning: Input Predicate \"magnitude\" is not time reversed. Reversing the signal now...\n",
            "  warnings.warn(\"Input Predicate \\\"{input_name}\\\" is not time reversed. Reversing the signal now...\".format(input_name=self.lhs.name))\n",
            "/Users/karen/repos/stljax/stljax/formula.py:388: UserWarning: Input Predicate \"distance_to_obs\" is not time reversed. Reversing the signal now...\n",
            "  warnings.warn(\"Input Predicate \\\"{input_name}\\\" is not time reversed. Reversing the signal now...\".format(input_name=self.lhs.name))\n",
            "/Users/karen/repos/stljax/stljax/formula.py:329: UserWarning: Input Predicate \"magnitude\" is not time reversed. Reversing the signal now...\n",
            "  warnings.warn(\"Input Predicate \\\"{input_name}\\\" is not time reversed. Reversing the signal now...\".format(input_name=self.lhs.name))\n",
            "/Users/karen/repos/stljax/stljax/formula.py:388: UserWarning: Input Predicate \"distance_to_obs\" is not time reversed. Reversing the signal now...\n",
            "  warnings.warn(\"Input Predicate \\\"{input_name}\\\" is not time reversed. Reversing the signal now...\".format(input_name=self.lhs.name))\n",
            "/Users/karen/repos/stljax/stljax/formula.py:329: UserWarning: Input Predicate \"magnitude\" is not time reversed. Reversing the signal now...\n",
            "  warnings.warn(\"Input Predicate \\\"{input_name}\\\" is not time reversed. Reversing the signal now...\".format(input_name=self.lhs.name))\n",
            "/Users/karen/repos/stljax/stljax/formula.py:388: UserWarning: Input Predicate \"distance_to_obs\" is not time reversed. Reversing the signal now...\n",
            "  warnings.warn(\"Input Predicate \\\"{input_name}\\\" is not time reversed. Reversing the signal now...\".format(input_name=self.lhs.name))\n"
          ]
        },
        {
          "name": "stdout",
          "output_type": "stream",
          "text": [
            "  0 -- true robustness: -3.23   smoothness: 4.81    control limits: 0.52\n",
            " 50 -- true robustness: -1.02   smoothness: 0.79    control limits: 0.09\n",
            "100 -- true robustness: -0.45   smoothness: 0.46    control limits: 0.09\n",
            "150 -- true robustness: 0.04   smoothness: 0.16    control limits: 0.00\n",
            "200 -- true robustness: 0.04   smoothness: 0.11    control limits: 0.00\n",
            "250 -- true robustness: 0.04   smoothness: 0.08    control limits: 0.00\n",
            "300 -- true robustness: 0.04   smoothness: 0.05    control limits: 0.00\n",
            "350 -- true robustness: 0.04   smoothness: 0.04    control limits: 0.00\n",
            "400 -- true robustness: 0.04   smoothness: 0.03    control limits: 0.00\n",
            "450 -- true robustness: 0.04   smoothness: 0.03    control limits: 0.00\n",
            "500 -- true robustness: 0.04   smoothness: 0.02    control limits: 0.00\n",
            "550 -- true robustness: 0.04   smoothness: 0.02    control limits: 0.00\n",
            "600 -- true robustness: 0.03   smoothness: 0.01    control limits: 0.00\n",
            "650 -- true robustness: 0.03   smoothness: 0.01    control limits: 0.00\n",
            "700 -- true robustness: 0.03   smoothness: 0.01    control limits: 0.00\n",
            "750 -- true robustness: 0.03   smoothness: 0.01    control limits: 0.00\n",
            "800 -- true robustness: 0.03   smoothness: 0.01    control limits: 0.00\n",
            "850 -- true robustness: 0.03   smoothness: 0.01    control limits: 0.00\n",
            "900 -- true robustness: 0.03   smoothness: 0.01    control limits: 0.00\n",
            "950 -- true robustness: 0.03   smoothness: 0.01    control limits: 0.00\n"
          ]
        }
      ],
      "source": [
        "temperatures = temperature_schedule(jnp.arange(n_steps), n_steps, start_temp, end_temp, scale)\n",
        "for i in range(n_steps):\n",
        "    g = grad_jit(controls, state0, umax, dt, coeffs, approx_method, temperatures[i])  # take gradient\n",
        "    # g =  jax.grad(loss, 0)(controls, state0, umax, approx_method, temperature)  # not jitting\n",
        "    controls -= g * lr\n",
        "    states_.append(simulate_dynamics(controls, state0, dt))\n",
        "    if (i % 50) == 0:\n",
        "        print(\"%3i -- true robustness: %.2f   smoothness: %.2f    control limits: %.2f\"%(i, true_robustness(controls, state0, dt), loss(controls, state0, umax, dt, coeffs=[0., 1., 0.]), loss(controls, state0, umax, dt, coeffs=[0., 0., 1.])))\n"
      ]
    },
    {
      "cell_type": "code",
      "execution_count": 26,
      "metadata": {
        "colab": {
          "base_uri": "https://localhost:8080/",
          "height": 408
        },
        "id": "mYWVasKKCRek",
        "outputId": "78a2194c-17e3-431b-9535-828058aba881"
      },
      "outputs": [
        {
          "data": {
            "text/plain": [
              "Text(0, 0.5, 'Controls')"
            ]
          },
          "execution_count": 26,
          "metadata": {},
          "output_type": "execute_result"
        },
        {
          "data": {
            "image/png": "[encoded data removed]",
            "text/plain": [
              "<Figure size 1500x400 with 3 Axes>"
            ]
          },
          "metadata": {},
          "output_type": "display_data"
        }
      ],
      "source": [
        "fig, axs = plt.subplots(1,3, figsize=(15,4)) # note we must use plt.subplots, not plt.subplot\n",
        "\n",
        "ax = axs[0]\n",
        "circle1 = plt.Circle((0, 0), 0.5, color='C2', alpha=0.4)\n",
        "circle2 = plt.Circle(obstacle_center[0,0], 0.5, color='C3', alpha=0.4)\n",
        "\n",
        "ax.add_patch(circle1)\n",
        "ax.add_patch(circle2)\n",
        "\n",
        "[ax.plot(*s[0].T, color=\"k\", alpha=0.2) for s in states_[::10]]\n",
        "[ax.plot(*s[0].T, color=\"r\", label=\"Final traj\") for s in states_[-1:]]\n",
        "\n",
        "ax.scatter(states_[-1][0,0,:1], states_[-1][0,0,1:], zorder=10, label=\"start\", color=\"red\")\n",
        "ax.scatter(states_[-1][0,-1,:1], states_[-1][0,-1,1:], zorder=10, label=\"end\", color=\"green\")\n",
        "\n",
        "ax.set_xlabel(\"x position\")\n",
        "ax.set_ylabel(\"y position\")\n",
        "ax.grid()\n",
        "ax.legend()\n",
        "ax.axis(\"equal\")\n",
        "\n",
        "# plot x, y\n",
        "ax = axs[1]\n",
        "ax.plot(ts, states_[-1][0,:-1,:1], label=\"x\")\n",
        "ax.plot(ts, states_[-1][0,:-1,1:], label=\"y\")\n",
        "ax.grid()\n",
        "ax.axis(\"equal\")\n",
        "ax.legend()\n",
        "ax.set_xlabel(\"Time (s)\")\n",
        "ax.set_ylabel(\"Position\")\n",
        "\n",
        "\n",
        "# plot control signal\n",
        "ax = axs[2]\n",
        "ax.plot(ts, controls[0,:,:1], label=\"x control\")\n",
        "ax.plot(ts, controls[0,:,1:], label=\"y control\")\n",
        "ax.plot(ts, jnp.linalg.norm(controls, axis=-1).squeeze(), label=\"control norm\")\n",
        "ax.grid()\n",
        "ax.axis(\"equal\")\n",
        "ax.legend()\n",
        "ax.set_xlabel(\"Time (s)\")\n",
        "ax.set_ylabel(\"Controls\")\n"
      ]
    },
    {
      "cell_type": "markdown",
      "metadata": {
        "id": "OlK7HyGfCRek"
      },
      "source": [
        "## Parametric STL\n",
        "We can take gradients with respect to the RHS constant in the <, >, == STL formulas\n",
        "\n",
        "As a simple example, we using the final trajectory in the example above to find the value of `c` such that the formula `Always(distance_to_obstacle > c)` is as tight as possible."
      ]
    },
    {
      "cell_type": "code",
      "execution_count": 27,
      "metadata": {
        "colab": {
          "base_uri": "https://localhost:8080/"
        },
        "id": "vCF9DvcnCRek",
        "outputId": "0aa83f60-507b-4dfa-aeae-2f05b4fc38f3"
      },
      "outputs": [
        {
          "name": "stderr",
          "output_type": "stream",
          "text": [
            "/Users/karen/repos/stljax/stljax/formula.py:388: UserWarning: Input Predicate \"distance_to_obs\" is not time reversed. Reversing the signal now...\n",
            "  warnings.warn(\"Input Predicate \\\"{input_name}\\\" is not time reversed. Reversing the signal now...\".format(input_name=self.lhs.name))\n"
          ]
        },
        {
          "name": "stdout",
          "output_type": "stream",
          "text": [
            "  0 -- true robustness: 1.7492  \n",
            " 10 -- true robustness: 0.2127  \n",
            " 20 -- true robustness: 0.0259  \n",
            " 30 -- true robustness: 0.0031  \n",
            " 40 -- true robustness: 0.0004  \n",
            " 50 -- true robustness: 0.0000  \n",
            " 60 -- true robustness: 0.0000  \n",
            " 70 -- true robustness: 0.0000  \n",
            " 80 -- true robustness: 0.0000  \n",
            " 90 -- true robustness: 0.0000  \n"
          ]
        },
        {
          "name": "stderr",
          "output_type": "stream",
          "text": [
            "/Users/karen/repos/stljax/stljax/formula.py:388: UserWarning: Input Predicate \"distance_to_obs\" is not time reversed. Reversing the signal now...\n",
            "  warnings.warn(\"Input Predicate \\\"{input_name}\\\" is not time reversed. Reversing the signal now...\".format(input_name=self.lhs.name))\n"
          ]
        }
      ],
      "source": [
        "def parametric_stl_robustness(c, signal):\n",
        "    return Always(distance_to_obstacle > c).robustness(signal, time_dim=1).squeeze()**2\n",
        "\n",
        "traj = states_[-1]\n",
        "grad_jit = jax.jit(jax.grad(lambda c: parametric_stl_robustness(c, traj)))\n",
        "\n",
        "c = 2.\n",
        "cs = [c]\n",
        "lr = 0.05\n",
        "for i in range(100):\n",
        "    g = grad_jit(c)\n",
        "    c -= g * lr\n",
        "    cs.append(c)\n",
        "    if (i % 10) == 0:\n",
        "        print(\"%3i -- true robustness: %.4f  \"%(i, parametric_stl_robustness(c, traj)))\n"
      ]
    },
    {
      "cell_type": "code",
      "execution_count": 28,
      "metadata": {
        "colab": {
          "base_uri": "https://localhost:8080/",
          "height": 449
        },
        "id": "JEZh75FCCRek",
        "outputId": "32c64842-65dd-4726-9dae-5c8493b8ef5f"
      },
      "outputs": [
        {
          "data": {
            "image/png": "[encoded data removed]",
            "text/plain": [
              "<Figure size 640x480 with 1 Axes>"
            ]
          },
          "metadata": {},
          "output_type": "display_data"
        }
      ],
      "source": [
        "\n",
        "plt.plot(ts, jnp.linalg.norm(traj - obstacle_center, axis=-1, keepdims=True).squeeze()[:-1], linewidth=3, label=\"distance to obstacle of trajectory\", zorder=5)\n",
        "plt.hlines(cs[0], ts[0], ts[-1], linewidth=2, color=\"red\", label=\"initial c\", zorder=4)\n",
        "plt.hlines(cs[-1], ts[0], ts[-1], linewidth=2, color=\"green\", label=\"initial c\", zorder=4)\n",
        "\n",
        "plt.hlines(cs, ts[0], ts[-1], alpha=0.2, color=\"black\")\n",
        "plt.xlabel(\"Time [s]\")\n",
        "plt.ylabel(\"Distance to obstacle\")\n",
        "plt.legend()\n",
        "\n",
        "plt.grid()"
      ]
    },
    {
      "cell_type": "markdown",
      "metadata": {
        "id": "7t97PeSZCRek"
      },
      "source": [
        "## Examples of other formulas\n",
        "\n",
        "Below are examples of how to apply different STL operations given the reach and avoid predicates.\n",
        "(Don't read too much into the meaning behind each formula with the read and avoid predicates. Just treat them as placeholders)\n"
      ]
    },
    {
      "cell_type": "code",
      "execution_count": 29,
      "metadata": {
        "id": "Tm2SVG3vCReq"
      },
      "outputs": [],
      "source": [
        "# using values from above\n",
        "traj = states_[-1]\n",
        "\n",
        "# compute distance_to_origin and distance_to_obstacle\n",
        "distance_to_origin_signal = jnp.linalg.norm(traj, axis=-1, keepdims=True)\n",
        "distance_to_obstacle_signal = jnp.linalg.norm(traj - obstacle_center, axis=-1, keepdims=True)\n",
        "\n",
        "distance_to_origin = Expression(\"magnitude\", distance_to_origin_signal, False)\n",
        "distance_to_obstacle = Expression(\"distance_to_obs\", distance_to_obstacle_signal, False)\n",
        "reach = Eventually(distance_to_origin < 0.5)\n",
        "avoid = Always(distance_to_obstacle > 0.5)\n"
      ]
    },
    {
      "cell_type": "markdown",
      "metadata": {
        "id": "KeoUSbAnCRer"
      },
      "source": [
        "### Eventually Always"
      ]
    },
    {
      "cell_type": "code",
      "execution_count": 30,
      "metadata": {
        "colab": {
          "base_uri": "https://localhost:8080/",
          "height": 340
        },
        "id": "D2UKqsfDCRer",
        "outputId": "43e320bf-7eb4-48bd-af55-ebaf2bf9fa57"
      },
      "outputs": [
        {
          "data": {
            "image/svg+xml": [
              "<?xml version=\"1.0\" encoding=\"UTF-8\" standalone=\"no\"?>\n",
              "<!DOCTYPE svg PUBLIC \"-//W3C//DTD SVG 1.1//EN\"\n",
              " \"http://www.w3.org/Graphics/SVG/1.1/DTD/svg11.dtd\">\n",
              "<!-- Generated by graphviz version 11.0.0 (20240428.1522)\n",
              " -->\n",
              "<!-- Pages: 1 -->\n",
              "<svg width=\"332pt\" height=\"248pt\"\n",
              " viewBox=\"0.00 0.00 331.50 247.75\" xmlns=\"http://www.w3.org/2000/svg\" xmlns:xlink=\"http://www.w3.org/1999/xlink\">\n",
              "<g id=\"graph0\" class=\"graph\" transform=\"scale(1 1) rotate(0) translate(4 243.75)\">\n",
              "<polygon fill=\"white\" stroke=\"none\" points=\"-4,4 -4,-243.75 327.5,-243.75 327.5,4 -4,4\"/>\n",
              "<!-- 11597726688 -->\n",
              "<g id=\"node1\" class=\"node\">\n",
              "<title>11597726688</title>\n",
              "<polygon fill=\"orange\" stroke=\"black\" points=\"323.5,-36.5 0,-36.5 0,0 323.5,0 323.5,-36.5\"/>\n",
              "<text text-anchor=\"middle\" x=\"161.75\" y=\"-21.1\" font-family=\"monospace\" font-size=\"12.00\">Eventually</text>\n",
              "<text text-anchor=\"middle\" x=\"161.75\" y=\"-6.85\" font-family=\"monospace\" font-size=\"12.00\">♢ [0, inf]( ◻ [0, 5]( magnitude &lt; 0.5 ) )</text>\n",
              "</g>\n",
              "<!-- 10806393648 -->\n",
              "<g id=\"node2\" class=\"node\">\n",
              "<title>10806393648</title>\n",
              "<polygon fill=\"orange\" stroke=\"black\" points=\"271,-109 52.5,-109 52.5,-72.5 271,-72.5 271,-109\"/>\n",
              "<text text-anchor=\"middle\" x=\"161.75\" y=\"-93.6\" font-family=\"monospace\" font-size=\"12.00\">Always</text>\n",
              "<text text-anchor=\"middle\" x=\"161.75\" y=\"-79.35\" font-family=\"monospace\" font-size=\"12.00\">◻ [0, 5]( magnitude &lt; 0.5 )</text>\n",
              "</g>\n",
              "<!-- 10806393648&#45;&gt;11597726688 -->\n",
              "<g id=\"edge1\" class=\"edge\">\n",
              "<title>10806393648&#45;&gt;11597726688</title>\n",
              "<path fill=\"none\" stroke=\"black\" d=\"M161.75,-72.32C161.75,-65.09 161.75,-56.5 161.75,-48.36\"/>\n",
              "<polygon fill=\"black\" stroke=\"black\" points=\"165.25,-48.48 161.75,-38.48 158.25,-48.48 165.25,-48.48\"/>\n",
              "</g>\n",
              "<!-- 11588546928 -->\n",
              "<g id=\"node3\" class=\"node\">\n",
              "<title>11588546928</title>\n",
              "<polygon fill=\"orange\" stroke=\"black\" points=\"226,-181.5 97.5,-181.5 97.5,-145 226,-145 226,-181.5\"/>\n",
              "<text text-anchor=\"middle\" x=\"161.75\" y=\"-166.1\" font-family=\"monospace\" font-size=\"12.00\">LessThan</text>\n",
              "<text text-anchor=\"middle\" x=\"161.75\" y=\"-151.85\" font-family=\"monospace\" font-size=\"12.00\">magnitude &lt; 0.5</text>\n",
              "</g>\n",
              "<!-- 11588546928&#45;&gt;10806393648 -->\n",
              "<g id=\"edge2\" class=\"edge\">\n",
              "<title>11588546928&#45;&gt;10806393648</title>\n",
              "<path fill=\"none\" stroke=\"black\" d=\"M161.75,-144.82C161.75,-137.59 161.75,-129 161.75,-120.86\"/>\n",
              "<polygon fill=\"black\" stroke=\"black\" points=\"165.25,-120.98 161.75,-110.98 158.25,-120.98 165.25,-120.98\"/>\n",
              "</g>\n",
              "<!-- 10804615440 -->\n",
              "<g id=\"node4\" class=\"node\">\n",
              "<title>10804615440</title>\n",
              "<polygon fill=\"lightskyblue\" stroke=\"black\" points=\"160.5,-239.75 77,-239.75 77,-217.5 160.5,-217.5 160.5,-239.75\"/>\n",
              "<text text-anchor=\"middle\" x=\"118.75\" y=\"-224.35\" font-family=\"monospace\" font-size=\"12.00\">magnitude</text>\n",
              "</g>\n",
              "<!-- 10804615440&#45;&gt;11588546928 -->\n",
              "<g id=\"edge3\" class=\"edge\">\n",
              "<title>10804615440&#45;&gt;11588546928</title>\n",
              "<path fill=\"none\" stroke=\"black\" d=\"M125.85,-217.16C130.62,-210.14 137.13,-200.54 143.3,-191.45\"/>\n",
              "<polygon fill=\"black\" stroke=\"black\" points=\"146.19,-193.42 148.91,-183.18 140.4,-189.49 146.19,-193.42\"/>\n",
              "</g>\n",
              "<!-- 6196385808 -->\n",
              "<g id=\"node5\" class=\"node\">\n",
              "<title>6196385808</title>\n",
              "<polygon fill=\"palegreen\" stroke=\"black\" points=\"232.75,-239.75 178.75,-239.75 178.75,-217.5 232.75,-217.5 232.75,-239.75\"/>\n",
              "<text text-anchor=\"middle\" x=\"205.75\" y=\"-224.35\" font-family=\"monospace\" font-size=\"12.00\">0.5</text>\n",
              "</g>\n",
              "<!-- 6196385808&#45;&gt;11588546928 -->\n",
              "<g id=\"edge4\" class=\"edge\">\n",
              "<title>6196385808&#45;&gt;11588546928</title>\n",
              "<path fill=\"none\" stroke=\"black\" d=\"M198.48,-217.16C193.56,-210.06 186.8,-200.34 180.43,-191.16\"/>\n",
              "<polygon fill=\"black\" stroke=\"black\" points=\"183.46,-189.39 174.88,-183.17 177.71,-193.38 183.46,-189.39\"/>\n",
              "</g>\n",
              "</g>\n",
              "</svg>\n"
            ],
            "text/plain": [
              "<graphviz.graphs.Digraph at 0x2b2b70e30>"
            ]
          },
          "execution_count": 30,
          "metadata": {},
          "output_type": "execute_result"
        }
      ],
      "source": [
        "# nested temporal operators\n",
        "# NOTE: temporal operatos pad signal with the value at the last time step\n",
        "ϕ = Eventually(Always(distance_to_origin < 0.5, interval=[0, 5]))\n",
        "\n",
        "if not distance_to_origin.reverse:\n",
        "    distance_to_origin.flip(time_dim)   # reverse the time signal. Expressions help keep track of it for you.\n",
        "\n",
        "ϕ(distance_to_origin);\n",
        "make_stl_graph(ϕ)\n"
      ]
    },
    {
      "cell_type": "markdown",
      "metadata": {
        "id": "V1bpm2LVCRer"
      },
      "source": [
        "### Until"
      ]
    },
    {
      "cell_type": "code",
      "execution_count": 31,
      "metadata": {
        "id": "AbQB7WW0CRer"
      },
      "outputs": [],
      "source": [
        "ϕ = Until(avoid, reach)\n",
        "\n",
        "if not distance_to_origin.reverse:\n",
        "    distance_to_origin.flip(time_dim)\n",
        "\n",
        "if not distance_to_obstacle.reverse:\n",
        "    distance_to_obstacle.flip(time_dim)\n",
        "\n",
        "ϕ((distance_to_obstacle, distance_to_origin));"
      ]
    },
    {
      "cell_type": "markdown",
      "metadata": {
        "id": "l-bt2v27CRer"
      },
      "source": [
        "### Multiple And (Or)"
      ]
    },
    {
      "cell_type": "code",
      "execution_count": 32,
      "metadata": {
        "colab": {
          "base_uri": "https://localhost:8080/",
          "height": 340
        },
        "id": "DlNhLq9JCRer",
        "outputId": "193392e8-c698-43a3-9a94-8b48e866d620"
      },
      "outputs": [
        {
          "data": {
            "image/svg+xml": [
              "<?xml version=\"1.0\" encoding=\"UTF-8\" standalone=\"no\"?>\n",
              "<!DOCTYPE svg PUBLIC \"-//W3C//DTD SVG 1.1//EN\"\n",
              " \"http://www.w3.org/Graphics/SVG/1.1/DTD/svg11.dtd\">\n",
              "<!-- Generated by graphviz version 11.0.0 (20240428.1522)\n",
              " -->\n",
              "<!-- Pages: 1 -->\n",
              "<svg width=\"607pt\" height=\"248pt\"\n",
              " viewBox=\"0.00 0.00 606.50 247.75\" xmlns=\"http://www.w3.org/2000/svg\" xmlns:xlink=\"http://www.w3.org/1999/xlink\">\n",
              "<g id=\"graph0\" class=\"graph\" transform=\"scale(1 1) rotate(0) translate(4 243.75)\">\n",
              "<polygon fill=\"white\" stroke=\"none\" points=\"-4,4 -4,-243.75 602.5,-243.75 602.5,4 -4,4\"/>\n",
              "<!-- 11626788000 -->\n",
              "<g id=\"node1\" class=\"node\">\n",
              "<title>11626788000</title>\n",
              "<polygon fill=\"orange\" stroke=\"black\" points=\"593.5,-36.5 0,-36.5 0,0 593.5,0 593.5,-36.5\"/>\n",
              "<text text-anchor=\"middle\" x=\"296.75\" y=\"-21.1\" font-family=\"monospace\" font-size=\"12.00\">And</text>\n",
              "<text text-anchor=\"middle\" x=\"296.75\" y=\"-6.85\" font-family=\"monospace\" font-size=\"12.00\">((distance_to_obs &gt; 0.5) ∧ (distance_to_obs &gt; 0.5)) ∧ (distance_to_obs &gt; 0.5)</text>\n",
              "</g>\n",
              "<!-- 11902754528 -->\n",
              "<g id=\"node2\" class=\"node\">\n",
              "<title>11902754528</title>\n",
              "<polygon fill=\"orange\" stroke=\"black\" points=\"598.5,-109 215,-109 215,-72.5 598.5,-72.5 598.5,-109\"/>\n",
              "<text text-anchor=\"middle\" x=\"406.75\" y=\"-93.6\" font-family=\"monospace\" font-size=\"12.00\">And</text>\n",
              "<text text-anchor=\"middle\" x=\"406.75\" y=\"-79.35\" font-family=\"monospace\" font-size=\"12.00\">(distance_to_obs &gt; 0.5) ∧ (distance_to_obs &gt; 0.5)</text>\n",
              "</g>\n",
              "<!-- 11902754528&#45;&gt;11626788000 -->\n",
              "<g id=\"edge1\" class=\"edge\">\n",
              "<title>11902754528&#45;&gt;11626788000</title>\n",
              "<path fill=\"none\" stroke=\"black\" d=\"M379.28,-72.14C365.5,-63.31 348.61,-52.49 333.71,-42.94\"/>\n",
              "<polygon fill=\"black\" stroke=\"black\" points=\"335.84,-40.14 325.53,-37.69 332.06,-46.04 335.84,-40.14\"/>\n",
              "</g>\n",
              "<!-- 11833792736 -->\n",
              "<g id=\"node3\" class=\"node\">\n",
              "<title>11833792736</title>\n",
              "<polygon fill=\"orange\" stroke=\"black\" points=\"493.5,-181.5 320,-181.5 320,-145 493.5,-145 493.5,-181.5\"/>\n",
              "<text text-anchor=\"middle\" x=\"406.75\" y=\"-166.1\" font-family=\"monospace\" font-size=\"12.00\">GreaterThan</text>\n",
              "<text text-anchor=\"middle\" x=\"406.75\" y=\"-151.85\" font-family=\"monospace\" font-size=\"12.00\">distance_to_obs &gt; 0.5</text>\n",
              "</g>\n",
              "<!-- 11833792736&#45;&gt;11626788000 -->\n",
              "<g id=\"edge8\" class=\"edge\">\n",
              "<title>11833792736&#45;&gt;11626788000</title>\n",
              "<path fill=\"none\" stroke=\"black\" d=\"M319.55,-149.86C272.07,-141.14 220.12,-127.67 205.75,-109 195.86,-96.14 197.68,-86.57 205.75,-72.5 213.01,-59.85 224.56,-49.91 237.04,-42.23\"/>\n",
              "<polygon fill=\"black\" stroke=\"black\" points=\"238.39,-45.48 245.38,-37.53 234.95,-39.38 238.39,-45.48\"/>\n",
              "</g>\n",
              "<!-- 11833792736&#45;&gt;11902754528 -->\n",
              "<g id=\"edge2\" class=\"edge\">\n",
              "<title>11833792736&#45;&gt;11902754528</title>\n",
              "<path fill=\"none\" stroke=\"black\" d=\"M400.83,-144.82C400.09,-137.59 399.85,-129 400.09,-120.86\"/>\n",
              "<polygon fill=\"black\" stroke=\"black\" points=\"403.58,-121.18 400.71,-110.98 396.59,-120.74 403.58,-121.18\"/>\n",
              "</g>\n",
              "<!-- 11833792736&#45;&gt;11902754528 -->\n",
              "<g id=\"edge5\" class=\"edge\">\n",
              "<title>11833792736&#45;&gt;11902754528</title>\n",
              "<path fill=\"none\" stroke=\"black\" d=\"M412.67,-144.82C413.41,-137.59 413.65,-129 413.41,-120.86\"/>\n",
              "<polygon fill=\"black\" stroke=\"black\" points=\"416.91,-120.74 412.79,-110.98 409.92,-121.18 416.91,-120.74\"/>\n",
              "</g>\n",
              "<!-- 10806216944 -->\n",
              "<g id=\"node4\" class=\"node\">\n",
              "<title>10806216944</title>\n",
              "<polygon fill=\"lightskyblue\" stroke=\"black\" points=\"417,-239.75 288.5,-239.75 288.5,-217.5 417,-217.5 417,-239.75\"/>\n",
              "<text text-anchor=\"middle\" x=\"352.75\" y=\"-224.35\" font-family=\"monospace\" font-size=\"12.00\">distance_to_obs</text>\n",
              "</g>\n",
              "<!-- 10806216944&#45;&gt;11833792736 -->\n",
              "<g id=\"edge3\" class=\"edge\">\n",
              "<title>10806216944&#45;&gt;11833792736</title>\n",
              "<path fill=\"none\" stroke=\"black\" d=\"M351.33,-217.16C354.98,-209.76 362.73,-199.51 371.52,-190\"/>\n",
              "<polygon fill=\"black\" stroke=\"black\" points=\"373.88,-192.6 378.38,-183.01 368.88,-187.7 373.88,-192.6\"/>\n",
              "</g>\n",
              "<!-- 10806216944&#45;&gt;11833792736 -->\n",
              "<g id=\"edge6\" class=\"edge\">\n",
              "<title>10806216944&#45;&gt;11833792736</title>\n",
              "<path fill=\"none\" stroke=\"black\" d=\"M361.67,-217.16C367.84,-209.91 376.35,-199.93 384.32,-190.58\"/>\n",
              "<polygon fill=\"black\" stroke=\"black\" points=\"386.89,-192.96 390.71,-183.08 381.56,-188.42 386.89,-192.96\"/>\n",
              "</g>\n",
              "<!-- 10806216944&#45;&gt;11833792736 -->\n",
              "<g id=\"edge9\" class=\"edge\">\n",
              "<title>10806216944&#45;&gt;11833792736</title>\n",
              "<path fill=\"none\" stroke=\"black\" d=\"M372,-217.16C380.6,-210.06 389.9,-200.34 397.18,-191.16\"/>\n",
              "<polygon fill=\"black\" stroke=\"black\" points=\"399.97,-193.28 403.05,-183.15 394.32,-189.15 399.97,-193.28\"/>\n",
              "</g>\n",
              "<!-- 10805392592 -->\n",
              "<g id=\"node5\" class=\"node\">\n",
              "<title>10805392592</title>\n",
              "<polygon fill=\"palegreen\" stroke=\"black\" points=\"488.75,-239.75 434.75,-239.75 434.75,-217.5 488.75,-217.5 488.75,-239.75\"/>\n",
              "<text text-anchor=\"middle\" x=\"461.75\" y=\"-224.35\" font-family=\"monospace\" font-size=\"12.00\">0.5</text>\n",
              "</g>\n",
              "<!-- 10805392592&#45;&gt;11833792736 -->\n",
              "<g id=\"edge4\" class=\"edge\">\n",
              "<title>10805392592&#45;&gt;11833792736</title>\n",
              "<path fill=\"none\" stroke=\"black\" d=\"M442.34,-217.16C433.53,-209.99 423.97,-200.13 416.51,-190.87\"/>\n",
              "<polygon fill=\"black\" stroke=\"black\" points=\"419.53,-189.06 410.74,-183.14 413.91,-193.25 419.53,-189.06\"/>\n",
              "</g>\n",
              "<!-- 10805392592&#45;&gt;11833792736 -->\n",
              "<g id=\"edge7\" class=\"edge\">\n",
              "<title>10805392592&#45;&gt;11833792736</title>\n",
              "<path fill=\"none\" stroke=\"black\" d=\"M452.67,-217.16C446.38,-209.91 437.71,-199.93 429.6,-190.58\"/>\n",
              "<polygon fill=\"black\" stroke=\"black\" points=\"432.28,-188.33 423.08,-183.07 426.99,-192.91 432.28,-188.33\"/>\n",
              "</g>\n",
              "<!-- 10805392592&#45;&gt;11833792736 -->\n",
              "<g id=\"edge10\" class=\"edge\">\n",
              "<title>10805392592&#45;&gt;11833792736</title>\n",
              "<path fill=\"none\" stroke=\"black\" d=\"M463,-217.16C459.24,-209.76 451.33,-199.51 442.39,-190\"/>\n",
              "<polygon fill=\"black\" stroke=\"black\" points=\"444.94,-187.61 435.41,-183 439.99,-192.55 444.94,-187.61\"/>\n",
              "</g>\n",
              "</g>\n",
              "</svg>\n"
            ],
            "text/plain": [
              "<graphviz.graphs.Digraph at 0x2d5f3f500>"
            ]
          },
          "execution_count": 32,
          "metadata": {},
          "output_type": "execute_result"
        }
      ],
      "source": [
        "ψ = distance_to_obstacle > 0.5\n",
        "ϕ = ψ & ψ & ψ  # equivalent to (ψ & ψ) & ψ  this formula is redundant, but just demonstrating functionality\n",
        "ϕ(((distance_to_obstacle,distance_to_obstacle), distance_to_obstacle));\n",
        "make_stl_graph(ϕ)\n",
        "\n",
        "# similarly, you can do this with Or --> ψ | ψ | ψ\n"
      ]
    },
    {
      "cell_type": "markdown",
      "metadata": {
        "id": "laUYW_xQCRer"
      },
      "source": [
        "### Implies"
      ]
    },
    {
      "cell_type": "code",
      "execution_count": 33,
      "metadata": {
        "colab": {
          "base_uri": "https://localhost:8080/",
          "height": 340
        },
        "id": "n60vd2tmCRer",
        "outputId": "7262cfa1-5044-4d3e-a79a-297c4f194275"
      },
      "outputs": [
        {
          "data": {
            "image/svg+xml": [
              "<?xml version=\"1.0\" encoding=\"UTF-8\" standalone=\"no\"?>\n",
              "<!DOCTYPE svg PUBLIC \"-//W3C//DTD SVG 1.1//EN\"\n",
              " \"http://www.w3.org/Graphics/SVG/1.1/DTD/svg11.dtd\">\n",
              "<!-- Generated by graphviz version 11.0.0 (20240428.1522)\n",
              " -->\n",
              "<!-- Pages: 1 -->\n",
              "<svg width=\"559pt\" height=\"248pt\"\n",
              " viewBox=\"0.00 0.00 558.50 247.75\" xmlns=\"http://www.w3.org/2000/svg\" xmlns:xlink=\"http://www.w3.org/1999/xlink\">\n",
              "<g id=\"graph0\" class=\"graph\" transform=\"scale(1 1) rotate(0) translate(4 243.75)\">\n",
              "<polygon fill=\"white\" stroke=\"none\" points=\"-4,4 -4,-243.75 554.5,-243.75 554.5,4 -4,4\"/>\n",
              "<!-- 11833794080 -->\n",
              "<g id=\"node1\" class=\"node\">\n",
              "<title>11833794080</title>\n",
              "<polygon fill=\"orange\" stroke=\"black\" points=\"550.5,-36.5 2,-36.5 2,0 550.5,0 550.5,-36.5\"/>\n",
              "<text text-anchor=\"middle\" x=\"276.25\" y=\"-21.1\" font-family=\"monospace\" font-size=\"12.00\">Implies</text>\n",
              "<text text-anchor=\"middle\" x=\"276.25\" y=\"-6.85\" font-family=\"monospace\" font-size=\"12.00\">(◻ [0, inf]( distance_to_obs &gt; 0.5 )) ⇒ (♢ [0, inf]( magnitude &lt; 0.5 ))</text>\n",
              "</g>\n",
              "<!-- 10760527344 -->\n",
              "<g id=\"node2\" class=\"node\">\n",
              "<title>10760527344</title>\n",
              "<polygon fill=\"orange\" stroke=\"black\" points=\"278.5,-109 0,-109 0,-72.5 278.5,-72.5 278.5,-109\"/>\n",
              "<text text-anchor=\"middle\" x=\"139.25\" y=\"-93.6\" font-family=\"monospace\" font-size=\"12.00\">Always</text>\n",
              "<text text-anchor=\"middle\" x=\"139.25\" y=\"-79.35\" font-family=\"monospace\" font-size=\"12.00\">◻ [0, inf]( distance_to_obs &gt; 0.5 )</text>\n",
              "</g>\n",
              "<!-- 10760527344&#45;&gt;11833794080 -->\n",
              "<g id=\"edge1\" class=\"edge\">\n",
              "<title>10760527344&#45;&gt;11833794080</title>\n",
              "<path fill=\"none\" stroke=\"black\" d=\"M173.47,-72.14C191.12,-63.06 212.87,-51.87 231.81,-42.12\"/>\n",
              "<polygon fill=\"black\" stroke=\"black\" points=\"233.36,-45.26 240.65,-37.57 230.15,-39.03 233.36,-45.26\"/>\n",
              "</g>\n",
              "<!-- 11585626784 -->\n",
              "<g id=\"node3\" class=\"node\">\n",
              "<title>11585626784</title>\n",
              "<polygon fill=\"orange\" stroke=\"black\" points=\"226,-181.5 52.5,-181.5 52.5,-145 226,-145 226,-181.5\"/>\n",
              "<text text-anchor=\"middle\" x=\"139.25\" y=\"-166.1\" font-family=\"monospace\" font-size=\"12.00\">GreaterThan</text>\n",
              "<text text-anchor=\"middle\" x=\"139.25\" y=\"-151.85\" font-family=\"monospace\" font-size=\"12.00\">distance_to_obs &gt; 0.5</text>\n",
              "</g>\n",
              "<!-- 11585626784&#45;&gt;10760527344 -->\n",
              "<g id=\"edge2\" class=\"edge\">\n",
              "<title>11585626784&#45;&gt;10760527344</title>\n",
              "<path fill=\"none\" stroke=\"black\" d=\"M139.25,-144.82C139.25,-137.59 139.25,-129 139.25,-120.86\"/>\n",
              "<polygon fill=\"black\" stroke=\"black\" points=\"142.75,-120.98 139.25,-110.98 135.75,-120.98 142.75,-120.98\"/>\n",
              "</g>\n",
              "<!-- 10806216944 -->\n",
              "<g id=\"node4\" class=\"node\">\n",
              "<title>10806216944</title>\n",
              "<polygon fill=\"lightskyblue\" stroke=\"black\" points=\"149.5,-239.75 21,-239.75 21,-217.5 149.5,-217.5 149.5,-239.75\"/>\n",
              "<text text-anchor=\"middle\" x=\"85.25\" y=\"-224.35\" font-family=\"monospace\" font-size=\"12.00\">distance_to_obs</text>\n",
              "</g>\n",
              "<!-- 10806216944&#45;&gt;11585626784 -->\n",
              "<g id=\"edge3\" class=\"edge\">\n",
              "<title>10806216944&#45;&gt;11585626784</title>\n",
              "<path fill=\"none\" stroke=\"black\" d=\"M94.17,-217.16C100.34,-209.91 108.85,-199.93 116.82,-190.58\"/>\n",
              "<polygon fill=\"black\" stroke=\"black\" points=\"119.39,-192.96 123.21,-183.08 114.06,-188.42 119.39,-192.96\"/>\n",
              "</g>\n",
              "<!-- 10805379152 -->\n",
              "<g id=\"node5\" class=\"node\">\n",
              "<title>10805379152</title>\n",
              "<polygon fill=\"palegreen\" stroke=\"black\" points=\"221.25,-239.75 167.25,-239.75 167.25,-217.5 221.25,-217.5 221.25,-239.75\"/>\n",
              "<text text-anchor=\"middle\" x=\"194.25\" y=\"-224.35\" font-family=\"monospace\" font-size=\"12.00\">0.5</text>\n",
              "</g>\n",
              "<!-- 10805379152&#45;&gt;11585626784 -->\n",
              "<g id=\"edge4\" class=\"edge\">\n",
              "<title>10805379152&#45;&gt;11585626784</title>\n",
              "<path fill=\"none\" stroke=\"black\" d=\"M185.17,-217.16C178.88,-209.91 170.21,-199.93 162.1,-190.58\"/>\n",
              "<polygon fill=\"black\" stroke=\"black\" points=\"164.78,-188.33 155.58,-183.07 159.49,-192.91 164.78,-188.33\"/>\n",
              "</g>\n",
              "<!-- 10805139296 -->\n",
              "<g id=\"node6\" class=\"node\">\n",
              "<title>10805139296</title>\n",
              "<polygon fill=\"orange\" stroke=\"black\" points=\"530,-109 296.5,-109 296.5,-72.5 530,-72.5 530,-109\"/>\n",
              "<text text-anchor=\"middle\" x=\"413.25\" y=\"-93.6\" font-family=\"monospace\" font-size=\"12.00\">Eventually</text>\n",
              "<text text-anchor=\"middle\" x=\"413.25\" y=\"-79.35\" font-family=\"monospace\" font-size=\"12.00\">♢ [0, inf]( magnitude &lt; 0.5 )</text>\n",
              "</g>\n",
              "<!-- 10805139296&#45;&gt;11833794080 -->\n",
              "<g id=\"edge5\" class=\"edge\">\n",
              "<title>10805139296&#45;&gt;11833794080</title>\n",
              "<path fill=\"none\" stroke=\"black\" d=\"M379.03,-72.14C361.38,-63.06 339.63,-51.87 320.69,-42.12\"/>\n",
              "<polygon fill=\"black\" stroke=\"black\" points=\"322.35,-39.03 311.85,-37.57 319.14,-45.26 322.35,-39.03\"/>\n",
              "</g>\n",
              "<!-- 10805149472 -->\n",
              "<g id=\"node7\" class=\"node\">\n",
              "<title>10805149472</title>\n",
              "<polygon fill=\"orange\" stroke=\"black\" points=\"477.5,-181.5 349,-181.5 349,-145 477.5,-145 477.5,-181.5\"/>\n",
              "<text text-anchor=\"middle\" x=\"413.25\" y=\"-166.1\" font-family=\"monospace\" font-size=\"12.00\">LessThan</text>\n",
              "<text text-anchor=\"middle\" x=\"413.25\" y=\"-151.85\" font-family=\"monospace\" font-size=\"12.00\">magnitude &lt; 0.5</text>\n",
              "</g>\n",
              "<!-- 10805149472&#45;&gt;10805139296 -->\n",
              "<g id=\"edge6\" class=\"edge\">\n",
              "<title>10805149472&#45;&gt;10805139296</title>\n",
              "<path fill=\"none\" stroke=\"black\" d=\"M413.25,-144.82C413.25,-137.59 413.25,-129 413.25,-120.86\"/>\n",
              "<polygon fill=\"black\" stroke=\"black\" points=\"416.75,-120.98 413.25,-110.98 409.75,-120.98 416.75,-120.98\"/>\n",
              "</g>\n",
              "<!-- 10804615440 -->\n",
              "<g id=\"node8\" class=\"node\">\n",
              "<title>10804615440</title>\n",
              "<polygon fill=\"lightskyblue\" stroke=\"black\" points=\"412,-239.75 328.5,-239.75 328.5,-217.5 412,-217.5 412,-239.75\"/>\n",
              "<text text-anchor=\"middle\" x=\"370.25\" y=\"-224.35\" font-family=\"monospace\" font-size=\"12.00\">magnitude</text>\n",
              "</g>\n",
              "<!-- 10804615440&#45;&gt;10805149472 -->\n",
              "<g id=\"edge7\" class=\"edge\">\n",
              "<title>10804615440&#45;&gt;10805149472</title>\n",
              "<path fill=\"none\" stroke=\"black\" d=\"M377.35,-217.16C382.12,-210.14 388.63,-200.54 394.8,-191.45\"/>\n",
              "<polygon fill=\"black\" stroke=\"black\" points=\"397.69,-193.42 400.41,-183.18 391.9,-189.49 397.69,-193.42\"/>\n",
              "</g>\n",
              "<!-- 10805386352 -->\n",
              "<g id=\"node9\" class=\"node\">\n",
              "<title>10805386352</title>\n",
              "<polygon fill=\"palegreen\" stroke=\"black\" points=\"484.25,-239.75 430.25,-239.75 430.25,-217.5 484.25,-217.5 484.25,-239.75\"/>\n",
              "<text text-anchor=\"middle\" x=\"457.25\" y=\"-224.35\" font-family=\"monospace\" font-size=\"12.00\">0.5</text>\n",
              "</g>\n",
              "<!-- 10805386352&#45;&gt;10805149472 -->\n",
              "<g id=\"edge8\" class=\"edge\">\n",
              "<title>10805386352&#45;&gt;10805149472</title>\n",
              "<path fill=\"none\" stroke=\"black\" d=\"M449.98,-217.16C445.06,-210.06 438.3,-200.34 431.93,-191.16\"/>\n",
              "<polygon fill=\"black\" stroke=\"black\" points=\"434.96,-189.39 426.38,-183.17 429.21,-193.38 434.96,-189.39\"/>\n",
              "</g>\n",
              "</g>\n",
              "</svg>\n"
            ],
            "text/plain": [
              "<graphviz.graphs.Digraph at 0x2d5f3e5d0>"
            ]
          },
          "execution_count": 33,
          "metadata": {},
          "output_type": "execute_result"
        }
      ],
      "source": [
        "ϕ = Implies(avoid, reach)\n",
        "ϕ((distance_to_obstacle,distance_to_obstacle));\n",
        "make_stl_graph(ϕ)\n"
      ]
    },
    {
      "cell_type": "code",
      "execution_count": null,
      "metadata": {
        "id": "MPfq1hy7CRer"
      },
      "outputs": [],
      "source": []
    }
  ],
  "metadata": {
    "colab": {
      "include_colab_link": true,
      "provenance": []
    },
    "kernelspec": {
      "display_name": "stljax",
      "language": "python",
      "name": "python3"
    },
    "language_info": {
      "codemirror_mode": {
        "name": "ipython",
        "version": 3
      },
      "file_extension": ".py",
      "mimetype": "text/x-python",
      "name": "python",
      "nbconvert_exporter": "python",
      "pygments_lexer": "ipython3",
      "version": "3.12.4"
    }
  },
  "nbformat": 4,
  "nbformat_minor": 0
}
